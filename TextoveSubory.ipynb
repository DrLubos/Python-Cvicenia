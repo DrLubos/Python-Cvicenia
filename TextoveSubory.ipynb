{
 "cells": [
  {
   "cell_type": "markdown",
   "id": "516fd754-d486-444f-843b-42c6d2468705",
   "metadata": {},
   "source": [
    "# Textove subory"
   ]
  },
  {
   "cell_type": "code",
   "execution_count": 5,
   "id": "e9971360-92e0-4cc7-83b2-a777c23f6045",
   "metadata": {
    "tags": []
   },
   "outputs": [],
   "source": [
    "# open, close\n",
    "# citanie\n",
    "f = open('pg481.txt')"
   ]
  },
  {
   "cell_type": "code",
   "execution_count": 5,
   "id": "31ec4d89-5a84-4c16-ab17-427739fbadf7",
   "metadata": {
    "tags": []
   },
   "outputs": [
    {
     "data": {
      "text/plain": [
       "_io.TextIOWrapper"
      ]
     },
     "execution_count": 5,
     "metadata": {},
     "output_type": "execute_result"
    }
   ],
   "source": [
    "type(f)"
   ]
  },
  {
   "cell_type": "code",
   "execution_count": null,
   "id": "b0754fbc-5945-422f-af97-45c6a2481c97",
   "metadata": {
    "tags": []
   },
   "outputs": [],
   "source": [
    "# cely subor do jedneho stringu\n",
    "f.read()"
   ]
  },
  {
   "cell_type": "code",
   "execution_count": 21,
   "id": "c946b7a8-bc80-4f84-b34c-46e6f17d6d49",
   "metadata": {
    "tags": []
   },
   "outputs": [
    {
     "data": {
      "text/plain": [
       "0"
      ]
     },
     "execution_count": 21,
     "metadata": {},
     "output_type": "execute_result"
    }
   ],
   "source": [
    "# navrat na zaciatok streamu\n",
    "f.seek(0)"
   ]
  },
  {
   "cell_type": "code",
   "execution_count": 17,
   "id": "67337470-a21f-4619-8e66-996522a1d356",
   "metadata": {
    "tags": []
   },
   "outputs": [
    {
     "data": {
      "text/plain": [
       "'The Project Gutenberg eBook of The call of the wild\\n'"
      ]
     },
     "execution_count": 17,
     "metadata": {},
     "output_type": "execute_result"
    }
   ],
   "source": [
    "# jeden riadok\n",
    "f.readline()"
   ]
  },
  {
   "cell_type": "code",
   "execution_count": null,
   "id": "88c3a52b-c486-4e7f-8bee-29638ffba1a8",
   "metadata": {
    "tags": []
   },
   "outputs": [],
   "source": [
    "# zoznam vsetkych riadkov\n",
    "f.readlines()"
   ]
  },
  {
   "cell_type": "code",
   "execution_count": 22,
   "id": "a98f7894-d113-4144-887c-0d5fc50a6f25",
   "metadata": {
    "tags": []
   },
   "outputs": [],
   "source": [
    "f.close()"
   ]
  },
  {
   "cell_type": "code",
   "execution_count": 7,
   "id": "45464abb-d3fc-400d-bbdc-96e50a424914",
   "metadata": {
    "tags": []
   },
   "outputs": [
    {
     "data": {
      "text/plain": [
       "4075"
      ]
     },
     "execution_count": 7,
     "metadata": {},
     "output_type": "execute_result"
    }
   ],
   "source": [
    "# Priklad 1: najst slovo father\n",
    "f = open('pg481.txt')\n",
    "retazec = f.read()\n",
    "f.close()\n",
    "retazec.find(\"father\")"
   ]
  },
  {
   "cell_type": "code",
   "execution_count": 26,
   "id": "60bfaedc-44b4-4061-8c9b-5443a879134f",
   "metadata": {
    "tags": []
   },
   "outputs": [
    {
     "data": {
      "text/plain": [
       "'father'"
      ]
     },
     "execution_count": 26,
     "metadata": {},
     "output_type": "execute_result"
    }
   ],
   "source": [
    "# skuska spravnosti\n",
    "retazec[4075:4081]"
   ]
  },
  {
   "cell_type": "code",
   "execution_count": 10,
   "id": "5167c64f-3934-46ea-a4a7-f8e998cd29d7",
   "metadata": {
    "tags": []
   },
   "outputs": [
    {
     "data": {
      "text/plain": [
       "3605"
      ]
     },
     "execution_count": 10,
     "metadata": {},
     "output_type": "execute_result"
    }
   ],
   "source": [
    "# Priklad 2: kolko krat \n",
    "retazec.count('f') + retazec.count(\"F\")"
   ]
  },
  {
   "cell_type": "code",
   "execution_count": 18,
   "id": "7eaae477-d53a-4d30-b484-ef95cc971917",
   "metadata": {
    "tags": []
   },
   "outputs": [],
   "source": [
    "retazec = retazec.lower()"
   ]
  },
  {
   "cell_type": "markdown",
   "id": "d1d4ca8f-e484-49d3-af33-40eec67ea493",
   "metadata": {},
   "source": [
    "### Priklad: Frekvencna tabulka"
   ]
  },
  {
   "cell_type": "code",
   "execution_count": 2,
   "id": "d930f601-18c8-4f1e-8399-9f3b63ce0957",
   "metadata": {},
   "outputs": [
    {
     "data": {
      "text/plain": [
       "'abcdefghijklmnopqrstuvwxyz'"
      ]
     },
     "execution_count": 2,
     "metadata": {},
     "output_type": "execute_result"
    }
   ],
   "source": [
    "from string import ascii_lowercase as pismena\n",
    "pismena"
   ]
  },
  {
   "cell_type": "code",
   "execution_count": 19,
   "id": "a1103901-8c28-4ba9-a1fb-5bcc0fc429ae",
   "metadata": {
    "tags": []
   },
   "outputs": [],
   "source": [
    "tab = {i:retazec.count(i) for i in pismena}"
   ]
  },
  {
   "cell_type": "code",
   "execution_count": 20,
   "id": "4e52a4f3-a771-403e-9ce8-eaa5972a6eb9",
   "metadata": {
    "tags": []
   },
   "outputs": [
    {
     "data": {
      "text/plain": [
       "3605"
      ]
     },
     "execution_count": 20,
     "metadata": {},
     "output_type": "execute_result"
    }
   ],
   "source": [
    "tab['f']"
   ]
  },
  {
   "cell_type": "code",
   "execution_count": 40,
   "id": "51cd32a9-2f81-4f96-81c3-6d6d313672b9",
   "metadata": {},
   "outputs": [
    {
     "data": {
      "text/plain": [
       "[(19089, 'e'),\n",
       " (14117, 't'),\n",
       " (12121, 'a'),\n",
       " (10933, 'n'),\n",
       " (10782, 'o'),\n",
       " (10349, 'h'),\n",
       " (9716, 'i'),\n",
       " (8986, 'r'),\n",
       " (8981, 's'),\n",
       " (7892, 'd'),\n",
       " (6016, 'l'),\n",
       " (4262, 'u'),\n",
       " (3975, 'c'),\n",
       " (3968, 'w'),\n",
       " (3729, 'g'),\n",
       " (3605, 'f'),\n",
       " (3284, 'm'),\n",
       " (2706, 'p'),\n",
       " (2575, 'b'),\n",
       " (2453, 'y'),\n",
       " (1775, 'k'),\n",
       " (1190, 'v'),\n",
       " (254, 'j'),\n",
       " (174, 'x'),\n",
       " (173, 'z'),\n",
       " (105, 'q')]"
      ]
     },
     "execution_count": 40,
     "metadata": {},
     "output_type": "execute_result"
    }
   ],
   "source": [
    "# usporiadat podla frekvencie\n",
    "list = []\n",
    "for i in tab.keys():\n",
    "    touple = ()\n",
    "    touple = (tab.get(i), i)\n",
    "    list.append(touple)\n",
    "list.sort()\n",
    "list.reverse()\n",
    "list"
   ]
  },
  {
   "cell_type": "code",
   "execution_count": 41,
   "id": "28f77b89-a24a-452b-b909-865315fb4d42",
   "metadata": {
    "tags": []
   },
   "outputs": [
    {
     "data": {
      "text/plain": [
       "[('e', 19089),\n",
       " ('t', 14117),\n",
       " ('a', 12121),\n",
       " ('n', 10933),\n",
       " ('o', 10782),\n",
       " ('h', 10349),\n",
       " ('i', 9716),\n",
       " ('r', 8986),\n",
       " ('s', 8981),\n",
       " ('d', 7892),\n",
       " ('l', 6016),\n",
       " ('u', 4262),\n",
       " ('c', 3975),\n",
       " ('w', 3968),\n",
       " ('g', 3729),\n",
       " ('f', 3605),\n",
       " ('m', 3284),\n",
       " ('p', 2706),\n",
       " ('b', 2575),\n",
       " ('y', 2453),\n",
       " ('k', 1775),\n",
       " ('v', 1190),\n",
       " ('j', 254),\n",
       " ('x', 174),\n",
       " ('z', 173),\n",
       " ('q', 105)]"
      ]
     },
     "execution_count": 41,
     "metadata": {},
     "output_type": "execute_result"
    }
   ],
   "source": [
    "sorted(tab.items(), key = lambda i:i[1], reverse = True)"
   ]
  },
  {
   "cell_type": "markdown",
   "id": "d8cd65f8-02a7-4d2d-89ea-6aa74efe562d",
   "metadata": {},
   "source": [
    "### Large sum\n",
    "<p>Work out the first ten digits of the sum of the following one-hundred 50-digit numbers.</p>\n",
    "<div class=\"monospace center\">\n",
    "37107287533902102798797998220837590246510135740250<br>\n",
    "46376937677490009712648124896970078050417018260538<br>\n",
    "74324986199524741059474233309513058123726617309629<br>\n",
    "91942213363574161572522430563301811072406154908250<br>\n",
    "23067588207539346171171980310421047513778063246676<br>\n",
    "89261670696623633820136378418383684178734361726757<br>\n",
    "28112879812849979408065481931592621691275889832738<br>\n",
    "44274228917432520321923589422876796487670272189318<br>\n",
    "47451445736001306439091167216856844588711603153276<br>\n",
    "70386486105843025439939619828917593665686757934951<br>\n",
    "62176457141856560629502157223196586755079324193331<br>\n",
    "64906352462741904929101432445813822663347944758178<br>\n",
    "92575867718337217661963751590579239728245598838407<br>\n",
    "58203565325359399008402633568948830189458628227828<br>\n",
    "80181199384826282014278194139940567587151170094390<br>\n",
    "35398664372827112653829987240784473053190104293586<br>\n",
    "86515506006295864861532075273371959191420517255829<br>\n",
    "71693888707715466499115593487603532921714970056938<br>\n",
    "54370070576826684624621495650076471787294438377604<br>\n",
    "53282654108756828443191190634694037855217779295145<br>\n",
    "36123272525000296071075082563815656710885258350721<br>\n",
    "45876576172410976447339110607218265236877223636045<br>\n",
    "17423706905851860660448207621209813287860733969412<br>\n",
    "81142660418086830619328460811191061556940512689692<br>\n",
    "51934325451728388641918047049293215058642563049483<br>\n",
    "62467221648435076201727918039944693004732956340691<br>\n",
    "15732444386908125794514089057706229429197107928209<br>\n",
    "55037687525678773091862540744969844508330393682126<br>\n",
    "18336384825330154686196124348767681297534375946515<br>\n",
    "80386287592878490201521685554828717201219257766954<br>\n",
    "78182833757993103614740356856449095527097864797581<br>\n",
    "16726320100436897842553539920931837441497806860984<br>\n",
    "48403098129077791799088218795327364475675590848030<br>\n",
    "87086987551392711854517078544161852424320693150332<br>\n",
    "59959406895756536782107074926966537676326235447210<br>\n",
    "69793950679652694742597709739166693763042633987085<br>\n",
    "41052684708299085211399427365734116182760315001271<br>\n",
    "65378607361501080857009149939512557028198746004375<br>\n",
    "35829035317434717326932123578154982629742552737307<br>\n",
    "94953759765105305946966067683156574377167401875275<br>\n",
    "88902802571733229619176668713819931811048770190271<br>\n",
    "25267680276078003013678680992525463401061632866526<br>\n",
    "36270218540497705585629946580636237993140746255962<br>\n",
    "24074486908231174977792365466257246923322810917141<br>\n",
    "91430288197103288597806669760892938638285025333403<br>\n",
    "34413065578016127815921815005561868836468420090470<br>\n",
    "23053081172816430487623791969842487255036638784583<br>\n",
    "11487696932154902810424020138335124462181441773470<br>\n",
    "63783299490636259666498587618221225225512486764533<br>\n",
    "67720186971698544312419572409913959008952310058822<br>\n",
    "95548255300263520781532296796249481641953868218774<br>\n",
    "76085327132285723110424803456124867697064507995236<br>\n",
    "37774242535411291684276865538926205024910326572967<br>\n",
    "23701913275725675285653248258265463092207058596522<br>\n",
    "29798860272258331913126375147341994889534765745501<br>\n",
    "18495701454879288984856827726077713721403798879715<br>\n",
    "38298203783031473527721580348144513491373226651381<br>\n",
    "34829543829199918180278916522431027392251122869539<br>\n",
    "40957953066405232632538044100059654939159879593635<br>\n",
    "29746152185502371307642255121183693803580388584903<br>\n",
    "41698116222072977186158236678424689157993532961922<br>\n",
    "62467957194401269043877107275048102390895523597457<br>\n",
    "23189706772547915061505504953922979530901129967519<br>\n",
    "86188088225875314529584099251203829009407770775672<br>\n",
    "11306739708304724483816533873502340845647058077308<br>\n",
    "82959174767140363198008187129011875491310547126581<br>\n",
    "97623331044818386269515456334926366572897563400500<br>\n",
    "42846280183517070527831839425882145521227251250327<br>\n",
    "55121603546981200581762165212827652751691296897789<br>\n",
    "32238195734329339946437501907836945765883352399886<br>\n",
    "75506164965184775180738168837861091527357929701337<br>\n",
    "62177842752192623401942399639168044983993173312731<br>\n",
    "32924185707147349566916674687634660915035914677504<br>\n",
    "99518671430235219628894890102423325116913619626622<br>\n",
    "73267460800591547471830798392868535206946944540724<br>\n",
    "76841822524674417161514036427982273348055556214818<br>\n",
    "97142617910342598647204516893989422179826088076852<br>\n",
    "87783646182799346313767754307809363333018982642090<br>\n",
    "10848802521674670883215120185883543223812876952786<br>\n",
    "71329612474782464538636993009049310363619763878039<br>\n",
    "62184073572399794223406235393808339651327408011116<br>\n",
    "66627891981488087797941876876144230030984490851411<br>\n",
    "60661826293682836764744779239180335110989069790714<br>\n",
    "85786944089552990653640447425576083659976645795096<br>\n",
    "66024396409905389607120198219976047599490197230297<br>\n",
    "64913982680032973156037120041377903785566085089252<br>\n",
    "16730939319872750275468906903707539413042652315011<br>\n",
    "94809377245048795150954100921645863754710598436791<br>\n",
    "78639167021187492431995700641917969777599028300699<br>\n",
    "15368713711936614952811305876380278410754449733078<br>\n",
    "40789923115535562561142322423255033685442488917353<br>\n",
    "44889911501440648020369068063960672322193204149535<br>\n",
    "41503128880339536053299340368006977710650566631954<br>\n",
    "81234880673210146739058568557934581403627822703280<br>\n",
    "82616570773948327592232845941706525094512325230608<br>\n",
    "22918802058777319719839450180888072429661980811197<br>\n",
    "77158542502016545090413245809786882778948721859617<br>\n",
    "72107838435069186155435662884062257473692284509516<br>\n",
    "20849603980134001723930671666823555245252804609722<br>\n",
    "53503534226472524250874054075591789781264330331690<br></div>\n"
   ]
  },
  {
   "cell_type": "code",
   "execution_count": 56,
   "id": "b72f9203-13fd-4e90-911d-a947fe97ff7d",
   "metadata": {
    "tags": []
   },
   "outputs": [],
   "source": [
    "suborCisla = open(\"PE13.txt\")\n",
    "cisla = suborCisla.readlines()\n",
    "suborCisla.close()"
   ]
  },
  {
   "cell_type": "code",
   "execution_count": 55,
   "id": "f8928665-1797-4521-8a0c-3324d35137b1",
   "metadata": {
    "tags": []
   },
   "outputs": [],
   "source": [
    "# iny postup\n",
    "with open(\"PE13.txt\") as suborCisla:\n",
    "    cisla = suborCisla.readlines()\n",
    "# teraz netreba zatvarat stream"
   ]
  },
  {
   "cell_type": "code",
   "execution_count": 52,
   "id": "647762fc-ab03-4545-849f-6a2e42367ba6",
   "metadata": {
    "tags": []
   },
   "outputs": [
    {
     "name": "stdout",
     "output_type": "stream",
     "text": [
      "5537376230\n"
     ]
    }
   ],
   "source": [
    "cisla = [int(i) for i in cisla]\n",
    "cislo = str(sum(cisla))\n",
    "print(cislo[0:10])"
   ]
  },
  {
   "cell_type": "markdown",
   "id": "19fa1536-14c8-4bad-9805-1f5caaf4de25",
   "metadata": {},
   "source": [
    "### Largest Product in a Series\n",
    "<p>The four adjacent digits in the $1000$-digit number that have the greatest product are $9 \\times 9 \\times 8 \\times 9 = 5832$.</p>\n",
    "<p class=\"monospace center\">\n",
    "73167176531330624919225119674426574742355349194934<br>\n",
    "96983520312774506326239578318016984801869478851843<br>\n",
    "85861560789112949495459501737958331952853208805511<br>\n",
    "12540698747158523863050715693290963295227443043557<br>\n",
    "66896648950445244523161731856403098711121722383113<br>\n",
    "62229893423380308135336276614282806444486645238749<br>\n",
    "30358907296290491560440772390713810515859307960866<br>\n",
    "70172427121883998797908792274921901699720888093776<br>\n",
    "65727333001053367881220235421809751254540594752243<br>\n",
    "52584907711670556013604839586446706324415722155397<br>\n",
    "53697817977846174064955149290862569321978468622482<br>\n",
    "83972241375657056057490261407972968652414535100474<br>\n",
    "82166370484403199890008895243450658541227588666881<br>\n",
    "16427171479924442928230863465674813919123162824586<br>\n",
    "17866458359124566529476545682848912883142607690042<br>\n",
    "24219022671055626321111109370544217506941658960408<br>\n",
    "07198403850962455444362981230987879927244284909188<br>\n",
    "84580156166097919133875499200524063689912560717606<br>\n",
    "05886116467109405077541002256983155200055935729725<br>\n",
    "71636269561882670428252483600823257530420752963450<br></p>\n",
    "<p>Find the thirteen adjacent digits in the $1000$-digit number that have the greatest product. What is the value of this product?</p>"
   ]
  },
  {
   "cell_type": "code",
   "execution_count": 69,
   "id": "9f2e315a-6885-40ec-9271-223b3ba6a4a8",
   "metadata": {
    "tags": []
   },
   "outputs": [
    {
     "data": {
      "text/plain": [
       "5832"
      ]
     },
     "execution_count": 69,
     "metadata": {},
     "output_type": "execute_result"
    }
   ],
   "source": [
    "with open(\"PE8.txt\") as subor:\n",
    "    cislo = subor.read()\n",
    "cifry = [int(i) for i in cislo if i !='\\n']\n",
    "# ntice zoznam rozdeelenych cifier\n",
    "ntice = [cifry[i:i+4] for i in range(len(cifry)+1-4)]\n",
    "# odstranenie 0\n",
    "bez_nuly = [i for i in ntice if 0 not in i]\n",
    "# pocitanie sucinov\n",
    "from functools import reduce\n",
    "suciny = [reduce(lambda x,y : x*y, i) for i in bez_nuly]\n",
    "max(suciny)"
   ]
  },
  {
   "cell_type": "code",
   "execution_count": 70,
   "id": "5a57be16-3b3e-4184-a887-101848d3c654",
   "metadata": {},
   "outputs": [
    {
     "data": {
      "text/plain": [
       "23514624000"
      ]
     },
     "execution_count": 70,
     "metadata": {},
     "output_type": "execute_result"
    }
   ],
   "source": [
    "# vyskedok\n",
    "ntice = [cifry[i:i+13] for i in range(len(cifry)+1-13)]\n",
    "bez_nuly = [i for i in ntice if 0 not in i]\n",
    "suciny = [reduce(lambda x,y : x*y, i) for i in bez_nuly]\n",
    "max(suciny)"
   ]
  }
 ],
 "metadata": {
  "kernelspec": {
   "display_name": "Python 3 (ipykernel)",
   "language": "python",
   "name": "python3"
  },
  "language_info": {
   "codemirror_mode": {
    "name": "ipython",
    "version": 3
   },
   "file_extension": ".py",
   "mimetype": "text/x-python",
   "name": "python",
   "nbconvert_exporter": "python",
   "pygments_lexer": "ipython3",
   "version": "3.10.8"
  }
 },
 "nbformat": 4,
 "nbformat_minor": 5
}

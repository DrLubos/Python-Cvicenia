{
 "cells": [
  {
   "cell_type": "markdown",
   "id": "8fedc2df-291c-4325-ab48-8ce292b3a272",
   "metadata": {},
   "source": [
    "# Modul sqlite3"
   ]
  },
  {
   "cell_type": "code",
   "execution_count": 1,
   "id": "5e2878e1-a82d-4372-94e9-6bc0ea0468e2",
   "metadata": {
    "tags": []
   },
   "outputs": [],
   "source": [
    "import sqlite3.dbapi2 as sqlite"
   ]
  },
  {
   "cell_type": "markdown",
   "id": "b20e298b-6c4d-4478-8344-727f972f5020",
   "metadata": {},
   "source": [
    "## 1. Vytvorenie spokenia a kurzora "
   ]
  },
  {
   "cell_type": "code",
   "execution_count": 2,
   "id": "cf99598d-34c0-462f-bd6a-a258b729cac2",
   "metadata": {
    "tags": []
   },
   "outputs": [],
   "source": [
    "conn = sqlite.connect('vzdelavanie.sqlite')\n",
    "curs = conn.cursor()"
   ]
  },
  {
   "cell_type": "markdown",
   "id": "a503ba4c-5626-4c9f-a8c6-0fe32b67c691",
   "metadata": {},
   "source": [
    "## 2. Navrh struktury tabulky"
   ]
  },
  {
   "cell_type": "code",
   "execution_count": 3,
   "id": "f56ad9f2-371b-44b8-98e3-544b468ba8d9",
   "metadata": {
    "tags": []
   },
   "outputs": [
    {
     "data": {
      "text/plain": [
       "<sqlite3.Cursor at 0x7feeaed4c940>"
      ]
     },
     "execution_count": 3,
     "metadata": {},
     "output_type": "execute_result"
    }
   ],
   "source": [
    "curs.execute(\"CREATE TABLE programy(id_programu INTEGER PRIMARY KEY, nazov TEXT, forma TEXT, stupen INTEGER);\")"
   ]
  },
  {
   "cell_type": "markdown",
   "id": "0d61b606-1002-4262-96b6-2541636ff286",
   "metadata": {},
   "source": [
    "## 3. Naplnenie tabulky"
   ]
  },
  {
   "cell_type": "code",
   "execution_count": 4,
   "id": "1f10e9e6-d3b9-437d-94e4-5f49a530f6ad",
   "metadata": {
    "tags": []
   },
   "outputs": [],
   "source": [
    "curs.execute(\"INSERT INTO programy VALUES (120, 'informatika', 'denna', 1)\")\n",
    "conn.commit()"
   ]
  },
  {
   "cell_type": "code",
   "execution_count": 6,
   "id": "8c40d551-94e6-4546-bdcf-248299dc5711",
   "metadata": {
    "tags": []
   },
   "outputs": [],
   "source": [
    "pr = [(121, 'pocitacove inzinierstvo', 'denna', 1),\n",
    "      (122, 'manazment', 'denna', 1),\n",
    "      (123, 'manazment', 'externa', 1),\n",
    "      (220, 'informacne systemy', 'denna', 2),\n",
    "      (221, 'pocitacove inzinierstvo', 'denna', 2),\n",
    "      (232, 'informacny manazment', 'denna', 2),\n",
    "      (233, 'aplikovane sietove inzinierstvo', 'denna', 2),\n",
    "      (234, 'inteligentne informacne systemy', 'denna', 2),\n",
    "      (235, 'informacny manazment', 'externa', 2)]"
   ]
  },
  {
   "cell_type": "code",
   "execution_count": 7,
   "id": "8b4e9398-c288-4f19-9e75-611547caa43c",
   "metadata": {
    "tags": []
   },
   "outputs": [],
   "source": [
    "curs.executemany(\"INSERT INTO programy(id_programu, nazov, forma, stupen) VALUES (?, ?, ?, ?)\", pr)\n",
    "conn.commit()"
   ]
  },
  {
   "cell_type": "markdown",
   "id": "2d054bc0-d799-49c1-ae5b-79ff78c522a7",
   "metadata": {},
   "source": [
    "## 4. Vyber udajov z tabulky"
   ]
  },
  {
   "cell_type": "code",
   "execution_count": 9,
   "id": "a8e99942-96e6-4343-a4d4-0b7c6fc9a854",
   "metadata": {
    "tags": []
   },
   "outputs": [
    {
     "data": {
      "text/plain": [
       "[(120, 'informatika', 'denna', 1),\n",
       " (121, 'pocitacove inzinierstvo', 'denna', 1),\n",
       " (122, 'manazment', 'denna', 1),\n",
       " (123, 'manazment', 'externa', 1),\n",
       " (220, 'informacne systemy', 'denna', 2),\n",
       " (221, 'pocitacove inzinierstvo', 'denna', 2),\n",
       " (232, 'informacny manazment', 'denna', 2),\n",
       " (233, 'aplikovane sietove inzinierstvo', 'denna', 2),\n",
       " (234, 'inteligentne informacne systemy', 'denna', 2),\n",
       " (235, 'informacny manazment', 'externa', 2)]"
      ]
     },
     "execution_count": 9,
     "metadata": {},
     "output_type": "execute_result"
    }
   ],
   "source": [
    "# Vsetko\n",
    "curs.execute(\"SELECT * FROM programy\")\n",
    "curs.fetchall()"
   ]
  },
  {
   "cell_type": "code",
   "execution_count": 12,
   "id": "2619f202-63fc-4b87-a31a-a67498fa5aee",
   "metadata": {
    "tags": []
   },
   "outputs": [
    {
     "data": {
      "text/plain": [
       "[('informatika',), ('pocitacove inzinierstvo',), ('manazment',)]"
      ]
     },
     "execution_count": 12,
     "metadata": {},
     "output_type": "execute_result"
    }
   ],
   "source": [
    "# Nazvy programov dennej formy bakalarskeho studia\n",
    "curs.execute(\"SELECT nazov FROM programy WHERE stupen = 1 AND forma = 'denna'\")\n",
    "curs.fetchall()"
   ]
  },
  {
   "cell_type": "code",
   "execution_count": 14,
   "id": "97e392c3-9582-40e9-b9d6-2091cb2c9a1d",
   "metadata": {
    "tags": []
   },
   "outputs": [
    {
     "data": {
      "text/plain": [
       "[(1, 4), (2, 6)]"
      ]
     },
     "execution_count": 14,
     "metadata": {},
     "output_type": "execute_result"
    }
   ],
   "source": [
    "# Pocet studijmych programov v jednotlivych stupnoch\n",
    "curs.execute(\"SELECT stupen, COUNT(stupen) FROM programy GROUP BY stupen\")\n",
    "curs.fetchall()"
   ]
  },
  {
   "cell_type": "markdown",
   "id": "3911a21a-62dc-404b-ad12-568e24c945fa",
   "metadata": {},
   "source": [
    "## 5. Prepojenie tabuliek\n",
    "Vytvorime dalsiu tabulku studentov s nasledujucov strukturov: id studenta, meno, priezvisko, rocnik, program"
   ]
  },
  {
   "cell_type": "code",
   "execution_count": 23,
   "id": "fbe0b387-2e4d-4e11-943b-c08e1bb16a83",
   "metadata": {
    "tags": []
   },
   "outputs": [
    {
     "data": {
      "text/plain": [
       "<sqlite3.Cursor at 0x7feeaed4c940>"
      ]
     },
     "execution_count": 23,
     "metadata": {},
     "output_type": "execute_result"
    }
   ],
   "source": [
    "curs.execute(\"CREATE TABLE studenti(id_studenta integer PRIMARY KEY, meno_studenta text, priezvisko text NOT NULL, rocnik integer, program integer, foreign key(program) references programy(id_programu))\")"
   ]
  },
  {
   "cell_type": "code",
   "execution_count": 17,
   "id": "e59d864a-2210-4852-9f6b-4d58586366dc",
   "metadata": {
    "tags": []
   },
   "outputs": [],
   "source": [
    "st = [(3791, 'Peter', 'Pan', 1, 120),\n",
    "      (6134, 'Jan', 'Hrasko', 2, 120),\n",
    "      (7543, 'Lena', 'Pysna', 1, 122),\n",
    "      (5791, 'Maria', 'Kratka', 1, 123),\n",
    "      (7410, 'Jozef', 'Mrkvicka', 1, 221),\n",
    "      (9632, 'Eva', 'Benova', 2, 235)]"
   ]
  },
  {
   "cell_type": "code",
   "execution_count": 24,
   "id": "d63546e0-d832-4a77-b0aa-a8f5c8865e86",
   "metadata": {
    "tags": []
   },
   "outputs": [],
   "source": [
    "curs.executemany(\"INSERT INTO studenti(id_studenta, meno_studenta, priezvisko, rocnik, program) VALUES(?, ?, ?, ?, ?)\", st)\n",
    "conn.commit()"
   ]
  },
  {
   "cell_type": "code",
   "execution_count": 25,
   "id": "649b60eb-f012-4ff9-9c1a-3cf1fa8a936e",
   "metadata": {
    "tags": []
   },
   "outputs": [
    {
     "data": {
      "text/plain": [
       "[(3791, 'Peter', 'Pan', 1, 120),\n",
       " (5791, 'Maria', 'Kratka', 1, 123),\n",
       " (6134, 'Jan', 'Hrasko', 2, 120),\n",
       " (7410, 'Jozef', 'Mrkvicka', 1, 221),\n",
       " (7543, 'Lena', 'Pysna', 1, 122),\n",
       " (9632, 'Eva', 'Benova', 2, 235)]"
      ]
     },
     "execution_count": 25,
     "metadata": {},
     "output_type": "execute_result"
    }
   ],
   "source": [
    "curs.execute(\"SELECT * FROM studenti\")\n",
    "curs.fetchall()"
   ]
  },
  {
   "cell_type": "code",
   "execution_count": 4,
   "id": "5dac74fc-24c2-4d66-a2c0-11126b885335",
   "metadata": {},
   "outputs": [
    {
     "data": {
      "text/plain": [
       "[('Benova', 'Eva'),\n",
       " ('Hrasko', 'Jan'),\n",
       " ('Kratka', 'Maria'),\n",
       " ('Mrkvicka', 'Jozef'),\n",
       " ('Pan', 'Peter'),\n",
       " ('Pysna', 'Lena')]"
      ]
     },
     "execution_count": 4,
     "metadata": {},
     "output_type": "execute_result"
    }
   ],
   "source": [
    "# Vybrat vsetkych studentov a zora podla abecedy\n",
    "curs.execute(\"SELECT priezvisko, meno_studenta FROM studenti ORDER BY priezvisko\")\n",
    "curs.fetchall()"
   ]
  },
  {
   "cell_type": "code",
   "execution_count": 6,
   "id": "d3ccbb80-1699-4b3f-8ad0-f0ef530e9658",
   "metadata": {},
   "outputs": [
    {
     "data": {
      "text/plain": [
       "[('Pan', 'Peter'), ('Hrasko', 'Jan')]"
      ]
     },
     "execution_count": 6,
     "metadata": {},
     "output_type": "execute_result"
    }
   ],
   "source": [
    "# Vybrat studentov informatiky\n",
    "curs.execute(\"SELECT s.priezvisko, s.meno_studenta FROM studenti s, programy p WHERE p.nazov='informatika' AND s.program=p.id_programu\")\n",
    "curs.fetchall()"
   ]
  },
  {
   "cell_type": "code",
   "execution_count": 9,
   "id": "4bff9c97-b974-47d5-b652-bdfc8c6200a9",
   "metadata": {},
   "outputs": [
    {
     "data": {
      "text/plain": [
       "[('Kratka', 'Maria'), ('Benova', 'Eva')]"
      ]
     },
     "execution_count": 9,
     "metadata": {},
     "output_type": "execute_result"
    }
   ],
   "source": [
    "# Vybrat studentov externeho studia\n",
    "curs.execute(\"SELECT s.priezvisko, s.meno_studenta FROM studenti s, programy p WHERE p.forma='externa' AND s.program=p.id_programu\")\n",
    "curs.fetchall()"
   ]
  },
  {
   "cell_type": "code",
   "execution_count": 20,
   "id": "48159f16-3f2f-4366-8675-7747bfb4e06c",
   "metadata": {},
   "outputs": [
    {
     "data": {
      "text/plain": [
       "[(3,)]"
      ]
     },
     "execution_count": 20,
     "metadata": {},
     "output_type": "execute_result"
    }
   ],
   "source": [
    "# Pocet studentov denneho bakalarskeho studia\n",
    "curs.execute(\"SELECT COUNT(s.id_studenta) FROM studenti s, programy p WHERE p.forma='denna' AND p.stupen=1 AND s.program=p.id_programu\")\n",
    "curs.fetchall()"
   ]
  },
  {
   "cell_type": "code",
   "execution_count": 22,
   "id": "ee449a69-1a00-4213-9cbb-706622f1dfed",
   "metadata": {},
   "outputs": [
    {
     "data": {
      "text/plain": [
       "[('informacny manazment', 1), ('manazment', 1)]"
      ]
     },
     "execution_count": 22,
     "metadata": {},
     "output_type": "execute_result"
    }
   ],
   "source": [
    "# pocty studentov v jednotlivych programoch externeho studia\n",
    "curs.execute(\"SELECT p.nazov, COUNT(s.id_studenta) FROM studenti s, programy p WHERE p.forma='externa' AND s.program=p.id_programu GROUP BY p.nazov\")\n",
    "curs.fetchall()"
   ]
  },
  {
   "cell_type": "markdown",
   "id": "93c68e85-6a40-4bff-83f2-91e6e9f3d62e",
   "metadata": {},
   "source": [
    "## 5. Uprava existujucich udajov"
   ]
  },
  {
   "cell_type": "code",
   "execution_count": 27,
   "id": "3f70a876-ebff-4c6d-84ea-40dd5bdf99cc",
   "metadata": {},
   "outputs": [],
   "source": [
    "# zmenit studentovi Panovi rocnik na 3\n",
    "curs.execute(\"UPDATE studenti SET rocnik=3 WHERE priezvisko='Pan'\")\n",
    "conn.commit()"
   ]
  },
  {
   "cell_type": "code",
   "execution_count": 28,
   "id": "ffcfe496-972f-42cf-b939-59be1352fbec",
   "metadata": {},
   "outputs": [
    {
     "data": {
      "text/plain": [
       "[(3791, 'Peter', 'Pan', 3, 120),\n",
       " (5791, 'Maria', 'Kratka', 1, 123),\n",
       " (6134, 'Jan', 'Hrasko', 2, 120),\n",
       " (7410, 'Jozef', 'Mrkvicka', 1, 221),\n",
       " (7543, 'Lena', 'Pysna', 1, 122),\n",
       " (9632, 'Eva', 'Benova', 2, 235)]"
      ]
     },
     "execution_count": 28,
     "metadata": {},
     "output_type": "execute_result"
    }
   ],
   "source": [
    "curs.execute(\"SELECT * FROM studenti\")\n",
    "curs.fetchall()"
   ]
  },
  {
   "cell_type": "code",
   "execution_count": null,
   "id": "2bc06384-63a6-4444-8a49-4cb02f15c59c",
   "metadata": {},
   "outputs": [],
   "source": [
    "# Vymazat studentov bakalarskehjo studia\n",
    "curs.execute(\"DELETE FROM studenti WHERE program LIKE '1%'\")\n",
    "conn.commit()"
   ]
  },
  {
   "cell_type": "code",
   "execution_count": null,
   "id": "8b35c3ec-c944-4405-af6a-536cc41966ee",
   "metadata": {},
   "outputs": [],
   "source": []
  },
  {
   "cell_type": "code",
   "execution_count": null,
   "id": "09ab69bb-162d-4bc3-bf89-d116a5480dbe",
   "metadata": {},
   "outputs": [],
   "source": []
  },
  {
   "cell_type": "markdown",
   "id": "a81a3ce8-3f2a-41ac-b9db-30eb0c7bed25",
   "metadata": {},
   "source": [
    "## 6. Ukoncenie"
   ]
  },
  {
   "cell_type": "code",
   "execution_count": 26,
   "id": "60e5ed31-a8e4-4b16-8cc4-dfc568230a3a",
   "metadata": {
    "tags": []
   },
   "outputs": [],
   "source": [
    "curs.close()\n",
    "conn.close()"
   ]
  }
 ],
 "metadata": {
  "kernelspec": {
   "display_name": "Python 3 (ipykernel)",
   "language": "python",
   "name": "python3"
  },
  "language_info": {
   "codemirror_mode": {
    "name": "ipython",
    "version": 3
   },
   "file_extension": ".py",
   "mimetype": "text/x-python",
   "name": "python",
   "nbconvert_exporter": "python",
   "pygments_lexer": "ipython3",
   "version": "3.10.8"
  }
 },
 "nbformat": 4,
 "nbformat_minor": 5
}

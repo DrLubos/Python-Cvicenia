{
 "cells": [
  {
   "cell_type": "code",
   "execution_count": 24,
   "id": "47f6eb3c-3d96-4676-adfb-0ab6c37e6065",
   "metadata": {},
   "outputs": [],
   "source": [
    "import sqlite3.dbapi2 as sqlite\n",
    "from statistics import *\n",
    "import folium"
   ]
  },
  {
   "cell_type": "code",
   "execution_count": 2,
   "id": "10b51524-92fc-445a-989e-8cd6af344f73",
   "metadata": {},
   "outputs": [],
   "source": [
    "conn=sqlite.connect('adresy.sqlite')\n",
    "curs=conn.cursor()"
   ]
  },
  {
   "cell_type": "code",
   "execution_count": 3,
   "id": "a7f15e49-2f77-4942-98a4-bd2764a7dd81",
   "metadata": {},
   "outputs": [
    {
     "data": {
      "text/plain": [
       "<sqlite3.Cursor at 0x7f5d358345c0>"
      ]
     },
     "execution_count": 3,
     "metadata": {},
     "output_type": "execute_result"
    }
   ],
   "source": [
    "curs.execute(\"CREATE TABLE IF NOT EXISTS obce(id_obce INTEGER PRIMARY KEY, meno_obce TEXT);\")"
   ]
  },
  {
   "cell_type": "code",
   "execution_count": 4,
   "id": "472e4d84-363c-43d4-9511-e40992f307d8",
   "metadata": {},
   "outputs": [
    {
     "data": {
      "text/plain": [
       "<sqlite3.Cursor at 0x7f5d358345c0>"
      ]
     },
     "execution_count": 4,
     "metadata": {},
     "output_type": "execute_result"
    }
   ],
   "source": [
    "curs.execute(\"CREATE TABLE IF NOT EXISTS ulice(id_ulice INTEGER PRIMARY KEY, meno_ulice TEXT, id_obce INTEGER, FOREIGN KEY(id_obce) REFERENCES obca(id_obce));\")"
   ]
  },
  {
   "cell_type": "code",
   "execution_count": 5,
   "id": "571c92c2-2545-4646-8328-05882b7d6ed8",
   "metadata": {},
   "outputs": [
    {
     "data": {
      "text/plain": [
       "<sqlite3.Cursor at 0x7f5d358345c0>"
      ]
     },
     "execution_count": 5,
     "metadata": {},
     "output_type": "execute_result"
    }
   ],
   "source": [
    "curs.execute(\"CREATE TABLE IF NOT EXISTS cisla(id_domu INTEGER PRIMARY KEY, cislo_domu TEXT, lat FLOAT, lon FLOAT, id_ulice INTEGER, FOREIGN KEY(id_ulice) REFERENCES ulice(id_ulice));\")"
   ]
  },
  {
   "cell_type": "code",
   "execution_count": 6,
   "id": "a23375a0-3842-453e-ac3c-446c9dd1015c",
   "metadata": {},
   "outputs": [],
   "source": [
    "f = open('obce.csv', 'r')\n",
    "for riadok in f:\n",
    "    oid, omeno = riadok[:-1].split(',')\n",
    "    try:\n",
    "        curs.execute(\"INSERT INTO obce(id_obce, meno_obce) VALUES(?, ?)\", (int(oid), omeno))\n",
    "    except sqlite.IntegrityError:\n",
    "        pass\n",
    "f.close()\n",
    "conn.commit()"
   ]
  },
  {
   "cell_type": "code",
   "execution_count": 7,
   "id": "12b7ebd6-22a8-4e16-9b57-526f2fe34d4f",
   "metadata": {},
   "outputs": [],
   "source": [
    "f = open('ulice.csv', 'r')\n",
    "for riadok in f:\n",
    "    uid, umeno, oid=riadok[:-1].split(',')\n",
    "    try:\n",
    "        curs.execute(\"INSERT INTO ulice(id_ulice, meno_ulice, id_obce) VALUES(?, ?, ?)\", (int(uid), umeno, int(oid)))\n",
    "    except sqlite.IntegrityError:\n",
    "        pass\n",
    "f.close()\n",
    "conn.commit()"
   ]
  },
  {
   "cell_type": "code",
   "execution_count": 8,
   "id": "65fab31e-d3d1-40c2-905b-7e12a0122488",
   "metadata": {},
   "outputs": [],
   "source": [
    "f = open('cisla.csv', 'r')\n",
    "for riadok in f:\n",
    "    did, cislo, la, lo, uid=riadok[:-1].split(',')\n",
    "    try:\n",
    "        curs.execute(\"INSERT INTO cisla(id_domu, cislo_domu, lat, lon, id_ulice) VALUES (?, ?, ?, ?, ?)\", (int(did), cislo, la, lo, int(uid)))\n",
    "    except sqlite.IntegrityError:\n",
    "        pass\n",
    "f.close()\n",
    "conn.commit()"
   ]
  },
  {
   "cell_type": "code",
   "execution_count": 9,
   "id": "d04252e9-a061-4066-8b79-e07e4c69a0a1",
   "metadata": {},
   "outputs": [
    {
     "data": {
      "text/plain": [
       "[('Lumumbova',),\n",
       " ('Nerudova',),\n",
       " ('Rauchova',),\n",
       " ('Komsomolcov',),\n",
       " ('Ostrovského',),\n",
       " ('Urxova',),\n",
       " ('Suche Bátora',),\n",
       " ('Togliattiho',),\n",
       " ('1.mája',),\n",
       " ('Republiky',)]"
      ]
     },
     "execution_count": 9,
     "metadata": {},
     "output_type": "execute_result"
    }
   ],
   "source": [
    "# Zobraz vsetkych ulic v Ziline\n",
    "curs.execute(\"SELECT u.meno_ulice FROM ulice u, obce o WHERE o.meno_obce='Žilina' AND o.id_obce=u.id_obce\")\n",
    "zoznam = curs.fetchall()\n",
    "zoznam[:10]"
   ]
  },
  {
   "cell_type": "code",
   "execution_count": 10,
   "id": "0ec50a24-f750-4c08-a17e-2839218fe354",
   "metadata": {},
   "outputs": [
    {
     "data": {
      "text/plain": [
       "[(1967,)]"
      ]
     },
     "execution_count": 10,
     "metadata": {},
     "output_type": "execute_result"
    }
   ],
   "source": [
    "# Pocet vsetkych ulic v Bratislave\n",
    "curs.execute(\"SELECT COUNT(u.meno_ulice) FROM ulice u, obce o WHERE o.meno_obce LIKE 'Bratislava%' AND o.id_obce=u.id_obce\")\n",
    "curs.fetchall()"
   ]
  },
  {
   "cell_type": "code",
   "execution_count": 11,
   "id": "6f372cce-91f7-46b4-953a-d9b9145a4290",
   "metadata": {},
   "outputs": [
    {
     "data": {
      "text/plain": [
       "[(8,)]"
      ]
     },
     "execution_count": 11,
     "metadata": {},
     "output_type": "execute_result"
    }
   ],
   "source": [
    "# Pocet cisel na ulici Univerzitna v Ziline\n",
    "curs.execute(\"SELECT COUNT(c.id_domu) FROM ulice u, obce o, cisla c WHERE o.meno_obce='Žilina' AND o.id_obce=u.id_obce AND u.meno_ulice='Univerzitná' AND c.id_ulice=u.id_ulice\")\n",
    "curs.fetchall()"
   ]
  },
  {
   "cell_type": "code",
   "execution_count": 12,
   "id": "a3db5d7d-d1a7-4ff2-86c1-a04e32d3f95e",
   "metadata": {},
   "outputs": [
    {
     "data": {
      "text/plain": [
       "[('2', 49.2032503, 18.7540002),\n",
       " ('1', 49.2032990766, 18.7552876829),\n",
       " ('25', 49.2097410367, 18.7538823558),\n",
       " ('23', 49.209669971, 18.7542788524),\n",
       " ('6A', 49.2038165412, 18.7540302348),\n",
       " ('3A', 49.2017855, 18.7540148),\n",
       " ('3B', 49.2020801, 18.7542544),\n",
       " ('3A', 49.2017855, 18.7540148)]"
      ]
     },
     "execution_count": 12,
     "metadata": {},
     "output_type": "execute_result"
    }
   ],
   "source": [
    "# Zoznam cisel na ulici Univerzitna v Ziline\n",
    "curs.execute(\"SELECT c.cislo_domu, c.lat, c.lon FROM ulice u, obce o, cisla c WHERE o.meno_obce='Žilina' AND o.id_obce=u.id_obce AND u.meno_ulice='Univerzitná' AND c.id_ulice=u.id_ulice\")\n",
    "curs.fetchall()"
   ]
  },
  {
   "cell_type": "code",
   "execution_count": 13,
   "id": "52d4c7b3-5f27-4a01-bd2f-0269f14407cf",
   "metadata": {},
   "outputs": [],
   "source": [
    "def lokalizacia_ulice(mesto, ulica, mesto_like = False):\n",
    "    if mesto_like:\n",
    "        curs.execute(\"SELECT c.cislo_domu, c.lat, c.lon FROM ulice u, obce o, cisla c WHERE o.meno_obce LIKE ? AND o.id_obce=u.id_obce AND u.meno_ulice=? AND c.id_ulice=u.id_ulice\", (mesto+\"%\", ulica))\n",
    "    else:\n",
    "        curs.execute(\"SELECT c.cislo_domu, c.lat, c.lon FROM ulice u, obce o, cisla c WHERE o.meno_obce=? AND o.id_obce=u.id_obce AND u.meno_ulice=? AND c.id_ulice=u.id_ulice\", (mesto, ulica))\n",
    "    zoznam = curs.fetchall()\n",
    "    return zoznam"
   ]
  },
  {
   "cell_type": "code",
   "execution_count": 14,
   "id": "e43c7a72-ea07-4101-8209-dd1e06f53791",
   "metadata": {},
   "outputs": [
    {
     "data": {
      "text/plain": [
       "[('7', 48.1276667968, 17.1134491629),\n",
       " ('5', 48.1273703434, 17.1134176997),\n",
       " ('2', 48.126365066, 17.1112832053),\n",
       " ('6', 48.126336447, 17.1120965562),\n",
       " ('4', 48.1263504629, 17.1117006112),\n",
       " ('8', 48.1263250417, 17.1124707368),\n",
       " ('10', 48.1263141695, 17.1127624083),\n",
       " ('12', 48.1263115999, 17.1130538546),\n",
       " ('14', 48.1262894235, 17.1133477899),\n",
       " ('16', 48.126286003, 17.1136428507),\n",
       " ('26', 48.1271581883, 17.1151716642),\n",
       " ('24', 48.1271718568, 17.1148307198),\n",
       " ('22', 48.1271869334, 17.1144804038),\n",
       " ('20', 48.1271957338, 17.1141279817),\n",
       " ('1', 48.1267458854, 17.1133717639),\n",
       " ('3', 48.127027152, 17.1133902597),\n",
       " ('18', 48.1260145662, 17.1135282254)]"
      ]
     },
     "execution_count": 14,
     "metadata": {},
     "output_type": "execute_result"
    }
   ],
   "source": [
    "lokalizacia_ulice(\"Bratislava\", \"Vavilovova\", True)"
   ]
  },
  {
   "cell_type": "code",
   "execution_count": 15,
   "id": "9f81377f-2baf-4c72-ae88-8a5f47eaf5f5",
   "metadata": {},
   "outputs": [],
   "source": [
    "def lokalizacia_adresy(mesto, ulica, cislo, mesto_like=False):\n",
    "    if mesto_like:\n",
    "        curs.execute(\"SELECT c.lat, c.lon FROM ulice u, obce o, cisla c WHERE o.meno_obce LIKE ? AND o.id_obce=u.id_obce AND u.meno_ulice=? AND c.id_ulice=u.id_ulice AND c.cislo_domu=?\", (mesto+\"%\", ulica, cislo))\n",
    "    else:\n",
    "        curs.execute(\"SELECT c.lat, c.lon FROM ulice u, obce o, cisla c WHERE o.meno_obce=? AND o.id_obce=u.id_obce AND u.meno_ulice=? AND c.id_ulice=u.id_ulice AND c.cislo_domu=?\", (mesto, ulica,cislo))\n",
    "    zoznam = curs.fetchall()\n",
    "    return zoznam"
   ]
  },
  {
   "cell_type": "code",
   "execution_count": 16,
   "id": "d14de04e-c8aa-4874-9172-3eda666e243f",
   "metadata": {},
   "outputs": [
    {
     "data": {
      "text/plain": [
       "[(49.2032990766, 18.7552876829)]"
      ]
     },
     "execution_count": 16,
     "metadata": {},
     "output_type": "execute_result"
    }
   ],
   "source": [
    "lokalizacia_adresy(\"Žilina\", \"Univerzitná\", 1)"
   ]
  },
  {
   "cell_type": "code",
   "execution_count": 17,
   "id": "f928e4b7-f123-42bd-8678-2929490647e4",
   "metadata": {},
   "outputs": [],
   "source": [
    "ulica = \"Univerzitná\"\n",
    "mesto = \"Žilina\""
   ]
  },
  {
   "cell_type": "code",
   "execution_count": 18,
   "id": "bc520ecc-0b07-474b-ade2-919ea2981e93",
   "metadata": {},
   "outputs": [
    {
     "data": {
      "text/plain": [
       "[('2', 49.2032503, 18.7540002),\n",
       " ('1', 49.2032990766, 18.7552876829),\n",
       " ('25', 49.2097410367, 18.7538823558),\n",
       " ('23', 49.209669971, 18.7542788524),\n",
       " ('6A', 49.2038165412, 18.7540302348),\n",
       " ('3A', 49.2017855, 18.7540148),\n",
       " ('3B', 49.2020801, 18.7542544),\n",
       " ('3A', 49.2017855, 18.7540148)]"
      ]
     },
     "execution_count": 18,
     "metadata": {},
     "output_type": "execute_result"
    }
   ],
   "source": [
    "r = lokalizacia_ulice(mesto, ulica)\n",
    "r"
   ]
  },
  {
   "cell_type": "code",
   "execution_count": 19,
   "id": "c4622ffa-5352-46f7-8931-29074e027d6f",
   "metadata": {},
   "outputs": [
    {
     "data": {
      "text/plain": [
       "('2', '1', '25', '23', '6A', '3A', '3B', '3A')"
      ]
     },
     "execution_count": 19,
     "metadata": {},
     "output_type": "execute_result"
    }
   ],
   "source": [
    "C, Lat, Lon = zip(*r)\n",
    "C"
   ]
  },
  {
   "cell_type": "code",
   "execution_count": 20,
   "id": "4792f3ba-3605-4c76-95b4-027e6db3f79c",
   "metadata": {},
   "outputs": [
    {
     "data": {
      "text/plain": [
       "[(49.2032503, 18.7540002),\n",
       " (49.2032990766, 18.7552876829),\n",
       " (49.2097410367, 18.7538823558),\n",
       " (49.209669971, 18.7542788524),\n",
       " (49.2038165412, 18.7540302348),\n",
       " (49.2017855, 18.7540148),\n",
       " (49.2020801, 18.7542544),\n",
       " (49.2017855, 18.7540148)]"
      ]
     },
     "execution_count": 20,
     "metadata": {},
     "output_type": "execute_result"
    }
   ],
   "source": [
    "sur = zip(Lat, Lon)\n",
    "[i for i in sur]"
   ]
  },
  {
   "cell_type": "code",
   "execution_count": 88,
   "id": "83d66292-fdfa-4f64-9d1a-81b87e6de7a5",
   "metadata": {},
   "outputs": [
    {
     "data": {
      "text/html": [
       "<div style=\"width:100%;\"><div style=\"position:relative;width:100%;height:0;padding-bottom:60%;\"><span style=\"color:#565656\">Make this Notebook Trusted to load map: File -> Trust Notebook</span><iframe srcdoc=\"&lt;!DOCTYPE html&gt;\n",
       "&lt;html&gt;\n",
       "&lt;head&gt;\n",
       "    \n",
       "    &lt;meta http-equiv=&quot;content-type&quot; content=&quot;text/html; charset=UTF-8&quot; /&gt;\n",
       "    \n",
       "        &lt;script&gt;\n",
       "            L_NO_TOUCH = false;\n",
       "            L_DISABLE_3D = false;\n",
       "        &lt;/script&gt;\n",
       "    \n",
       "    &lt;style&gt;html, body {width: 100%;height: 100%;margin: 0;padding: 0;}&lt;/style&gt;\n",
       "    &lt;style&gt;#map {position:absolute;top:0;bottom:0;right:0;left:0;}&lt;/style&gt;\n",
       "    &lt;script src=&quot;https://cdn.jsdelivr.net/npm/leaflet@1.9.3/dist/leaflet.js&quot;&gt;&lt;/script&gt;\n",
       "    &lt;script src=&quot;https://code.jquery.com/jquery-3.7.1.min.js&quot;&gt;&lt;/script&gt;\n",
       "    &lt;script src=&quot;https://cdn.jsdelivr.net/npm/bootstrap@5.2.2/dist/js/bootstrap.bundle.min.js&quot;&gt;&lt;/script&gt;\n",
       "    &lt;script src=&quot;https://cdnjs.cloudflare.com/ajax/libs/Leaflet.awesome-markers/2.0.2/leaflet.awesome-markers.js&quot;&gt;&lt;/script&gt;\n",
       "    &lt;link rel=&quot;stylesheet&quot; href=&quot;https://cdn.jsdelivr.net/npm/leaflet@1.9.3/dist/leaflet.css&quot;/&gt;\n",
       "    &lt;link rel=&quot;stylesheet&quot; href=&quot;https://cdn.jsdelivr.net/npm/bootstrap@5.2.2/dist/css/bootstrap.min.css&quot;/&gt;\n",
       "    &lt;link rel=&quot;stylesheet&quot; href=&quot;https://netdna.bootstrapcdn.com/bootstrap/3.0.0/css/bootstrap.min.css&quot;/&gt;\n",
       "    &lt;link rel=&quot;stylesheet&quot; href=&quot;https://cdn.jsdelivr.net/npm/@fortawesome/fontawesome-free@6.2.0/css/all.min.css&quot;/&gt;\n",
       "    &lt;link rel=&quot;stylesheet&quot; href=&quot;https://cdnjs.cloudflare.com/ajax/libs/Leaflet.awesome-markers/2.0.2/leaflet.awesome-markers.css&quot;/&gt;\n",
       "    &lt;link rel=&quot;stylesheet&quot; href=&quot;https://cdn.jsdelivr.net/gh/python-visualization/folium/folium/templates/leaflet.awesome.rotate.min.css&quot;/&gt;\n",
       "    \n",
       "            &lt;meta name=&quot;viewport&quot; content=&quot;width=device-width,\n",
       "                initial-scale=1.0, maximum-scale=1.0, user-scalable=no&quot; /&gt;\n",
       "            &lt;style&gt;\n",
       "                #map_49950e162678e1a1fdb40519ce969937 {\n",
       "                    position: relative;\n",
       "                    width: 100.0%;\n",
       "                    height: 100.0%;\n",
       "                    left: 0.0%;\n",
       "                    top: 0.0%;\n",
       "                }\n",
       "                .leaflet-container { font-size: 1rem; }\n",
       "            &lt;/style&gt;\n",
       "        \n",
       "&lt;/head&gt;\n",
       "&lt;body&gt;\n",
       "    \n",
       "    \n",
       "            &lt;div class=&quot;folium-map&quot; id=&quot;map_49950e162678e1a1fdb40519ce969937&quot; &gt;&lt;/div&gt;\n",
       "        \n",
       "&lt;/body&gt;\n",
       "&lt;script&gt;\n",
       "    \n",
       "    \n",
       "            var map_49950e162678e1a1fdb40519ce969937 = L.map(\n",
       "                &quot;map_49950e162678e1a1fdb40519ce969937&quot;,\n",
       "                {\n",
       "                    center: [49.2044285031875, 18.7542204157375],\n",
       "                    crs: L.CRS.EPSG3857,\n",
       "                    zoom: 170,\n",
       "                    zoomControl: true,\n",
       "                    preferCanvas: false,\n",
       "                }\n",
       "            );\n",
       "\n",
       "            \n",
       "\n",
       "        \n",
       "    \n",
       "            var tile_layer_c7e3558ba97cd3ef30e45b16c477177c = L.tileLayer(\n",
       "                &quot;https://tile.openstreetmap.org/{z}/{x}/{y}.png&quot;,\n",
       "                {&quot;attribution&quot;: &quot;\\u0026copy; \\u003ca href=\\&quot;https://www.openstreetmap.org/copyright\\&quot;\\u003eOpenStreetMap\\u003c/a\\u003e contributors&quot;, &quot;detectRetina&quot;: false, &quot;maxNativeZoom&quot;: 19, &quot;maxZoom&quot;: 19, &quot;minZoom&quot;: 0, &quot;noWrap&quot;: false, &quot;opacity&quot;: 1, &quot;subdomains&quot;: &quot;abc&quot;, &quot;tms&quot;: false}\n",
       "            );\n",
       "        \n",
       "    \n",
       "            tile_layer_c7e3558ba97cd3ef30e45b16c477177c.addTo(map_49950e162678e1a1fdb40519ce969937);\n",
       "        \n",
       "    \n",
       "            var circle_marker_beee5f1e87a14d4877572567b5fd429c = L.circleMarker(\n",
       "                [49.2032503, 18.7540002],\n",
       "                {&quot;bubblingMouseEvents&quot;: true, &quot;color&quot;: &quot;red&quot;, &quot;dashArray&quot;: null, &quot;dashOffset&quot;: null, &quot;fill&quot;: true, &quot;fillColor&quot;: &quot;red&quot;, &quot;fillOpacity&quot;: 0.3, &quot;fillRule&quot;: &quot;evenodd&quot;, &quot;lineCap&quot;: &quot;round&quot;, &quot;lineJoin&quot;: &quot;round&quot;, &quot;opacity&quot;: 1.0, &quot;radius&quot;: 6, &quot;stroke&quot;: true, &quot;weight&quot;: 3}\n",
       "            ).addTo(map_49950e162678e1a1fdb40519ce969937);\n",
       "        \n",
       "    \n",
       "        var popup_460e44b409f5770cfbcf4e7895426807 = L.popup({&quot;maxWidth&quot;: &quot;100%&quot;});\n",
       "\n",
       "        \n",
       "            \n",
       "                var html_f3fa5e976e81a530b1f6b7ae116401cc = $(`&lt;div id=&quot;html_f3fa5e976e81a530b1f6b7ae116401cc&quot; style=&quot;width: 100.0%; height: 100.0%;&quot;&gt;Univerzitná,2&lt;/div&gt;`)[0];\n",
       "                popup_460e44b409f5770cfbcf4e7895426807.setContent(html_f3fa5e976e81a530b1f6b7ae116401cc);\n",
       "            \n",
       "        \n",
       "\n",
       "        circle_marker_beee5f1e87a14d4877572567b5fd429c.bindPopup(popup_460e44b409f5770cfbcf4e7895426807)\n",
       "        ;\n",
       "\n",
       "        \n",
       "    \n",
       "    \n",
       "            var circle_marker_42eec92acc4d35d334c7adeeea5e01db = L.circleMarker(\n",
       "                [49.2032990766, 18.7552876829],\n",
       "                {&quot;bubblingMouseEvents&quot;: true, &quot;color&quot;: &quot;red&quot;, &quot;dashArray&quot;: null, &quot;dashOffset&quot;: null, &quot;fill&quot;: true, &quot;fillColor&quot;: &quot;red&quot;, &quot;fillOpacity&quot;: 0.3, &quot;fillRule&quot;: &quot;evenodd&quot;, &quot;lineCap&quot;: &quot;round&quot;, &quot;lineJoin&quot;: &quot;round&quot;, &quot;opacity&quot;: 1.0, &quot;radius&quot;: 6, &quot;stroke&quot;: true, &quot;weight&quot;: 3}\n",
       "            ).addTo(map_49950e162678e1a1fdb40519ce969937);\n",
       "        \n",
       "    \n",
       "        var popup_88d0b019ecb971f7f1b5dcab9b4c9d5b = L.popup({&quot;maxWidth&quot;: &quot;100%&quot;});\n",
       "\n",
       "        \n",
       "            \n",
       "                var html_957d5872407501fb955ea01a69ee9270 = $(`&lt;div id=&quot;html_957d5872407501fb955ea01a69ee9270&quot; style=&quot;width: 100.0%; height: 100.0%;&quot;&gt;Univerzitná,1&lt;/div&gt;`)[0];\n",
       "                popup_88d0b019ecb971f7f1b5dcab9b4c9d5b.setContent(html_957d5872407501fb955ea01a69ee9270);\n",
       "            \n",
       "        \n",
       "\n",
       "        circle_marker_42eec92acc4d35d334c7adeeea5e01db.bindPopup(popup_88d0b019ecb971f7f1b5dcab9b4c9d5b)\n",
       "        ;\n",
       "\n",
       "        \n",
       "    \n",
       "    \n",
       "            var circle_marker_71f64d34f36c7a14131e916f8debe40b = L.circleMarker(\n",
       "                [49.2097410367, 18.7538823558],\n",
       "                {&quot;bubblingMouseEvents&quot;: true, &quot;color&quot;: &quot;red&quot;, &quot;dashArray&quot;: null, &quot;dashOffset&quot;: null, &quot;fill&quot;: true, &quot;fillColor&quot;: &quot;red&quot;, &quot;fillOpacity&quot;: 0.3, &quot;fillRule&quot;: &quot;evenodd&quot;, &quot;lineCap&quot;: &quot;round&quot;, &quot;lineJoin&quot;: &quot;round&quot;, &quot;opacity&quot;: 1.0, &quot;radius&quot;: 6, &quot;stroke&quot;: true, &quot;weight&quot;: 3}\n",
       "            ).addTo(map_49950e162678e1a1fdb40519ce969937);\n",
       "        \n",
       "    \n",
       "        var popup_c8dedb99d1f377c273f18ba1377483aa = L.popup({&quot;maxWidth&quot;: &quot;100%&quot;});\n",
       "\n",
       "        \n",
       "            \n",
       "                var html_725f23db654b486b92b165be3353f674 = $(`&lt;div id=&quot;html_725f23db654b486b92b165be3353f674&quot; style=&quot;width: 100.0%; height: 100.0%;&quot;&gt;Univerzitná,25&lt;/div&gt;`)[0];\n",
       "                popup_c8dedb99d1f377c273f18ba1377483aa.setContent(html_725f23db654b486b92b165be3353f674);\n",
       "            \n",
       "        \n",
       "\n",
       "        circle_marker_71f64d34f36c7a14131e916f8debe40b.bindPopup(popup_c8dedb99d1f377c273f18ba1377483aa)\n",
       "        ;\n",
       "\n",
       "        \n",
       "    \n",
       "    \n",
       "            var circle_marker_df1538cb696e52934dd3333287fb42ee = L.circleMarker(\n",
       "                [49.209669971, 18.7542788524],\n",
       "                {&quot;bubblingMouseEvents&quot;: true, &quot;color&quot;: &quot;red&quot;, &quot;dashArray&quot;: null, &quot;dashOffset&quot;: null, &quot;fill&quot;: true, &quot;fillColor&quot;: &quot;red&quot;, &quot;fillOpacity&quot;: 0.3, &quot;fillRule&quot;: &quot;evenodd&quot;, &quot;lineCap&quot;: &quot;round&quot;, &quot;lineJoin&quot;: &quot;round&quot;, &quot;opacity&quot;: 1.0, &quot;radius&quot;: 6, &quot;stroke&quot;: true, &quot;weight&quot;: 3}\n",
       "            ).addTo(map_49950e162678e1a1fdb40519ce969937);\n",
       "        \n",
       "    \n",
       "        var popup_d408b41e85820a36dd28100e8987fbbf = L.popup({&quot;maxWidth&quot;: &quot;100%&quot;});\n",
       "\n",
       "        \n",
       "            \n",
       "                var html_91fe69dada5c2c2bf2dce6fb2d983a31 = $(`&lt;div id=&quot;html_91fe69dada5c2c2bf2dce6fb2d983a31&quot; style=&quot;width: 100.0%; height: 100.0%;&quot;&gt;Univerzitná,23&lt;/div&gt;`)[0];\n",
       "                popup_d408b41e85820a36dd28100e8987fbbf.setContent(html_91fe69dada5c2c2bf2dce6fb2d983a31);\n",
       "            \n",
       "        \n",
       "\n",
       "        circle_marker_df1538cb696e52934dd3333287fb42ee.bindPopup(popup_d408b41e85820a36dd28100e8987fbbf)\n",
       "        ;\n",
       "\n",
       "        \n",
       "    \n",
       "    \n",
       "            var circle_marker_9477e543c2ad8003e1e65cddc12803b9 = L.circleMarker(\n",
       "                [49.2038165412, 18.7540302348],\n",
       "                {&quot;bubblingMouseEvents&quot;: true, &quot;color&quot;: &quot;red&quot;, &quot;dashArray&quot;: null, &quot;dashOffset&quot;: null, &quot;fill&quot;: true, &quot;fillColor&quot;: &quot;red&quot;, &quot;fillOpacity&quot;: 0.3, &quot;fillRule&quot;: &quot;evenodd&quot;, &quot;lineCap&quot;: &quot;round&quot;, &quot;lineJoin&quot;: &quot;round&quot;, &quot;opacity&quot;: 1.0, &quot;radius&quot;: 6, &quot;stroke&quot;: true, &quot;weight&quot;: 3}\n",
       "            ).addTo(map_49950e162678e1a1fdb40519ce969937);\n",
       "        \n",
       "    \n",
       "        var popup_76e838291cd89944a88e9a1fdfb0dca8 = L.popup({&quot;maxWidth&quot;: &quot;100%&quot;});\n",
       "\n",
       "        \n",
       "            \n",
       "                var html_f817c9bc1a7066bddecb71cedcb8df5f = $(`&lt;div id=&quot;html_f817c9bc1a7066bddecb71cedcb8df5f&quot; style=&quot;width: 100.0%; height: 100.0%;&quot;&gt;Univerzitná,6A&lt;/div&gt;`)[0];\n",
       "                popup_76e838291cd89944a88e9a1fdfb0dca8.setContent(html_f817c9bc1a7066bddecb71cedcb8df5f);\n",
       "            \n",
       "        \n",
       "\n",
       "        circle_marker_9477e543c2ad8003e1e65cddc12803b9.bindPopup(popup_76e838291cd89944a88e9a1fdfb0dca8)\n",
       "        ;\n",
       "\n",
       "        \n",
       "    \n",
       "    \n",
       "            var circle_marker_6b75656c27ca1bd99a8a320284345805 = L.circleMarker(\n",
       "                [49.2017855, 18.7540148],\n",
       "                {&quot;bubblingMouseEvents&quot;: true, &quot;color&quot;: &quot;red&quot;, &quot;dashArray&quot;: null, &quot;dashOffset&quot;: null, &quot;fill&quot;: true, &quot;fillColor&quot;: &quot;red&quot;, &quot;fillOpacity&quot;: 0.3, &quot;fillRule&quot;: &quot;evenodd&quot;, &quot;lineCap&quot;: &quot;round&quot;, &quot;lineJoin&quot;: &quot;round&quot;, &quot;opacity&quot;: 1.0, &quot;radius&quot;: 6, &quot;stroke&quot;: true, &quot;weight&quot;: 3}\n",
       "            ).addTo(map_49950e162678e1a1fdb40519ce969937);\n",
       "        \n",
       "    \n",
       "        var popup_cf8ae9812b3b72b119916585dcdba4f1 = L.popup({&quot;maxWidth&quot;: &quot;100%&quot;});\n",
       "\n",
       "        \n",
       "            \n",
       "                var html_49345040370aedfbbee191078af10dc0 = $(`&lt;div id=&quot;html_49345040370aedfbbee191078af10dc0&quot; style=&quot;width: 100.0%; height: 100.0%;&quot;&gt;Univerzitná,3A&lt;/div&gt;`)[0];\n",
       "                popup_cf8ae9812b3b72b119916585dcdba4f1.setContent(html_49345040370aedfbbee191078af10dc0);\n",
       "            \n",
       "        \n",
       "\n",
       "        circle_marker_6b75656c27ca1bd99a8a320284345805.bindPopup(popup_cf8ae9812b3b72b119916585dcdba4f1)\n",
       "        ;\n",
       "\n",
       "        \n",
       "    \n",
       "    \n",
       "            var circle_marker_678be0bb86d2c3f07d759013972c5ce6 = L.circleMarker(\n",
       "                [49.2020801, 18.7542544],\n",
       "                {&quot;bubblingMouseEvents&quot;: true, &quot;color&quot;: &quot;red&quot;, &quot;dashArray&quot;: null, &quot;dashOffset&quot;: null, &quot;fill&quot;: true, &quot;fillColor&quot;: &quot;red&quot;, &quot;fillOpacity&quot;: 0.3, &quot;fillRule&quot;: &quot;evenodd&quot;, &quot;lineCap&quot;: &quot;round&quot;, &quot;lineJoin&quot;: &quot;round&quot;, &quot;opacity&quot;: 1.0, &quot;radius&quot;: 6, &quot;stroke&quot;: true, &quot;weight&quot;: 3}\n",
       "            ).addTo(map_49950e162678e1a1fdb40519ce969937);\n",
       "        \n",
       "    \n",
       "        var popup_400f970a66c18aeef6c195174bae75d2 = L.popup({&quot;maxWidth&quot;: &quot;100%&quot;});\n",
       "\n",
       "        \n",
       "            \n",
       "                var html_da8fb1824c31eea368b6159246b6a21e = $(`&lt;div id=&quot;html_da8fb1824c31eea368b6159246b6a21e&quot; style=&quot;width: 100.0%; height: 100.0%;&quot;&gt;Univerzitná,3B&lt;/div&gt;`)[0];\n",
       "                popup_400f970a66c18aeef6c195174bae75d2.setContent(html_da8fb1824c31eea368b6159246b6a21e);\n",
       "            \n",
       "        \n",
       "\n",
       "        circle_marker_678be0bb86d2c3f07d759013972c5ce6.bindPopup(popup_400f970a66c18aeef6c195174bae75d2)\n",
       "        ;\n",
       "\n",
       "        \n",
       "    \n",
       "    \n",
       "            var circle_marker_26896b0677f0e46f5c02d186fab7c134 = L.circleMarker(\n",
       "                [49.2017855, 18.7540148],\n",
       "                {&quot;bubblingMouseEvents&quot;: true, &quot;color&quot;: &quot;red&quot;, &quot;dashArray&quot;: null, &quot;dashOffset&quot;: null, &quot;fill&quot;: true, &quot;fillColor&quot;: &quot;red&quot;, &quot;fillOpacity&quot;: 0.3, &quot;fillRule&quot;: &quot;evenodd&quot;, &quot;lineCap&quot;: &quot;round&quot;, &quot;lineJoin&quot;: &quot;round&quot;, &quot;opacity&quot;: 1.0, &quot;radius&quot;: 6, &quot;stroke&quot;: true, &quot;weight&quot;: 3}\n",
       "            ).addTo(map_49950e162678e1a1fdb40519ce969937);\n",
       "        \n",
       "    \n",
       "        var popup_051a114f643d2db84b9a33c9c59dbab6 = L.popup({&quot;maxWidth&quot;: &quot;100%&quot;});\n",
       "\n",
       "        \n",
       "            \n",
       "                var html_b1c0fa08666af1a7e6fdefc5695df2fa = $(`&lt;div id=&quot;html_b1c0fa08666af1a7e6fdefc5695df2fa&quot; style=&quot;width: 100.0%; height: 100.0%;&quot;&gt;Univerzitná,3A&lt;/div&gt;`)[0];\n",
       "                popup_051a114f643d2db84b9a33c9c59dbab6.setContent(html_b1c0fa08666af1a7e6fdefc5695df2fa);\n",
       "            \n",
       "        \n",
       "\n",
       "        circle_marker_26896b0677f0e46f5c02d186fab7c134.bindPopup(popup_051a114f643d2db84b9a33c9c59dbab6)\n",
       "        ;\n",
       "\n",
       "        \n",
       "    \n",
       "&lt;/script&gt;\n",
       "&lt;/html&gt;\" style=\"position:absolute;width:100%;height:100%;left:0;top:0;border:none !important;\" allowfullscreen webkitallowfullscreen mozallowfullscreen></iframe></div></div>"
      ],
      "text/plain": [
       "<folium.folium.Map at 0x7f5cc7a8d7b0>"
      ]
     },
     "execution_count": 88,
     "metadata": {},
     "output_type": "execute_result"
    }
   ],
   "source": [
    "C, Lat, Lon = zip(*r)\n",
    "sur = zip(Lat, Lon)\n",
    "Lat_s, Lon_s = mean(Lat), mean(Lon)\n",
    "ul_map = folium.Map(location=(Lat_s, Lon_s),zoom_start = 170)\n",
    "for p, c in zip(sur, C):\n",
    "    ul_map.add_child(folium.CircleMarker(p,popup =\"%s,%s\" %(ulica, c), radius=6, color='red', fill_color='red', fill_opacity=0.3))\n",
    "ul_map"
   ]
  },
  {
   "cell_type": "markdown",
   "id": "aebd1aea-f508-457f-9d3a-688df25dba39",
   "metadata": {},
   "source": [
    "### Mapa psov\n",
    "zobrazit na mape, kde zije zadane plemeno<br>\n",
    "zobrazit na mape psov zijuch na zadanej ulici"
   ]
  },
  {
   "cell_type": "code",
   "execution_count": 36,
   "id": "8accb763-09c7-43c5-844e-7924de5519df",
   "metadata": {},
   "outputs": [
    {
     "data": {
      "text/html": [
       "<div>\n",
       "<style scoped>\n",
       "    .dataframe tbody tr th:only-of-type {\n",
       "        vertical-align: middle;\n",
       "    }\n",
       "\n",
       "    .dataframe tbody tr th {\n",
       "        vertical-align: top;\n",
       "    }\n",
       "\n",
       "    .dataframe thead th {\n",
       "        text-align: right;\n",
       "    }\n",
       "</style>\n",
       "<table border=\"1\" class=\"dataframe\">\n",
       "  <thead>\n",
       "    <tr style=\"text-align: right;\">\n",
       "      <th></th>\n",
       "      <th>Plemeno</th>\n",
       "      <th>Ulica</th>\n",
       "      <th>Cislo</th>\n",
       "    </tr>\n",
       "  </thead>\n",
       "  <tbody>\n",
       "    <tr>\n",
       "      <th>0</th>\n",
       "      <td>Maltézky psík</td>\n",
       "      <td>Agátová</td>\n",
       "      <td>3</td>\n",
       "    </tr>\n",
       "    <tr>\n",
       "      <th>1</th>\n",
       "      <td>Bišon</td>\n",
       "      <td>Belianska</td>\n",
       "      <td>6</td>\n",
       "    </tr>\n",
       "    <tr>\n",
       "      <th>2</th>\n",
       "      <td>Yorkshirský teriér</td>\n",
       "      <td>Belianska</td>\n",
       "      <td>6</td>\n",
       "    </tr>\n",
       "    <tr>\n",
       "      <th>3</th>\n",
       "      <td>Nemecký ovčiak</td>\n",
       "      <td>Belianska</td>\n",
       "      <td>7</td>\n",
       "    </tr>\n",
       "    <tr>\n",
       "      <th>4</th>\n",
       "      <td>Kríženec</td>\n",
       "      <td>Belianska</td>\n",
       "      <td>11</td>\n",
       "    </tr>\n",
       "    <tr>\n",
       "      <th>...</th>\n",
       "      <td>...</td>\n",
       "      <td>...</td>\n",
       "      <td>...</td>\n",
       "    </tr>\n",
       "    <tr>\n",
       "      <th>3184</th>\n",
       "      <td>Pudel</td>\n",
       "      <td>Sovia</td>\n",
       "      <td>7</td>\n",
       "    </tr>\n",
       "    <tr>\n",
       "      <th>3185</th>\n",
       "      <td>Pudel</td>\n",
       "      <td>Sovia</td>\n",
       "      <td>7</td>\n",
       "    </tr>\n",
       "    <tr>\n",
       "      <th>3186</th>\n",
       "      <td>Čivava</td>\n",
       "      <td>Sovia</td>\n",
       "      <td>29</td>\n",
       "    </tr>\n",
       "    <tr>\n",
       "      <th>3187</th>\n",
       "      <td>Kríženec</td>\n",
       "      <td>Teriakovská</td>\n",
       "      <td>6</td>\n",
       "    </tr>\n",
       "    <tr>\n",
       "      <th>3188</th>\n",
       "      <td>Zlatý retriever</td>\n",
       "      <td>Teriakovská</td>\n",
       "      <td>7</td>\n",
       "    </tr>\n",
       "  </tbody>\n",
       "</table>\n",
       "<p>3189 rows × 3 columns</p>\n",
       "</div>"
      ],
      "text/plain": [
       "                 Plemeno        Ulica       Cislo\n",
       "0          Maltézky psík      Agátová     3      \n",
       "1                  Bišon    Belianska     6      \n",
       "2     Yorkshirský teriér    Belianska     6      \n",
       "3         Nemecký ovčiak    Belianska     7      \n",
       "4               Kríženec    Belianska    11      \n",
       "...                  ...          ...         ...\n",
       "3184               Pudel        Sovia     7      \n",
       "3185               Pudel        Sovia     7      \n",
       "3186              Čivava        Sovia    29      \n",
       "3187            Kríženec  Teriakovská     6      \n",
       "3188     Zlatý retriever  Teriakovská     7      \n",
       "\n",
       "[3189 rows x 3 columns]"
      ]
     },
     "execution_count": 36,
     "metadata": {},
     "output_type": "execute_result"
    }
   ],
   "source": [
    "import pandas as pd\n",
    "df = pd.read_json('PsyPresov.json')\n",
    "psi = df[['Plemeno', 'Ulica_(chovu_psa)', 'Orient._č.']].rename(columns={'Ulica_(chovu_psa)' : 'Ulica', 'Orient._č.' : 'Cislo'})\n",
    "psi = psi[psi['Ulica'] != '']\n",
    "psi"
   ]
  },
  {
   "cell_type": "code",
   "execution_count": 41,
   "id": "1c7d1cc2-8e49-42ff-8a82-bedc89bdd596",
   "metadata": {},
   "outputs": [],
   "source": [
    "def zadaj_Plemeno(pl):\n",
    "    return psi[psi['Plemeno'] == pl]\n",
    "    "
   ]
  },
  {
   "cell_type": "code",
   "execution_count": 48,
   "id": "26038f51-77d5-4d59-bab6-3a328157dc68",
   "metadata": {},
   "outputs": [
    {
     "data": {
      "text/html": [
       "<div>\n",
       "<style scoped>\n",
       "    .dataframe tbody tr th:only-of-type {\n",
       "        vertical-align: middle;\n",
       "    }\n",
       "\n",
       "    .dataframe tbody tr th {\n",
       "        vertical-align: top;\n",
       "    }\n",
       "\n",
       "    .dataframe thead th {\n",
       "        text-align: right;\n",
       "    }\n",
       "</style>\n",
       "<table border=\"1\" class=\"dataframe\">\n",
       "  <thead>\n",
       "    <tr style=\"text-align: right;\">\n",
       "      <th></th>\n",
       "      <th>Ulica</th>\n",
       "      <th>Cislo</th>\n",
       "    </tr>\n",
       "  </thead>\n",
       "  <tbody>\n",
       "    <tr>\n",
       "      <th>282</th>\n",
       "      <td>Arm. gen. Svobodu</td>\n",
       "      <td>22</td>\n",
       "    </tr>\n",
       "    <tr>\n",
       "      <th>388</th>\n",
       "      <td>Bratislavská</td>\n",
       "      <td>8</td>\n",
       "    </tr>\n",
       "    <tr>\n",
       "      <th>1160</th>\n",
       "      <td>Majakovského</td>\n",
       "      <td>15</td>\n",
       "    </tr>\n",
       "    <tr>\n",
       "      <th>2255</th>\n",
       "      <td>Veselá</td>\n",
       "      <td>5</td>\n",
       "    </tr>\n",
       "    <tr>\n",
       "      <th>2411</th>\n",
       "      <td>Wolkerova</td>\n",
       "      <td>11</td>\n",
       "    </tr>\n",
       "    <tr>\n",
       "      <th>2792</th>\n",
       "      <td>Lomnická</td>\n",
       "      <td>16</td>\n",
       "    </tr>\n",
       "    <tr>\n",
       "      <th>3041</th>\n",
       "      <td>Švábska</td>\n",
       "      <td>60</td>\n",
       "    </tr>\n",
       "  </tbody>\n",
       "</table>\n",
       "</div>"
      ],
      "text/plain": [
       "                  Ulica       Cislo\n",
       "282   Arm. gen. Svobodu    22      \n",
       "388        Bratislavská     8      \n",
       "1160       Majakovského    15      \n",
       "2255             Veselá     5      \n",
       "2411          Wolkerova    11      \n",
       "2792           Lomnická    16      \n",
       "3041            Švábska    60      "
      ]
     },
     "execution_count": 48,
     "metadata": {},
     "output_type": "execute_result"
    }
   ],
   "source": [
    "pl = psi[psi['Plemeno'] == 'bígel']\n",
    "bydlisko = pl[['Ulica', 'Cislo']]\n",
    "bydlisko"
   ]
  },
  {
   "cell_type": "code",
   "execution_count": 84,
   "id": "6251fc4d-d4d6-4763-9bf1-487fd674a0e1",
   "metadata": {},
   "outputs": [
    {
     "data": {
      "text/plain": [
       "[(48.9857735617, 21.2656540658),\n",
       " (48.988680833, 21.2671800005),\n",
       " (49.0074069229, 21.2367935938),\n",
       " None,\n",
       " (49.0046655364, 21.2375464815),\n",
       " (48.9725905741, 21.2624909971),\n",
       " (48.972341275, 21.2593929411)]"
      ]
     },
     "execution_count": 84,
     "metadata": {},
     "output_type": "execute_result"
    }
   ],
   "source": [
    "U = list(bydlisko['Ulica'].values)\n",
    "C = [c.strip() for c in bydlisko['Cislo'].values]\n",
    "adr = zip(U,C)\n",
    "adresy=[i for i in adr]\n",
    "sur = []\n",
    "for u,c in adresy:\n",
    "    gps = lokalizacia_adresy(\"Prešov\", u, c)\n",
    "    if gps == []:\n",
    "        gps = [None]\n",
    "    sur += gps\n",
    "sur\n"
   ]
  },
  {
   "cell_type": "code",
   "execution_count": 87,
   "id": "83c6e49e-dc95-40f6-8035-b24b9d832ffa",
   "metadata": {},
   "outputs": [
    {
     "data": {
      "text/html": [
       "<div style=\"width:100%;\"><div style=\"position:relative;width:100%;height:0;padding-bottom:60%;\"><span style=\"color:#565656\">Make this Notebook Trusted to load map: File -> Trust Notebook</span><iframe srcdoc=\"&lt;!DOCTYPE html&gt;\n",
       "&lt;html&gt;\n",
       "&lt;head&gt;\n",
       "    \n",
       "    &lt;meta http-equiv=&quot;content-type&quot; content=&quot;text/html; charset=UTF-8&quot; /&gt;\n",
       "    \n",
       "        &lt;script&gt;\n",
       "            L_NO_TOUCH = false;\n",
       "            L_DISABLE_3D = false;\n",
       "        &lt;/script&gt;\n",
       "    \n",
       "    &lt;style&gt;html, body {width: 100%;height: 100%;margin: 0;padding: 0;}&lt;/style&gt;\n",
       "    &lt;style&gt;#map {position:absolute;top:0;bottom:0;right:0;left:0;}&lt;/style&gt;\n",
       "    &lt;script src=&quot;https://cdn.jsdelivr.net/npm/leaflet@1.9.3/dist/leaflet.js&quot;&gt;&lt;/script&gt;\n",
       "    &lt;script src=&quot;https://code.jquery.com/jquery-3.7.1.min.js&quot;&gt;&lt;/script&gt;\n",
       "    &lt;script src=&quot;https://cdn.jsdelivr.net/npm/bootstrap@5.2.2/dist/js/bootstrap.bundle.min.js&quot;&gt;&lt;/script&gt;\n",
       "    &lt;script src=&quot;https://cdnjs.cloudflare.com/ajax/libs/Leaflet.awesome-markers/2.0.2/leaflet.awesome-markers.js&quot;&gt;&lt;/script&gt;\n",
       "    &lt;link rel=&quot;stylesheet&quot; href=&quot;https://cdn.jsdelivr.net/npm/leaflet@1.9.3/dist/leaflet.css&quot;/&gt;\n",
       "    &lt;link rel=&quot;stylesheet&quot; href=&quot;https://cdn.jsdelivr.net/npm/bootstrap@5.2.2/dist/css/bootstrap.min.css&quot;/&gt;\n",
       "    &lt;link rel=&quot;stylesheet&quot; href=&quot;https://netdna.bootstrapcdn.com/bootstrap/3.0.0/css/bootstrap.min.css&quot;/&gt;\n",
       "    &lt;link rel=&quot;stylesheet&quot; href=&quot;https://cdn.jsdelivr.net/npm/@fortawesome/fontawesome-free@6.2.0/css/all.min.css&quot;/&gt;\n",
       "    &lt;link rel=&quot;stylesheet&quot; href=&quot;https://cdnjs.cloudflare.com/ajax/libs/Leaflet.awesome-markers/2.0.2/leaflet.awesome-markers.css&quot;/&gt;\n",
       "    &lt;link rel=&quot;stylesheet&quot; href=&quot;https://cdn.jsdelivr.net/gh/python-visualization/folium/folium/templates/leaflet.awesome.rotate.min.css&quot;/&gt;\n",
       "    \n",
       "            &lt;meta name=&quot;viewport&quot; content=&quot;width=device-width,\n",
       "                initial-scale=1.0, maximum-scale=1.0, user-scalable=no&quot; /&gt;\n",
       "            &lt;style&gt;\n",
       "                #map_4f947a9882e0562f7d5c95208952ecda {\n",
       "                    position: relative;\n",
       "                    width: 100.0%;\n",
       "                    height: 100.0%;\n",
       "                    left: 0.0%;\n",
       "                    top: 0.0%;\n",
       "                }\n",
       "                .leaflet-container { font-size: 1rem; }\n",
       "            &lt;/style&gt;\n",
       "        \n",
       "&lt;/head&gt;\n",
       "&lt;body&gt;\n",
       "    \n",
       "    \n",
       "            &lt;div class=&quot;folium-map&quot; id=&quot;map_4f947a9882e0562f7d5c95208952ecda&quot; &gt;&lt;/div&gt;\n",
       "        \n",
       "&lt;/body&gt;\n",
       "&lt;script&gt;\n",
       "    \n",
       "    \n",
       "            var map_4f947a9882e0562f7d5c95208952ecda = L.map(\n",
       "                &quot;map_4f947a9882e0562f7d5c95208952ecda&quot;,\n",
       "                {\n",
       "                    center: [48.98857645051667, 21.2548430133],\n",
       "                    crs: L.CRS.EPSG3857,\n",
       "                    zoom: 14,\n",
       "                    zoomControl: true,\n",
       "                    preferCanvas: false,\n",
       "                }\n",
       "            );\n",
       "\n",
       "            \n",
       "\n",
       "        \n",
       "    \n",
       "            var tile_layer_c00dac70e3ba23ffb6d8fa26b3cbb1dd = L.tileLayer(\n",
       "                &quot;https://tile.openstreetmap.org/{z}/{x}/{y}.png&quot;,\n",
       "                {&quot;attribution&quot;: &quot;\\u0026copy; \\u003ca href=\\&quot;https://www.openstreetmap.org/copyright\\&quot;\\u003eOpenStreetMap\\u003c/a\\u003e contributors&quot;, &quot;detectRetina&quot;: false, &quot;maxNativeZoom&quot;: 19, &quot;maxZoom&quot;: 19, &quot;minZoom&quot;: 0, &quot;noWrap&quot;: false, &quot;opacity&quot;: 1, &quot;subdomains&quot;: &quot;abc&quot;, &quot;tms&quot;: false}\n",
       "            );\n",
       "        \n",
       "    \n",
       "            tile_layer_c00dac70e3ba23ffb6d8fa26b3cbb1dd.addTo(map_4f947a9882e0562f7d5c95208952ecda);\n",
       "        \n",
       "    \n",
       "            var circle_marker_422028120badfe1276ee6272db630160 = L.circleMarker(\n",
       "                [48.9857735617, 21.2656540658],\n",
       "                {&quot;bubblingMouseEvents&quot;: true, &quot;color&quot;: &quot;red&quot;, &quot;dashArray&quot;: null, &quot;dashOffset&quot;: null, &quot;fill&quot;: true, &quot;fillColor&quot;: &quot;red&quot;, &quot;fillOpacity&quot;: 0.3, &quot;fillRule&quot;: &quot;evenodd&quot;, &quot;lineCap&quot;: &quot;round&quot;, &quot;lineJoin&quot;: &quot;round&quot;, &quot;opacity&quot;: 1.0, &quot;radius&quot;: 6, &quot;stroke&quot;: true, &quot;weight&quot;: 3}\n",
       "            ).addTo(map_4f947a9882e0562f7d5c95208952ecda);\n",
       "        \n",
       "    \n",
       "        var popup_26bc5c114499d77bb828719b86b21eb9 = L.popup({&quot;maxWidth&quot;: &quot;100%&quot;});\n",
       "\n",
       "        \n",
       "            \n",
       "                var html_4c0999121d971d3058deb95533d7a1bc = $(`&lt;div id=&quot;html_4c0999121d971d3058deb95533d7a1bc&quot; style=&quot;width: 100.0%; height: 100.0%;&quot;&gt;Arm. gen. Svobodu,22&lt;/div&gt;`)[0];\n",
       "                popup_26bc5c114499d77bb828719b86b21eb9.setContent(html_4c0999121d971d3058deb95533d7a1bc);\n",
       "            \n",
       "        \n",
       "\n",
       "        circle_marker_422028120badfe1276ee6272db630160.bindPopup(popup_26bc5c114499d77bb828719b86b21eb9)\n",
       "        ;\n",
       "\n",
       "        \n",
       "    \n",
       "    \n",
       "            var circle_marker_0286e7d0a0f3a7a429f01b6351b78c39 = L.circleMarker(\n",
       "                [48.988680833, 21.2671800005],\n",
       "                {&quot;bubblingMouseEvents&quot;: true, &quot;color&quot;: &quot;red&quot;, &quot;dashArray&quot;: null, &quot;dashOffset&quot;: null, &quot;fill&quot;: true, &quot;fillColor&quot;: &quot;red&quot;, &quot;fillOpacity&quot;: 0.3, &quot;fillRule&quot;: &quot;evenodd&quot;, &quot;lineCap&quot;: &quot;round&quot;, &quot;lineJoin&quot;: &quot;round&quot;, &quot;opacity&quot;: 1.0, &quot;radius&quot;: 6, &quot;stroke&quot;: true, &quot;weight&quot;: 3}\n",
       "            ).addTo(map_4f947a9882e0562f7d5c95208952ecda);\n",
       "        \n",
       "    \n",
       "        var popup_f92cc9c573b5e803f203ee6fef80a327 = L.popup({&quot;maxWidth&quot;: &quot;100%&quot;});\n",
       "\n",
       "        \n",
       "            \n",
       "                var html_f42dfdaa3789b597cc9822ff643c0f3c = $(`&lt;div id=&quot;html_f42dfdaa3789b597cc9822ff643c0f3c&quot; style=&quot;width: 100.0%; height: 100.0%;&quot;&gt;Bratislavská,8&lt;/div&gt;`)[0];\n",
       "                popup_f92cc9c573b5e803f203ee6fef80a327.setContent(html_f42dfdaa3789b597cc9822ff643c0f3c);\n",
       "            \n",
       "        \n",
       "\n",
       "        circle_marker_0286e7d0a0f3a7a429f01b6351b78c39.bindPopup(popup_f92cc9c573b5e803f203ee6fef80a327)\n",
       "        ;\n",
       "\n",
       "        \n",
       "    \n",
       "    \n",
       "            var circle_marker_e70bef83df1827e21f8c0e6be49e7aa3 = L.circleMarker(\n",
       "                [49.0074069229, 21.2367935938],\n",
       "                {&quot;bubblingMouseEvents&quot;: true, &quot;color&quot;: &quot;red&quot;, &quot;dashArray&quot;: null, &quot;dashOffset&quot;: null, &quot;fill&quot;: true, &quot;fillColor&quot;: &quot;red&quot;, &quot;fillOpacity&quot;: 0.3, &quot;fillRule&quot;: &quot;evenodd&quot;, &quot;lineCap&quot;: &quot;round&quot;, &quot;lineJoin&quot;: &quot;round&quot;, &quot;opacity&quot;: 1.0, &quot;radius&quot;: 6, &quot;stroke&quot;: true, &quot;weight&quot;: 3}\n",
       "            ).addTo(map_4f947a9882e0562f7d5c95208952ecda);\n",
       "        \n",
       "    \n",
       "        var popup_f4e9771b2153e157c5ed9bdb555ed051 = L.popup({&quot;maxWidth&quot;: &quot;100%&quot;});\n",
       "\n",
       "        \n",
       "            \n",
       "                var html_c5fee5188471882d088cde19d6d9843a = $(`&lt;div id=&quot;html_c5fee5188471882d088cde19d6d9843a&quot; style=&quot;width: 100.0%; height: 100.0%;&quot;&gt;Majakovského,15&lt;/div&gt;`)[0];\n",
       "                popup_f4e9771b2153e157c5ed9bdb555ed051.setContent(html_c5fee5188471882d088cde19d6d9843a);\n",
       "            \n",
       "        \n",
       "\n",
       "        circle_marker_e70bef83df1827e21f8c0e6be49e7aa3.bindPopup(popup_f4e9771b2153e157c5ed9bdb555ed051)\n",
       "        ;\n",
       "\n",
       "        \n",
       "    \n",
       "    \n",
       "            var circle_marker_5871de19bd9d33fb4db02c8498321471 = L.circleMarker(\n",
       "                [49.0046655364, 21.2375464815],\n",
       "                {&quot;bubblingMouseEvents&quot;: true, &quot;color&quot;: &quot;red&quot;, &quot;dashArray&quot;: null, &quot;dashOffset&quot;: null, &quot;fill&quot;: true, &quot;fillColor&quot;: &quot;red&quot;, &quot;fillOpacity&quot;: 0.3, &quot;fillRule&quot;: &quot;evenodd&quot;, &quot;lineCap&quot;: &quot;round&quot;, &quot;lineJoin&quot;: &quot;round&quot;, &quot;opacity&quot;: 1.0, &quot;radius&quot;: 6, &quot;stroke&quot;: true, &quot;weight&quot;: 3}\n",
       "            ).addTo(map_4f947a9882e0562f7d5c95208952ecda);\n",
       "        \n",
       "    \n",
       "        var popup_2bc3a8725542552f81d715d8efdf52c4 = L.popup({&quot;maxWidth&quot;: &quot;100%&quot;});\n",
       "\n",
       "        \n",
       "            \n",
       "                var html_90e68034b4f73bd709ed0715d6126784 = $(`&lt;div id=&quot;html_90e68034b4f73bd709ed0715d6126784&quot; style=&quot;width: 100.0%; height: 100.0%;&quot;&gt;Wolkerova,11&lt;/div&gt;`)[0];\n",
       "                popup_2bc3a8725542552f81d715d8efdf52c4.setContent(html_90e68034b4f73bd709ed0715d6126784);\n",
       "            \n",
       "        \n",
       "\n",
       "        circle_marker_5871de19bd9d33fb4db02c8498321471.bindPopup(popup_2bc3a8725542552f81d715d8efdf52c4)\n",
       "        ;\n",
       "\n",
       "        \n",
       "    \n",
       "    \n",
       "            var circle_marker_ea39d44539e5e840fb12fd17f42c81a7 = L.circleMarker(\n",
       "                [48.9725905741, 21.2624909971],\n",
       "                {&quot;bubblingMouseEvents&quot;: true, &quot;color&quot;: &quot;red&quot;, &quot;dashArray&quot;: null, &quot;dashOffset&quot;: null, &quot;fill&quot;: true, &quot;fillColor&quot;: &quot;red&quot;, &quot;fillOpacity&quot;: 0.3, &quot;fillRule&quot;: &quot;evenodd&quot;, &quot;lineCap&quot;: &quot;round&quot;, &quot;lineJoin&quot;: &quot;round&quot;, &quot;opacity&quot;: 1.0, &quot;radius&quot;: 6, &quot;stroke&quot;: true, &quot;weight&quot;: 3}\n",
       "            ).addTo(map_4f947a9882e0562f7d5c95208952ecda);\n",
       "        \n",
       "    \n",
       "        var popup_0967df80b5e81cd07feea5d84215d115 = L.popup({&quot;maxWidth&quot;: &quot;100%&quot;});\n",
       "\n",
       "        \n",
       "            \n",
       "                var html_e1c74904de09b258b61f770f827d921b = $(`&lt;div id=&quot;html_e1c74904de09b258b61f770f827d921b&quot; style=&quot;width: 100.0%; height: 100.0%;&quot;&gt;Lomnická,16&lt;/div&gt;`)[0];\n",
       "                popup_0967df80b5e81cd07feea5d84215d115.setContent(html_e1c74904de09b258b61f770f827d921b);\n",
       "            \n",
       "        \n",
       "\n",
       "        circle_marker_ea39d44539e5e840fb12fd17f42c81a7.bindPopup(popup_0967df80b5e81cd07feea5d84215d115)\n",
       "        ;\n",
       "\n",
       "        \n",
       "    \n",
       "    \n",
       "            var circle_marker_ab309eb9bcb5cd956059c7e6b47dff76 = L.circleMarker(\n",
       "                [48.972341275, 21.2593929411],\n",
       "                {&quot;bubblingMouseEvents&quot;: true, &quot;color&quot;: &quot;red&quot;, &quot;dashArray&quot;: null, &quot;dashOffset&quot;: null, &quot;fill&quot;: true, &quot;fillColor&quot;: &quot;red&quot;, &quot;fillOpacity&quot;: 0.3, &quot;fillRule&quot;: &quot;evenodd&quot;, &quot;lineCap&quot;: &quot;round&quot;, &quot;lineJoin&quot;: &quot;round&quot;, &quot;opacity&quot;: 1.0, &quot;radius&quot;: 6, &quot;stroke&quot;: true, &quot;weight&quot;: 3}\n",
       "            ).addTo(map_4f947a9882e0562f7d5c95208952ecda);\n",
       "        \n",
       "    \n",
       "        var popup_2d3dbb8d0ba8035f4d2895d436cb7f43 = L.popup({&quot;maxWidth&quot;: &quot;100%&quot;});\n",
       "\n",
       "        \n",
       "            \n",
       "                var html_fe1c2009df3a6e1b79f9269ee8dcce49 = $(`&lt;div id=&quot;html_fe1c2009df3a6e1b79f9269ee8dcce49&quot; style=&quot;width: 100.0%; height: 100.0%;&quot;&gt;Švábska,60&lt;/div&gt;`)[0];\n",
       "                popup_2d3dbb8d0ba8035f4d2895d436cb7f43.setContent(html_fe1c2009df3a6e1b79f9269ee8dcce49);\n",
       "            \n",
       "        \n",
       "\n",
       "        circle_marker_ab309eb9bcb5cd956059c7e6b47dff76.bindPopup(popup_2d3dbb8d0ba8035f4d2895d436cb7f43)\n",
       "        ;\n",
       "\n",
       "        \n",
       "    \n",
       "&lt;/script&gt;\n",
       "&lt;/html&gt;\" style=\"position:absolute;width:100%;height:100%;left:0;top:0;border:none !important;\" allowfullscreen webkitallowfullscreen mozallowfullscreen></iframe></div></div>"
      ],
      "text/plain": [
       "<folium.folium.Map at 0x7f5cc93bcbe0>"
      ]
     },
     "execution_count": 87,
     "metadata": {},
     "output_type": "execute_result"
    }
   ],
   "source": [
    "osur = [i for i in sur if i != None]\n",
    "Lat, Lon = zip(*osur)\n",
    "Lat_s, Lon_s = mean(Lat), mean(Lon)\n",
    "ul_map = folium.Map(location=(Lat_s,Lon_s),zoom_start = 14)\n",
    "for p, a in zip(sur, adresy):\n",
    "    if p != None:\n",
    "        ul_map.add_child(folium.CircleMarker(p,popup =\"%s,%s\" %(a[0],a[1]), radius=6, color='red', fill_color='red', fill_opacity=0.3))\n",
    "ul_map"
   ]
  }
 ],
 "metadata": {
  "kernelspec": {
   "display_name": "Python 3 (ipykernel)",
   "language": "python",
   "name": "python3"
  },
  "language_info": {
   "codemirror_mode": {
    "name": "ipython",
    "version": 3
   },
   "file_extension": ".py",
   "mimetype": "text/x-python",
   "name": "python",
   "nbconvert_exporter": "python",
   "pygments_lexer": "ipython3",
   "version": "3.10.8"
  }
 },
 "nbformat": 4,
 "nbformat_minor": 5
}

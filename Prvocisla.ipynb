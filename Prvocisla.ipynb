{
 "cells": [
  {
   "cell_type": "markdown",
   "id": "6719a128-1397-4fb6-8b0b-29b6f563d6c2",
   "metadata": {},
   "source": [
    "# Summation of Primes\n",
    "<p>The sum of the primes below $10$ is $2 + 3 + 5 + 7 = 17$.</p>\n",
    "<p>Find the sum of all the primes below two million.</p>\n",
    "\n",
    "\n"
   ]
  },
  {
   "cell_type": "code",
   "execution_count": 5,
   "id": "c356176a-737f-4c1f-bc2c-7de386db4f8d",
   "metadata": {},
   "outputs": [
    {
     "name": "stdout",
     "output_type": "stream",
     "text": [
      "[2, 3, 4, 5, 6, 7, 8, 9, 10, 11, 12, 13, 14, 15, 16, 17, 18, 19, 20, 21, 22, 23, 24, 25, 26, 27, 28, 29]\n"
     ]
    }
   ],
   "source": [
    "# vsekty prvocisla mensie ako n\n",
    "# Erasthostenovo sito\n",
    "n = 30\n",
    "zoznam = [i for i in range(2, n)]\n",
    "print(zoznam)"
   ]
  },
  {
   "cell_type": "code",
   "execution_count": 9,
   "id": "27616afc-6de4-4165-8d57-9a0c95177af7",
   "metadata": {
    "tags": []
   },
   "outputs": [
    {
     "data": {
      "text/plain": [
       "[4, 6, 8, 10, 12, 14, 16, 18, 20, 22, 24, 26, 28]"
      ]
     },
     "execution_count": 9,
     "metadata": {},
     "output_type": "execute_result"
    }
   ],
   "source": [
    "skrtni = [i for i in range(4,n,2)]\n",
    "skrtni"
   ]
  },
  {
   "cell_type": "code",
   "execution_count": 12,
   "id": "4fb3691d-f082-4e64-afb0-eec58c426a71",
   "metadata": {
    "tags": []
   },
   "outputs": [
    {
     "name": "stdout",
     "output_type": "stream",
     "text": [
      "[2, 3, 5, 7, 11, 13, 17, 19, 23, 25, 29]\n"
     ]
    }
   ],
   "source": [
    "zoznam = [i for i in zoznam if i not in skrtni]\n",
    "skrtni = [i for i in range(9,n,3)]\n",
    "zoznam = [i for i in zoznam if i not in skrtni]\n",
    "print(zoznam)"
   ]
  },
  {
   "cell_type": "code",
   "execution_count": 13,
   "id": "d6b13b8b-08f1-4733-a6d1-a1140ff50fdd",
   "metadata": {
    "tags": []
   },
   "outputs": [
    {
     "name": "stdout",
     "output_type": "stream",
     "text": [
      "[2, 3, 5, 7, 11, 13, 17, 19, 23, 29]\n"
     ]
    }
   ],
   "source": [
    "skrtni = [i for i in range(25,n,5)]\n",
    "zoznam = [i for i in zoznam if i not in skrtni]\n",
    "print(zoznam)"
   ]
  },
  {
   "cell_type": "code",
   "execution_count": 14,
   "id": "b9333505-7510-43d3-85f0-dfc618810a2f",
   "metadata": {
    "tags": []
   },
   "outputs": [],
   "source": [
    "# zhrnutie \n",
    "def sito(n):\n",
    "    zoznam = [i for i in range(2, n)]\n",
    "    odm = int(n**0.5)\n",
    "    for j in range(2,odm+1):\n",
    "        if j not in zoznam:\n",
    "            continue\n",
    "        skrtni = [i for i in range(j*j, n, j)]\n",
    "        zoznam = [i for i in zoznam if i not in skrtni]\n",
    "    return zoznam"
   ]
  },
  {
   "cell_type": "code",
   "execution_count": 16,
   "id": "01f49e59-d7c0-4f5c-a0c5-571bf03e22f6",
   "metadata": {
    "tags": []
   },
   "outputs": [
    {
     "data": {
      "text/plain": [
       "[2, 3, 5, 7, 11, 13, 17, 19, 23, 29]"
      ]
     },
     "execution_count": 16,
     "metadata": {},
     "output_type": "execute_result"
    }
   ],
   "source": [
    "sito(30)"
   ]
  },
  {
   "cell_type": "code",
   "execution_count": 20,
   "id": "91ee411b-106d-40ed-8d54-a2b6c09ef105",
   "metadata": {
    "tags": []
   },
   "outputs": [
    {
     "name": "stdout",
     "output_type": "stream",
     "text": [
      "[False, False, True, True, True, True, True, True, True, True, True, True, True, True, True, True, True, True, True, True, True, True, True, True, True, True, True, True, True, True]\n"
     ]
    }
   ],
   "source": [
    "# Zefektivni!!\n",
    "n=30\n",
    "zoznam = [True]*n\n",
    "zoznam[:2] = [False, False]\n",
    "print(zoznam)"
   ]
  },
  {
   "cell_type": "code",
   "execution_count": 11,
   "id": "38d65568-dfd4-4121-84db-1834c924b280",
   "metadata": {
    "tags": []
   },
   "outputs": [],
   "source": [
    "def sito2(n):\n",
    "    zoznam = [True]*n\n",
    "    zoznam[:2] = [False, False]\n",
    "    odm = int(n**0.5)\n",
    "    for j in range(2,odm+1):\n",
    "        if not zoznam[j]:\n",
    "            continue\n",
    "        for i in range(j*j,n,j):\n",
    "            zoznam[i] = False\n",
    "    return [i for i in range(n) if zoznam[i]]"
   ]
  },
  {
   "cell_type": "code",
   "execution_count": 32,
   "id": "0b07226a-6eba-43b6-8392-2026f938690b",
   "metadata": {
    "tags": []
   },
   "outputs": [
    {
     "name": "stdout",
     "output_type": "stream",
     "text": [
      "[2, 3, 5, 7, 11, 13, 17, 19, 23, 29]\n"
     ]
    }
   ],
   "source": [
    "print(sito2(30))"
   ]
  },
  {
   "cell_type": "code",
   "execution_count": 38,
   "id": "a6fcd4be-0312-4761-b20e-4417f6606d14",
   "metadata": {
    "tags": []
   },
   "outputs": [
    {
     "name": "stdout",
     "output_type": "stream",
     "text": [
      "CPU times: user 17.3 s, sys: 4 µs, total: 17.3 s\n",
      "Wall time: 17.3 s\n"
     ]
    }
   ],
   "source": [
    "%time s=sito(50000)"
   ]
  },
  {
   "cell_type": "code",
   "execution_count": 12,
   "id": "44d1e8e6-9855-4440-90be-06d819d7eae6",
   "metadata": {
    "tags": []
   },
   "outputs": [
    {
     "name": "stdout",
     "output_type": "stream",
     "text": [
      "CPU times: user 12.7 ms, sys: 302 µs, total: 13 ms\n",
      "Wall time: 12.9 ms\n"
     ]
    }
   ],
   "source": [
    "%time s2 = sito2(50000)"
   ]
  },
  {
   "cell_type": "code",
   "execution_count": 7,
   "id": "4b8d7b66-173f-401b-87cc-86cccb6618ba",
   "metadata": {
    "tags": []
   },
   "outputs": [],
   "source": [
    "import numpy as np\n",
    "def sito3(n):\n",
    "    zoznam = np.ones(n, 'bool')\n",
    "    zoznam[:2] = False\n",
    "    odm = int(n**0.5)\n",
    "    for j in range(2,odm+1):\n",
    "        if not zoznam[j]:\n",
    "            continue\n",
    "        zoznam[j*j:n:j] = False\n",
    "    return [i for i in range(2,n) if zoznam[i]]"
   ]
  },
  {
   "cell_type": "code",
   "execution_count": 13,
   "id": "7c0015b0-c5fe-4488-8854-ecfb2b9e35fb",
   "metadata": {
    "tags": []
   },
   "outputs": [
    {
     "name": "stdout",
     "output_type": "stream",
     "text": [
      "CPU times: user 10.9 ms, sys: 0 ns, total: 10.9 ms\n",
      "Wall time: 9.86 ms\n"
     ]
    }
   ],
   "source": [
    "%time s3 = sito3(50000)"
   ]
  },
  {
   "cell_type": "code",
   "execution_count": 15,
   "id": "86f28e20-c192-478e-a082-fb6a38d7390b",
   "metadata": {
    "tags": []
   },
   "outputs": [
    {
     "name": "stdout",
     "output_type": "stream",
     "text": [
      "CPU times: user 14.6 s, sys: 296 ms, total: 14.9 s\n",
      "Wall time: 14.9 s\n"
     ]
    }
   ],
   "source": [
    "# Sito 2 vs sito 3\n",
    "%time s2 = sito2(50000000)"
   ]
  },
  {
   "cell_type": "code",
   "execution_count": 16,
   "id": "2bdf2fab-8894-4908-9c1e-4c5f05d7897c",
   "metadata": {
    "tags": []
   },
   "outputs": [
    {
     "name": "stdout",
     "output_type": "stream",
     "text": [
      "CPU times: user 7.75 s, sys: 68 ms, total: 7.81 s\n",
      "Wall time: 7.81 s\n"
     ]
    }
   ],
   "source": [
    "%time s3 = sito3(50000000)"
   ]
  },
  {
   "cell_type": "code",
   "execution_count": 17,
   "id": "f8497e82-ba2c-49bb-aaac-cb76b5cfacdd",
   "metadata": {
    "tags": []
   },
   "outputs": [
    {
     "data": {
      "text/plain": [
       "142913828922"
      ]
     },
     "execution_count": 17,
     "metadata": {},
     "output_type": "execute_result"
    }
   ],
   "source": [
    "s3 = sito3(2000000)\n",
    "sum(s3)"
   ]
  },
  {
   "cell_type": "code",
   "execution_count": null,
   "id": "c19b0587-2cc3-4f1a-b145-39b8089a73bf",
   "metadata": {},
   "outputs": [],
   "source": []
  }
 ],
 "metadata": {
  "kernelspec": {
   "display_name": "Python 3 (ipykernel)",
   "language": "python",
   "name": "python3"
  },
  "language_info": {
   "codemirror_mode": {
    "name": "ipython",
    "version": 3
   },
   "file_extension": ".py",
   "mimetype": "text/x-python",
   "name": "python",
   "nbconvert_exporter": "python",
   "pygments_lexer": "ipython3",
   "version": "3.10.8"
  }
 },
 "nbformat": 4,
 "nbformat_minor": 5
}

{
 "cells": [
  {
   "cell_type": "markdown",
   "id": "411dba3a-9866-4b3c-bff1-852df6c12a6a",
   "metadata": {},
   "source": [
    "# Numpy"
   ]
  },
  {
   "cell_type": "code",
   "execution_count": 1,
   "id": "a952c9f4-e096-4545-a12e-ef3ec5557670",
   "metadata": {
    "tags": []
   },
   "outputs": [],
   "source": [
    "import numpy as np"
   ]
  },
  {
   "cell_type": "code",
   "execution_count": 4,
   "id": "f31d9c15-3b50-4f03-b2c8-d2296c380f5d",
   "metadata": {
    "tags": []
   },
   "outputs": [
    {
     "data": {
      "text/plain": [
       "array([1, 2, 3])"
      ]
     },
     "execution_count": 4,
     "metadata": {},
     "output_type": "execute_result"
    }
   ],
   "source": [
    "# ndarray\n",
    "v = np.array([1, 2, 3])\n",
    "v"
   ]
  },
  {
   "cell_type": "code",
   "execution_count": 6,
   "id": "f8e1ae53-e1a6-423b-b6dc-c246ce3b68d3",
   "metadata": {
    "tags": []
   },
   "outputs": [
    {
     "data": {
      "text/plain": [
       "numpy.ndarray"
      ]
     },
     "execution_count": 6,
     "metadata": {},
     "output_type": "execute_result"
    }
   ],
   "source": [
    "type(v)"
   ]
  },
  {
   "cell_type": "code",
   "execution_count": 7,
   "id": "89597484-c06a-48da-bf0c-6083be2a667c",
   "metadata": {
    "tags": []
   },
   "outputs": [
    {
     "data": {
      "text/plain": [
       "dtype('int64')"
      ]
     },
     "execution_count": 7,
     "metadata": {},
     "output_type": "execute_result"
    }
   ],
   "source": [
    "v.dtype"
   ]
  },
  {
   "cell_type": "code",
   "execution_count": 8,
   "id": "e333c27c-e1e2-4892-9827-41757afe847c",
   "metadata": {
    "tags": []
   },
   "outputs": [
    {
     "data": {
      "text/plain": [
       "3"
      ]
     },
     "execution_count": 8,
     "metadata": {},
     "output_type": "execute_result"
    }
   ],
   "source": [
    "v.size"
   ]
  },
  {
   "cell_type": "code",
   "execution_count": 5,
   "id": "47c663c8-82e5-4b4c-b1a8-96a97f0870a6",
   "metadata": {},
   "outputs": [
    {
     "data": {
      "text/plain": [
       "array([0, 2, 4])"
      ]
     },
     "execution_count": 5,
     "metadata": {},
     "output_type": "execute_result"
    }
   ],
   "source": [
    "u = np.array([-1, 0, 1])\n",
    "u + v"
   ]
  },
  {
   "cell_type": "code",
   "execution_count": 6,
   "id": "34227806-563a-416f-a5e5-a90265ebbaf1",
   "metadata": {
    "tags": []
   },
   "outputs": [
    {
     "data": {
      "text/plain": [
       "array([-3,  0,  3])"
      ]
     },
     "execution_count": 6,
     "metadata": {},
     "output_type": "execute_result"
    }
   ],
   "source": [
    "3 * u"
   ]
  },
  {
   "cell_type": "code",
   "execution_count": 7,
   "id": "94e310ff-ad08-4c04-b341-635ddbc3f250",
   "metadata": {
    "tags": []
   },
   "outputs": [
    {
     "data": {
      "text/plain": [
       "array([-1,  0,  3])"
      ]
     },
     "execution_count": 7,
     "metadata": {},
     "output_type": "execute_result"
    }
   ],
   "source": [
    "# sucin pozlozkach\n",
    "u * v"
   ]
  },
  {
   "cell_type": "code",
   "execution_count": 8,
   "id": "ee77f565-c587-495c-b293-3baa4d787ccd",
   "metadata": {
    "tags": []
   },
   "outputs": [
    {
     "data": {
      "text/plain": [
       "2"
      ]
     },
     "execution_count": 8,
     "metadata": {},
     "output_type": "execute_result"
    }
   ],
   "source": [
    "# skalarny sucin\n",
    "u@v"
   ]
  },
  {
   "cell_type": "code",
   "execution_count": 9,
   "id": "3c6d775c-ffaa-4410-a5e7-708518e3e3fc",
   "metadata": {
    "tags": []
   },
   "outputs": [
    {
     "data": {
      "text/plain": [
       "array([[ 1,  2],\n",
       "       [ 0,  1],\n",
       "       [-1,  1]])"
      ]
     },
     "execution_count": 9,
     "metadata": {},
     "output_type": "execute_result"
    }
   ],
   "source": [
    "A = np.array([[1, 2], [0, 1], [-1 ,1]])\n",
    "A"
   ]
  },
  {
   "cell_type": "code",
   "execution_count": 10,
   "id": "fedb320c-cb9b-42b9-91b6-6754367b3a68",
   "metadata": {
    "tags": []
   },
   "outputs": [
    {
     "data": {
      "text/plain": [
       "(3, 2)"
      ]
     },
     "execution_count": 10,
     "metadata": {},
     "output_type": "execute_result"
    }
   ],
   "source": [
    "A.shape"
   ]
  },
  {
   "cell_type": "code",
   "execution_count": 11,
   "id": "d57111c6-fcef-4b5b-9d97-9a7396cf0c7a",
   "metadata": {
    "tags": []
   },
   "outputs": [
    {
     "data": {
      "text/plain": [
       "array([[ 2,  4],\n",
       "       [ 0,  2],\n",
       "       [-2,  2]])"
      ]
     },
     "execution_count": 11,
     "metadata": {},
     "output_type": "execute_result"
    }
   ],
   "source": [
    "A+A"
   ]
  },
  {
   "cell_type": "code",
   "execution_count": 12,
   "id": "dc33a812-4cc1-4caa-b779-e2c7fe875187",
   "metadata": {
    "tags": []
   },
   "outputs": [
    {
     "data": {
      "text/plain": [
       "array([[ 10,  20],\n",
       "       [  0,  10],\n",
       "       [-10,  10]])"
      ]
     },
     "execution_count": 12,
     "metadata": {},
     "output_type": "execute_result"
    }
   ],
   "source": [
    "10*A"
   ]
  },
  {
   "cell_type": "code",
   "execution_count": 13,
   "id": "d5ab57cd-c124-4f05-973a-f3b53c688388",
   "metadata": {
    "tags": []
   },
   "outputs": [
    {
     "data": {
      "text/plain": [
       "array([[1, 4],\n",
       "       [0, 1],\n",
       "       [1, 1]])"
      ]
     },
     "execution_count": 13,
     "metadata": {},
     "output_type": "execute_result"
    }
   ],
   "source": [
    "A*A"
   ]
  },
  {
   "cell_type": "code",
   "execution_count": 14,
   "id": "f0896c9f-3d86-4556-9c3e-dac096cab106",
   "metadata": {
    "tags": []
   },
   "outputs": [
    {
     "ename": "ValueError",
     "evalue": "matmul: Input operand 1 has a mismatch in its core dimension 0, with gufunc signature (n?,k),(k,m?)->(n?,m?) (size 3 is different from 2)",
     "output_type": "error",
     "traceback": [
      "\u001b[0;31m---------------------------------------------------------------------------\u001b[0m",
      "\u001b[0;31mValueError\u001b[0m                                Traceback (most recent call last)",
      "Cell \u001b[0;32mIn[14], line 2\u001b[0m\n\u001b[1;32m      1\u001b[0m \u001b[38;5;66;03m# maticove nasobenie\u001b[39;00m\n\u001b[0;32m----> 2\u001b[0m \u001b[43mA\u001b[49m\u001b[38;5;129;43m@A\u001b[39;49m\n",
      "\u001b[0;31mValueError\u001b[0m: matmul: Input operand 1 has a mismatch in its core dimension 0, with gufunc signature (n?,k),(k,m?)->(n?,m?) (size 3 is different from 2)"
     ]
    }
   ],
   "source": [
    "# maticove nasobenie\n",
    "A@A"
   ]
  },
  {
   "cell_type": "code",
   "execution_count": 15,
   "id": "4dda3970-ae43-4b91-ad70-9db4b0f79f0f",
   "metadata": {
    "tags": []
   },
   "outputs": [
    {
     "data": {
      "text/plain": [
       "array([[ 1,  0, -1],\n",
       "       [ 2,  1,  1]])"
      ]
     },
     "execution_count": 15,
     "metadata": {},
     "output_type": "execute_result"
    }
   ],
   "source": [
    "# transponovana matica\n",
    "A.transpose()"
   ]
  },
  {
   "cell_type": "code",
   "execution_count": 16,
   "id": "e77c55db-26bb-487d-bd4d-94ba5f25d4bb",
   "metadata": {
    "tags": []
   },
   "outputs": [
    {
     "data": {
      "text/plain": [
       "array([[5, 2, 1],\n",
       "       [2, 1, 1],\n",
       "       [1, 1, 2]])"
      ]
     },
     "execution_count": 16,
     "metadata": {},
     "output_type": "execute_result"
    }
   ],
   "source": [
    "A@A.transpose()"
   ]
  },
  {
   "cell_type": "code",
   "execution_count": 17,
   "id": "960e00ac-3588-48bd-8d96-85cd7584df34",
   "metadata": {
    "tags": []
   },
   "outputs": [
    {
     "data": {
      "text/plain": [
       "2"
      ]
     },
     "execution_count": 17,
     "metadata": {},
     "output_type": "execute_result"
    }
   ],
   "source": [
    "# druhy prvok vektora\n",
    "v[1]"
   ]
  },
  {
   "cell_type": "code",
   "execution_count": 18,
   "id": "61e392a5-a68c-41cc-a951-e7608d3cb800",
   "metadata": {
    "tags": []
   },
   "outputs": [
    {
     "data": {
      "text/plain": [
       "0"
      ]
     },
     "execution_count": 18,
     "metadata": {},
     "output_type": "execute_result"
    }
   ],
   "source": [
    "# prvok matice v druhom riadku v prvom stlpci\n",
    "A[1,0]"
   ]
  },
  {
   "cell_type": "code",
   "execution_count": 19,
   "id": "862c4235-8e97-4d94-b3fc-4112c5f22153",
   "metadata": {
    "tags": []
   },
   "outputs": [
    {
     "data": {
      "text/plain": [
       "array([-1,  1])"
      ]
     },
     "execution_count": 19,
     "metadata": {},
     "output_type": "execute_result"
    }
   ],
   "source": [
    "# treti riadok matice\n",
    "A[2]"
   ]
  },
  {
   "cell_type": "code",
   "execution_count": 21,
   "id": "183d25cf-468d-44a6-bf09-4d43030d79b1",
   "metadata": {
    "tags": []
   },
   "outputs": [
    {
     "data": {
      "text/plain": [
       "array([2, 1, 1])"
      ]
     },
     "execution_count": 21,
     "metadata": {},
     "output_type": "execute_result"
    }
   ],
   "source": [
    "# druhy stlpec matice\n",
    "A[:,1]"
   ]
  },
  {
   "cell_type": "code",
   "execution_count": 26,
   "id": "036b6b97-0f29-4a98-a8b6-5ccd0a8ebe2b",
   "metadata": {
    "tags": []
   },
   "outputs": [
    {
     "data": {
      "text/plain": [
       "array([1, 1, 1, 1, 1, 1, 1])"
      ]
     },
     "execution_count": 26,
     "metadata": {},
     "output_type": "execute_result"
    }
   ],
   "source": [
    "# specialne polia ones, zeros, eye\n",
    "j = np.ones(7, 'int')\n",
    "j"
   ]
  },
  {
   "cell_type": "code",
   "execution_count": 27,
   "id": "2bee7b55-8c3e-4302-a5cf-7ed39e22d049",
   "metadata": {
    "tags": []
   },
   "outputs": [
    {
     "data": {
      "text/plain": [
       "dtype('int64')"
      ]
     },
     "execution_count": 27,
     "metadata": {},
     "output_type": "execute_result"
    }
   ],
   "source": [
    "j.dtype"
   ]
  },
  {
   "cell_type": "code",
   "execution_count": 29,
   "id": "a3f61c33-63b4-4042-b844-bdfb760324e4",
   "metadata": {
    "tags": []
   },
   "outputs": [
    {
     "data": {
      "text/plain": [
       "array([[1, 1, 1],\n",
       "       [1, 1, 1]])"
      ]
     },
     "execution_count": 29,
     "metadata": {},
     "output_type": "execute_result"
    }
   ],
   "source": [
    "J = np.ones((2, 3), 'int')\n",
    "J"
   ]
  },
  {
   "cell_type": "code",
   "execution_count": 35,
   "id": "36ba2f67-4fc5-4888-b63e-2195140d7b72",
   "metadata": {
    "tags": []
   },
   "outputs": [
    {
     "data": {
      "text/plain": [
       "array([[0, 0, 0, 0, 0],\n",
       "       [1, 0, 0, 0, 0],\n",
       "       [0, 1, 0, 0, 0],\n",
       "       [0, 0, 1, 0, 0],\n",
       "       [0, 0, 0, 1, 0]])"
      ]
     },
     "execution_count": 35,
     "metadata": {},
     "output_type": "execute_result"
    }
   ],
   "source": [
    "E = np.eye(5, k=-1, dtype='int')\n",
    "E"
   ]
  },
  {
   "cell_type": "code",
   "execution_count": 14,
   "id": "65786477-7c9a-44f2-afde-e4bbb2926090",
   "metadata": {
    "tags": []
   },
   "outputs": [
    {
     "data": {
      "text/plain": [
       "array([0.03689834, 0.39142135, 0.67400261, 0.87548223, 0.81500986])"
      ]
     },
     "execution_count": 14,
     "metadata": {},
     "output_type": "execute_result"
    }
   ],
   "source": [
    "# vygenerovanie pola s nahodnymi hodnotami\n",
    "from numpy import random as nr\n",
    "nr.rand(5)"
   ]
  },
  {
   "cell_type": "code",
   "execution_count": 38,
   "id": "399a7240-1e61-4748-958d-a9584e5f6850",
   "metadata": {
    "tags": []
   },
   "outputs": [
    {
     "data": {
      "text/plain": [
       "array([[0.00646231, 0.78624313, 0.24077458, 0.05970527],\n",
       "       [0.49605019, 0.04121427, 0.93180335, 0.41949672],\n",
       "       [0.76282058, 0.73601865, 0.0524291 , 0.01340895]])"
      ]
     },
     "execution_count": 38,
     "metadata": {},
     "output_type": "execute_result"
    }
   ],
   "source": [
    "M = nr.rand(3,4)\n",
    "M"
   ]
  },
  {
   "cell_type": "code",
   "execution_count": 42,
   "id": "0215b9b3-b2e2-435e-9921-669d581ccf32",
   "metadata": {
    "tags": []
   },
   "outputs": [
    {
     "data": {
      "text/plain": [
       "array([5, 1, 1, 6, 3, 4, 3, 5, 6, 2])"
      ]
     },
     "execution_count": 42,
     "metadata": {},
     "output_type": "execute_result"
    }
   ],
   "source": [
    "# 10 pokusov hodu kockou\n",
    "nr.randint(1,7,10)"
   ]
  },
  {
   "cell_type": "code",
   "execution_count": 43,
   "id": "93d2b820-bbcf-457a-809f-f46826bdbb1f",
   "metadata": {
    "tags": []
   },
   "outputs": [
    {
     "data": {
      "text/plain": [
       "array([[0.00646231, 0.78624313, 0.24077458, 0.05970527],\n",
       "       [0.49605019, 0.04121427, 0.93180335, 0.41949672],\n",
       "       [0.76282058, 0.73601865, 0.0524291 , 0.01340895]])"
      ]
     },
     "execution_count": 43,
     "metadata": {},
     "output_type": "execute_result"
    }
   ],
   "source": [
    "# Maskovanie\n",
    "M"
   ]
  },
  {
   "cell_type": "code",
   "execution_count": 44,
   "id": "4a075a89-ed4c-4639-9bb0-123f94997fba",
   "metadata": {
    "tags": []
   },
   "outputs": [
    {
     "data": {
      "text/plain": [
       "array([[ True, False,  True,  True],\n",
       "       [ True,  True, False,  True],\n",
       "       [False, False,  True,  True]])"
      ]
     },
     "execution_count": 44,
     "metadata": {},
     "output_type": "execute_result"
    }
   ],
   "source": [
    "M < 0.5"
   ]
  },
  {
   "cell_type": "code",
   "execution_count": 45,
   "id": "269aed87-ae2d-4412-999c-b436531cd83a",
   "metadata": {
    "tags": []
   },
   "outputs": [
    {
     "data": {
      "text/plain": [
       "array([[0.        , 0.78624313, 0.        , 0.        ],\n",
       "       [0.        , 0.        , 0.93180335, 0.        ],\n",
       "       [0.76282058, 0.73601865, 0.        , 0.        ]])"
      ]
     },
     "execution_count": 45,
     "metadata": {},
     "output_type": "execute_result"
    }
   ],
   "source": [
    "M[M<0.5] = 0\n",
    "M"
   ]
  },
  {
   "cell_type": "markdown",
   "id": "b2996827-405f-4e8f-8abf-52799233ed64",
   "metadata": {},
   "source": [
    "### Riesenie sustavy rovnic\n",
    "x+y+z = 4<br>\n",
    "x+2y+4z=12<br>\n",
    "2x-3y-z=4"
   ]
  },
  {
   "cell_type": "code",
   "execution_count": 17,
   "id": "bae3ab96-e0b4-4102-8ea6-f12e17319c5b",
   "metadata": {
    "tags": []
   },
   "outputs": [
    {
     "data": {
      "text/plain": [
       "array([[ 1,  1,  1],\n",
       "       [ 1,  2,  4],\n",
       "       [ 2, -3, -1]])"
      ]
     },
     "execution_count": 17,
     "metadata": {},
     "output_type": "execute_result"
    }
   ],
   "source": [
    "A = np.array([[1, 1, 1], [1, 2, 4], [2, -3, -1]])\n",
    "A"
   ]
  },
  {
   "cell_type": "code",
   "execution_count": 12,
   "id": "c84961eb-fd15-47a3-99c2-64f804b9ba90",
   "metadata": {
    "tags": []
   },
   "outputs": [
    {
     "data": {
      "text/plain": [
       "array([ 4, 12,  4])"
      ]
     },
     "execution_count": 12,
     "metadata": {},
     "output_type": "execute_result"
    }
   ],
   "source": [
    "b = np.array([4,12,4])\n",
    "b"
   ]
  },
  {
   "cell_type": "code",
   "execution_count": 13,
   "id": "7ca5e575-9121-4f9b-9faa-215ea433234d",
   "metadata": {
    "tags": []
   },
   "outputs": [],
   "source": [
    "import numpy.linalg as nl"
   ]
  },
  {
   "cell_type": "code",
   "execution_count": 14,
   "id": "968759e6-32da-48f1-9a93-be1f3c5792f3",
   "metadata": {
    "tags": []
   },
   "outputs": [
    {
     "data": {
      "text/plain": [
       "array([ 2., -1.,  3.])"
      ]
     },
     "execution_count": 14,
     "metadata": {},
     "output_type": "execute_result"
    }
   ],
   "source": [
    "x = nl.solve(A,b)\n",
    "x"
   ]
  },
  {
   "cell_type": "code",
   "execution_count": 15,
   "id": "8b9e5408-f5d7-45ff-a22a-dd3641eded1a",
   "metadata": {
    "tags": []
   },
   "outputs": [
    {
     "data": {
      "text/plain": [
       "array([False,  True, False])"
      ]
     },
     "execution_count": 15,
     "metadata": {},
     "output_type": "execute_result"
    }
   ],
   "source": [
    "# Skuska spravnosti\n",
    "A@x==b"
   ]
  },
  {
   "cell_type": "code",
   "execution_count": 16,
   "id": "28385ce0-d829-454c-a6eb-96aa6d15bb9a",
   "metadata": {
    "tags": []
   },
   "outputs": [
    {
     "data": {
      "text/plain": [
       "array([-4.4408921e-16,  0.0000000e+00, -4.4408921e-16])"
      ]
     },
     "execution_count": 16,
     "metadata": {},
     "output_type": "execute_result"
    }
   ],
   "source": [
    "# aka velka je chyba?\n",
    "A@x-b"
   ]
  },
  {
   "cell_type": "markdown",
   "id": "12b6fb7f-0625-4f9c-ae39-987596ac8ead",
   "metadata": {
    "tags": []
   },
   "source": [
    "## Polynomy\n",
    "$p_5 = x^5-3x^2+7$<br>\n",
    "$p_2 = x^2-2x+1$"
   ]
  },
  {
   "cell_type": "code",
   "execution_count": 2,
   "id": "b7752b59-36c4-4bc4-a0bf-d35abe5454d7",
   "metadata": {},
   "outputs": [],
   "source": [
    "p5 = np.array([1,0,0,-3,0,7],'int')\n",
    "p2 = np.array([1,-2,1],'int')"
   ]
  },
  {
   "cell_type": "code",
   "execution_count": 3,
   "id": "51f5baff-5ef0-4fcd-8d5a-1cc3177ee2ad",
   "metadata": {},
   "outputs": [
    {
     "data": {
      "text/plain": [
       "array([  1,  -2,   1,  -3,   6,   4, -14,   7])"
      ]
     },
     "execution_count": 3,
     "metadata": {},
     "output_type": "execute_result"
    }
   ],
   "source": [
    "# nasobenie\n",
    "np.polymul(p5,p2)"
   ]
  },
  {
   "cell_type": "markdown",
   "id": "ad9059da-45c2-4946-9b89-3361f382a7ae",
   "metadata": {},
   "source": [
    "$p_5.p_2=x^7-2x^6+x^5-3x^4+6x^3+4x^2-14x+7 $"
   ]
  },
  {
   "cell_type": "code",
   "execution_count": 4,
   "id": "6ca2900d-d014-46e0-9cb0-dd32bdc50973",
   "metadata": {},
   "outputs": [
    {
     "data": {
      "text/plain": [
       "(array([1., 2., 3., 1.]), array([-1.,  6.]))"
      ]
     },
     "execution_count": 4,
     "metadata": {},
     "output_type": "execute_result"
    }
   ],
   "source": [
    "# delenie\n",
    "np.polydiv(p5,p2)"
   ]
  },
  {
   "cell_type": "markdown",
   "id": "9ac7b817-01a2-417d-a746-271d437c1c60",
   "metadata": {},
   "source": [
    "$\\displaystyle \\frac{p5}{p2}=x^3+2x^2+3x+1+\\frac{-x+6}{x^2-2x+1}$"
   ]
  },
  {
   "cell_type": "code",
   "execution_count": 5,
   "id": "bfc4cfa0-61e9-44b0-84ab-4bd2d3d9b3ef",
   "metadata": {},
   "outputs": [
    {
     "data": {
      "text/plain": [
       "array([ 1.27715317+0.59449393j,  1.27715317-0.59449393j,\n",
       "       -0.67176533+1.56906173j, -0.67176533-1.56906173j,\n",
       "       -1.21077568+0.j        ])"
      ]
     },
     "execution_count": 5,
     "metadata": {},
     "output_type": "execute_result"
    }
   ],
   "source": [
    "# korene polynomu\n",
    "np.roots(p5)"
   ]
  },
  {
   "cell_type": "markdown",
   "id": "c5d300e8-7009-4609-b636-457fc0cbefd0",
   "metadata": {},
   "source": [
    "### Nacitanie a zapis pola zo/do suboru"
   ]
  },
  {
   "cell_type": "code",
   "execution_count": 8,
   "id": "7c00b501-a471-4929-b546-1a3581f107e5",
   "metadata": {
    "tags": []
   },
   "outputs": [
    {
     "data": {
      "text/plain": [
       "array([[  1,   2,   3,   4,   5,   6,   7,   8,   9,  10],\n",
       "       [ 11,  12,  13,  14,  15,  16,  17,  18,  19,  20],\n",
       "       [ 21,  22,  23,  24,  25,  26,  27,  28,  29,  30],\n",
       "       [ 31,  32,  33,  34,  35,  36,  37,  38,  39,  40],\n",
       "       [ 41,  42,  43,  44,  45,  46,  47,  48,  49,  50],\n",
       "       [ 51,  52,  53,  54,  55,  56,  57,  58,  59,  60],\n",
       "       [ 61,  62,  63,  64,  65,  66,  67,  68,  69,  70],\n",
       "       [ 71,  72,  73,  74,  75,  76,  77,  78,  79,  80],\n",
       "       [ 81,  82,  83,  84,  85,  86,  87,  88,  89,  90],\n",
       "       [ 91,  92,  93,  94,  95,  96,  97,  98,  99, 100]])"
      ]
     },
     "execution_count": 8,
     "metadata": {},
     "output_type": "execute_result"
    }
   ],
   "source": [
    "M = np.arange(1, 101)\n",
    "M = M.reshape(10,10)\n",
    "M"
   ]
  },
  {
   "cell_type": "code",
   "execution_count": 11,
   "id": "029f1171-39c8-4a37-b223-64f82ff791c3",
   "metadata": {
    "tags": []
   },
   "outputs": [],
   "source": [
    "# Zapisat maticu M do textoveho suboru\n",
    "np.savetxt(\"M.txt\", M, fmt='%i')"
   ]
  },
  {
   "cell_type": "code",
   "execution_count": 13,
   "id": "8f0856d5-b0ca-4127-b652-a9b2a6ea96de",
   "metadata": {
    "tags": []
   },
   "outputs": [],
   "source": [
    "# Nacitenie matice z textoveho suboru\n",
    "W = np.loadtxt(\"M.txt\")"
   ]
  },
  {
   "cell_type": "code",
   "execution_count": 15,
   "id": "1a0ff13d-a428-4c17-a3cf-45ea6db10808",
   "metadata": {
    "tags": []
   },
   "outputs": [],
   "source": [
    "Q = nr.rand(1000,1000)"
   ]
  },
  {
   "cell_type": "code",
   "execution_count": 16,
   "id": "088b030c-639e-4cec-8855-e38de1c68ff6",
   "metadata": {
    "tags": []
   },
   "outputs": [
    {
     "name": "stdout",
     "output_type": "stream",
     "text": [
      "CPU times: user 0 ns, sys: 19.1 ms, total: 19.1 ms\n",
      "Wall time: 18 ms\n"
     ]
    }
   ],
   "source": [
    "# Zapisat do binarneho suboru (kolko to trva)\n",
    "%time np.save('Q', Q)"
   ]
  },
  {
   "cell_type": "code",
   "execution_count": 17,
   "id": "73b3250e-2e15-45ad-93f9-02c7f3d9f853",
   "metadata": {
    "tags": []
   },
   "outputs": [
    {
     "name": "stdout",
     "output_type": "stream",
     "text": [
      "CPU times: user 948 ms, sys: 32.5 ms, total: 980 ms\n",
      "Wall time: 1.13 s\n"
     ]
    }
   ],
   "source": [
    "# kolko trva zapis do textoveho suboru\n",
    "%time np.savetxt('Q.txt', Q)"
   ]
  },
  {
   "cell_type": "code",
   "execution_count": 18,
   "id": "f02544ac-b7cc-4e81-82a9-398642590dc1",
   "metadata": {
    "tags": []
   },
   "outputs": [
    {
     "name": "stdout",
     "output_type": "stream",
     "text": [
      "-rw-r--r-- 1 dragan2 studenti  8000128 Nov  2 09:53 Q.npy\n",
      "-rw-r--r-- 1 dragan2 studenti 25000000 Nov  2 09:54 Q.txt\n"
     ]
    }
   ],
   "source": [
    "# porovnanie velkost suborov\n",
    "!ls -l Q*"
   ]
  },
  {
   "cell_type": "code",
   "execution_count": 19,
   "id": "ffb64288-01b1-43ed-822e-4388dc87b2ee",
   "metadata": {
    "tags": []
   },
   "outputs": [
    {
     "name": "stdout",
     "output_type": "stream",
     "text": [
      "CPU times: user 3.88 ms, sys: 8.02 ms, total: 11.9 ms\n",
      "Wall time: 10.8 ms\n"
     ]
    }
   ],
   "source": [
    "# porovname nacitanie\n",
    "%time q = np.load('Q.npy')"
   ]
  },
  {
   "cell_type": "code",
   "execution_count": 21,
   "id": "bd837c7d-b417-4c04-b740-911ba395a386",
   "metadata": {
    "tags": []
   },
   "outputs": [
    {
     "name": "stdout",
     "output_type": "stream",
     "text": [
      "CPU times: user 533 ms, sys: 14.1 ms, total: 547 ms\n",
      "Wall time: 546 ms\n"
     ]
    }
   ],
   "source": [
    "%time qq = np.loadtxt('Q.txt')"
   ]
  },
  {
   "cell_type": "markdown",
   "id": "f4f1417e-0fb5-4947-baba-f932825206af",
   "metadata": {},
   "source": [
    "### Largest Product in a Grid\n",
    "<p>In the $20 \\times 20$ grid below, four numbers along a diagonal line have been marked in red.</p>\n",
    "<p class=\"monospace center\">\n",
    "08 02 22 97 38 15 00 40 00 75 04 05 07 78 52 12 50 77 91 08<br>\n",
    "49 49 99 40 17 81 18 57 60 87 17 40 98 43 69 48 04 56 62 00<br>\n",
    "81 49 31 73 55 79 14 29 93 71 40 67 53 88 30 03 49 13 36 65<br>\n",
    "52 70 95 23 04 60 11 42 69 24 68 56 01 32 56 71 37 02 36 91<br>\n",
    "22 31 16 71 51 67 63 89 41 92 36 54 22 40 40 28 66 33 13 80<br>\n",
    "24 47 32 60 99 03 45 02 44 75 33 53 78 36 84 20 35 17 12 50<br>\n",
    "32 98 81 28 64 23 67 10 <span class=\"red\"><b>26</b></span> 38 40 67 59 54 70 66 18 38 64 70<br>\n",
    "67 26 20 68 02 62 12 20 95 <span class=\"red\"><b>63</b></span> 94 39 63 08 40 91 66 49 94 21<br>\n",
    "24 55 58 05 66 73 99 26 97 17 <span class=\"red\"><b>78</b></span> 78 96 83 14 88 34 89 63 72<br>\n",
    "21 36 23 09 75 00 76 44 20 45 35 <span class=\"red\"><b>14</b></span> 00 61 33 97 34 31 33 95<br>\n",
    "78 17 53 28 22 75 31 67 15 94 03 80 04 62 16 14 09 53 56 92<br>\n",
    "16 39 05 42 96 35 31 47 55 58 88 24 00 17 54 24 36 29 85 57<br>\n",
    "86 56 00 48 35 71 89 07 05 44 44 37 44 60 21 58 51 54 17 58<br>\n",
    "19 80 81 68 05 94 47 69 28 73 92 13 86 52 17 77 04 89 55 40<br>\n",
    "04 52 08 83 97 35 99 16 07 97 57 32 16 26 26 79 33 27 98 66<br>\n",
    "88 36 68 87 57 62 20 72 03 46 33 67 46 55 12 32 63 93 53 69<br>\n",
    "04 42 16 73 38 25 39 11 24 94 72 18 08 46 29 32 40 62 76 36<br>\n",
    "20 69 36 41 72 30 23 88 34 62 99 69 82 67 59 85 74 04 36 16<br>\n",
    "20 73 35 29 78 31 90 01 74 31 49 71 48 86 81 16 23 57 05 54<br>\n",
    "01 70 54 71 83 51 54 69 16 92 33 48 61 43 52 01 89 19 67 48<br></p>\n",
    "<p>The product of these numbers is $26 \\times 63 \\times 78 \\times 14 = 1788696$.</p>\n",
    "<p>What is the greatest product of four adjacent numbers in the same direction (up, down, left, right, or diagonally) in the $20 \\times 20$ grid?</p>\n"
   ]
  },
  {
   "cell_type": "code",
   "execution_count": 76,
   "id": "7cb387c6-3c9b-4c1e-adb0-77363074c5a8",
   "metadata": {
    "tags": []
   },
   "outputs": [
    {
     "name": "stdout",
     "output_type": "stream",
     "text": [
      "34144.0\n",
      "0\n",
      "162184.0\n",
      "34144.0\n",
      "1216380.0\n",
      "162184.0\n",
      "0.0\n",
      "1216380.0\n",
      "0.0\n",
      "1216380.0\n",
      "0.0\n",
      "1216380.0\n",
      "0.0\n",
      "1216380.0\n",
      "0.0\n",
      "1216380.0\n",
      "0.0\n",
      "1216380.0\n",
      "10500.0\n",
      "1216380.0\n",
      "10920.0\n",
      "1216380.0\n",
      "141960.0\n",
      "1216380.0\n",
      "340704.0\n",
      "1216380.0\n",
      "2433600.0\n",
      "1216380.0\n",
      "2402400.0\n",
      "2433600.0\n",
      "4204200.0\n",
      "2433600.0\n",
      "2802800.0\n",
      "4204200.0\n",
      "56056.0\n",
      "4204200.0\n",
      "728.0\n",
      "4204200.0\n",
      "8.0\n",
      "4204200.0\n",
      "9507960.0\n",
      "4204200.0\n",
      "3298680.0\n",
      "9507960.0\n",
      "5452920.0\n",
      "9507960.0\n",
      "991440.0\n",
      "9507960.0\n",
      "1412802.0\n",
      "9507960.0\n",
      "4986360.0\n",
      "9507960.0\n",
      "5355720.0\n",
      "9507960.0\n",
      "5058180.0\n",
      "9507960.0\n",
      "3549600.0\n",
      "9507960.0\n",
      "5797680.0\n",
      "9507960.0\n",
      "2865520.0\n",
      "9507960.0\n",
      "11630640.0\n",
      "9507960.0\n",
      "13956768.0\n",
      "11630640.0\n",
      "569664.0\n",
      "13956768.0\n",
      "741888.0\n",
      "13956768.0\n",
      "666624.0\n",
      "13956768.0\n",
      "0.0\n",
      "13956768.0\n",
      "0.0\n",
      "13956768.0\n",
      "0.0\n",
      "13956768.0\n",
      "0.0\n",
      "13956768.0\n",
      "8981847.0\n",
      "13956768.0\n",
      "6098785.0\n",
      "13956768.0\n",
      "9832735.0\n",
      "13956768.0\n",
      "4440590.0\n",
      "13956768.0\n",
      "1764070.0\n",
      "13956768.0\n",
      "2982882.0\n",
      "13956768.0\n",
      "2680818.0\n",
      "13956768.0\n",
      "7659480.0\n",
      "13956768.0\n",
      "17696040.0\n",
      "13956768.0\n",
      "10084840.0\n",
      "17696040.0\n",
      "12499520.0\n",
      "17696040.0\n",
      "9374640.0\n",
      "17696040.0\n",
      "419760.0\n",
      "17696040.0\n",
      "388080.0\n",
      "17696040.0\n",
      "57330.0\n",
      "17696040.0\n",
      "68796.0\n",
      "17696040.0\n",
      "1490580.0\n",
      "17696040.0\n",
      "30420.0\n",
      "17696040.0\n",
      "2340.0\n",
      "17696040.0\n",
      "65.0\n",
      "17696040.0\n",
      "7953400.0\n",
      "17696040.0\n",
      "611800.0\n",
      "17696040.0\n",
      "524400.0\n",
      "17696040.0\n",
      "60720.0\n",
      "17696040.0\n",
      "110880.0\n",
      "17696040.0\n",
      "1912680.0\n",
      "17696040.0\n",
      "765072.0\n",
      "17696040.0\n",
      "4729536.0\n",
      "17696040.0\n",
      "6306048.0\n",
      "17696040.0\n",
      "91392.0\n",
      "17696040.0\n",
      "121856.0\n",
      "17696040.0\n",
      "100352.0\n",
      "17696040.0\n",
      "127232.0\n",
      "17696040.0\n",
      "4707584.0\n",
      "17696040.0\n",
      "294224.0\n",
      "17696040.0\n",
      "189144.0\n",
      "17696040.0\n",
      "242424.0\n",
      "17696040.0\n",
      "6552.0\n",
      "17696040.0\n",
      "3276.0\n",
      "17696040.0\n",
      "91.0\n",
      "17696040.0\n",
      "774752.0\n",
      "17696040.0\n",
      "1796016.0\n",
      "17696040.0\n",
      "3881712.0\n",
      "17696040.0\n",
      "15284241.0\n",
      "17696040.0\n",
      "19159119.0\n",
      "17696040.0\n",
      "15402429.0\n",
      "19159119.0\n",
      "21149604.0\n",
      "19159119.0\n",
      "12085488.0\n",
      "21149604.0\n",
      "7332768.0\n",
      "21149604.0\n",
      "3934656.0\n",
      "21149604.0\n",
      "1710720.0\n",
      "21149604.0\n",
      "1900800.0\n",
      "21149604.0\n",
      "985600.0\n",
      "21149604.0\n",
      "2956800.0\n",
      "21149604.0\n",
      "2439360.0\n",
      "21149604.0\n",
      "792792.0\n",
      "21149604.0\n",
      "2265120.0\n",
      "21149604.0\n",
      "34320.0\n",
      "21149604.0\n",
      "1040.0\n",
      "21149604.0\n",
      "80.0\n",
      "21149604.0\n",
      "2165760.0\n",
      "21149604.0\n",
      "8933760.0\n",
      "21149604.0\n",
      "570240.0\n",
      "21149604.0\n",
      "801900.0\n",
      "21149604.0\n",
      "26730.0\n",
      "21149604.0\n",
      "11880.0\n",
      "21149604.0\n",
      "297000.0\n",
      "21149604.0\n",
      "217800.0\n",
      "21149604.0\n",
      "5771700.0\n",
      "21149604.0\n",
      "10231650.0\n",
      "21149604.0\n",
      "4911192.0\n",
      "21149604.0\n",
      "12501216.0\n",
      "21149604.0\n",
      "4717440.0\n",
      "21149604.0\n",
      "2116800.0\n",
      "21149604.0\n",
      "999600.0\n",
      "21149604.0\n",
      "142800.0\n",
      "21149604.0\n",
      "357000.0\n",
      "21149604.0\n",
      "10200.0\n",
      "21149604.0\n",
      "600.0\n",
      "21149604.0\n",
      "50.0\n",
      "21149604.0\n",
      "7112448.0\n",
      "21149604.0\n",
      "14224896.0\n",
      "21149604.0\n",
      "3338496.0\n",
      "21149604.0\n",
      "2761472.0\n",
      "21149604.0\n",
      "986240.0\n",
      "21149604.0\n",
      "400660.0\n",
      "21149604.0\n",
      "661960.0\n",
      "21149604.0\n",
      "395200.0\n",
      "21149604.0\n",
      "2647840.0\n",
      "21149604.0\n",
      "6008560.0\n",
      "21149604.0\n",
      "8538480.0\n",
      "21149604.0\n",
      "14942340.0\n",
      "21149604.0\n",
      "14719320.0\n",
      "21149604.0\n",
      "4490640.0\n",
      "21149604.0\n",
      "3160080.0\n",
      "21149604.0\n",
      "2889216.0\n",
      "21149604.0\n",
      "3064320.0\n",
      "21149604.0\n",
      "170240.0\n",
      "21149604.0\n",
      "4480.0\n",
      "21149604.0\n",
      "70.0\n",
      "21149604.0\n",
      "2369120.0\n",
      "21149604.0\n",
      "70720.0\n",
      "21149604.0\n",
      "168640.0\n",
      "21149604.0\n",
      "101184.0\n",
      "21149604.0\n",
      "29760.0\n",
      "21149604.0\n",
      "1413600.0\n",
      "21149604.0\n",
      "1436400.0\n",
      "21149604.0\n",
      "11251800.0\n",
      "21149604.0\n",
      "21941010.0\n",
      "21149604.0\n",
      "14550354.0\n",
      "21941010.0\n",
      "1847664.0\n",
      "21941010.0\n",
      "786240.0\n",
      "21941010.0\n",
      "1834560.0\n",
      "21941010.0\n",
      "1921920.0\n",
      "21941010.0\n",
      "11771760.0\n",
      "21941010.0\n",
      "27663636.0\n",
      "21941010.0\n",
      "6383916.0\n",
      "27663636.0\n",
      "96726.0\n",
      "27663636.0\n",
      "1974.0\n",
      "27663636.0\n",
      "21.0\n",
      "27663636.0\n",
      "382800.0\n",
      "27663636.0\n",
      "1052700.0\n",
      "27663636.0\n",
      "1397220.0\n",
      "27663636.0\n",
      "2384910.0\n",
      "27663636.0\n",
      "12401532.0\n",
      "27663636.0\n",
      "18226494.0\n",
      "27663636.0\n",
      "4244526.0\n",
      "27663636.0\n",
      "3344172.0\n",
      "27663636.0\n",
      "10032516.0\n",
      "27663636.0\n",
      "9929088.0\n",
      "27663636.0\n",
      "48477312.0\n",
      "27663636.0\n",
      "8701056.0\n",
      "48477312.0\n",
      "9816576.0\n",
      "48477312.0\n",
      "3476704.0\n",
      "48477312.0\n",
      "3728032.0\n",
      "48477312.0\n",
      "16776144.0\n",
      "48477312.0\n",
      "13725936.0\n",
      "48477312.0\n",
      "403704.0\n",
      "48477312.0\n",
      "4536.0\n",
      "48477312.0\n",
      "72.0\n",
      "48477312.0\n",
      "156492.0\n",
      "48477312.0\n",
      "558900.0\n",
      "48477312.0\n",
      "0.0\n",
      "48477312.0\n",
      "0.0\n",
      "48477312.0\n",
      "0.0\n",
      "48477312.0\n",
      "0.0\n",
      "48477312.0\n",
      "3009600.0\n",
      "48477312.0\n",
      "1386000.0\n",
      "48477312.0\n",
      "441000.0\n",
      "48477312.0\n",
      "0.0\n",
      "48477312.0\n",
      "0.0\n",
      "48477312.0\n",
      "0.0\n",
      "48477312.0\n",
      "0.0\n",
      "48477312.0\n",
      "6638874.0\n",
      "48477312.0\n",
      "3373854.0\n",
      "48477312.0\n",
      "3373854.0\n",
      "48477312.0\n",
      "3304290.0\n",
      "48477312.0\n",
      "97185.0\n",
      "48477312.0\n",
      "3135.0\n",
      "48477312.0\n",
      "95.0\n",
      "48477312.0\n",
      "1967784.0\n",
      "48477312.0\n",
      "555016.0\n",
      "48477312.0\n",
      "2448600.0\n",
      "48477312.0\n",
      "1432200.0\n",
      "48477312.0\n",
      "3427050.0\n",
      "48477312.0\n",
      "2336625.0\n",
      "48477312.0\n",
      "2928570.0\n",
      "48477312.0\n",
      "283410.0\n",
      "48477312.0\n",
      "338400.0\n",
      "48477312.0\n",
      "90240.0\n",
      "48477312.0\n",
      "59520.0\n",
      "48477312.0\n",
      "317440.0\n",
      "48477312.0\n",
      "55552.0\n",
      "48477312.0\n",
      "124992.0\n",
      "48477312.0\n",
      "106848.0\n",
      "48477312.0\n",
      "373968.0\n",
      "48477312.0\n",
      "2457504.0\n",
      "48477312.0\n",
      "273056.0\n",
      "48477312.0\n",
      "5152.0\n",
      "48477312.0\n",
      "92.0\n",
      "48477312.0\n",
      "131040.0\n",
      "48477312.0\n",
      "786240.0\n",
      "48477312.0\n",
      "705600.0\n",
      "48477312.0\n",
      "4374720.0\n",
      "48477312.0\n",
      "4895520.0\n",
      "48477312.0\n",
      "2804725.0\n",
      "48477312.0\n",
      "4647830.0\n",
      "48477312.0\n",
      "13193840.0\n",
      "48477312.0\n",
      "6737280.0\n",
      "48477312.0\n",
      "0.0\n",
      "48477312.0\n",
      "0.0\n",
      "48477312.0\n",
      "0.0\n",
      "48477312.0\n",
      "0.0\n",
      "48477312.0\n",
      "793152.0\n",
      "48477312.0\n",
      "1353024.0\n",
      "48477312.0\n",
      "2129760.0\n",
      "48477312.0\n",
      "5058180.0\n",
      "48477312.0\n",
      "140505.0\n",
      "48477312.0\n",
      "4845.0\n",
      "48477312.0\n",
      "57.0\n",
      "48477312.0\n",
      "0.0\n",
      "48477312.0\n",
      "0.0\n",
      "48477312.0\n",
      "0.0\n",
      "48477312.0\n",
      "10615920.0\n",
      "48477312.0\n",
      "1548155.0\n",
      "48477312.0\n",
      "221165.0\n",
      "48477312.0\n",
      "137060.0\n",
      "48477312.0\n",
      "67760.0\n",
      "48477312.0\n",
      "358160.0\n",
      "48477312.0\n",
      "3151808.0\n",
      "48477312.0\n",
      "4297920.0\n",
      "48477312.0\n",
      "2051280.0\n",
      "48477312.0\n",
      "3215520.0\n",
      "48477312.0\n",
      "3727080.0\n",
      "48477312.0\n",
      "3354372.0\n",
      "48477312.0\n",
      "2715444.0\n",
      "48477312.0\n",
      "2715444.0\n",
      "48477312.0\n",
      "53244.0\n",
      "48477312.0\n",
      "986.0\n",
      "48477312.0\n",
      "58.0\n",
      "48477312.0\n",
      "8372160.0\n",
      "48477312.0\n",
      "2203200.0\n",
      "48477312.0\n",
      "2588760.0\n",
      "48477312.0\n",
      "1502120.0\n",
      "48477312.0\n",
      "1524210.0\n",
      "48477312.0\n",
      "8535576.0\n",
      "48477312.0\n",
      "6628692.0\n",
      "48477312.0\n",
      "12975312.0\n",
      "48477312.0\n",
      "2444624.0\n",
      "48477312.0\n",
      "7508488.0\n",
      "48477312.0\n",
      "5348512.0\n",
      "48477312.0\n",
      "988312.0\n",
      "48477312.0\n",
      "5853848.0\n",
      "48477312.0\n",
      "272272.0\n",
      "48477312.0\n",
      "466004.0\n",
      "48477312.0\n",
      "1507660.0\n",
      "48477312.0\n",
      "783200.0\n",
      "48477312.0\n",
      "195800.0\n",
      "48477312.0\n",
      "2200.0\n",
      "48477312.0\n",
      "40.0\n",
      "48477312.0\n",
      "138112.0\n",
      "48477312.0\n",
      "3349216.0\n",
      "48477312.0\n",
      "2254280.0\n",
      "48477312.0\n",
      "27896715.0\n",
      "48477312.0\n",
      "5377680.0\n",
      "48477312.0\n",
      "388080.0\n",
      "48477312.0\n",
      "1075536.0\n",
      "48477312.0\n",
      "619248.0\n",
      "48477312.0\n",
      "1238496.0\n",
      "48477312.0\n",
      "2830848.0\n",
      "48477312.0\n",
      "758784.0\n",
      "48477312.0\n",
      "346112.0\n",
      "48477312.0\n",
      "854464.0\n",
      "48477312.0\n",
      "1762332.0\n",
      "48477312.0\n",
      "1830114.0\n",
      "48477312.0\n",
      "6898122.0\n",
      "48477312.0\n",
      "5762988.0\n",
      "48477312.0\n",
      "174636.0\n",
      "48477312.0\n",
      "6468.0\n",
      "48477312.0\n",
      "66.0\n",
      "48477312.0\n",
      "18741888.0\n",
      "48477312.0\n",
      "12139632.0\n",
      "48477312.0\n",
      "20907144.0\n",
      "48477312.0\n",
      "6149160.0\n",
      "48477312.0\n",
      "5088960.0\n",
      "48477312.0\n",
      "267840.0\n",
      "48477312.0\n",
      "198720.0\n",
      "48477312.0\n",
      "327888.0\n",
      "48477312.0\n",
      "305118.0\n",
      "48477312.0\n",
      "4678476.0\n",
      "48477312.0\n",
      "5593830.0\n",
      "48477312.0\n",
      "2034120.0\n",
      "48477312.0\n",
      "971520.0\n",
      "48477312.0\n",
      "1330560.0\n",
      "48477312.0\n",
      "2249856.0\n",
      "48477312.0\n",
      "9936864.0\n",
      "48477312.0\n",
      "21426363.0\n",
      "48477312.0\n",
      "340101.0\n",
      "48477312.0\n",
      "3657.0\n",
      "48477312.0\n",
      "69.0\n",
      "48477312.0\n",
      "196224.0\n",
      "48477312.0\n",
      "1864128.0\n",
      "48477312.0\n",
      "1109600.0\n",
      "48477312.0\n",
      "2704650.0\n",
      "48477312.0\n",
      "407550.0\n",
      "48477312.0\n",
      "257400.0\n",
      "48477312.0\n",
      "967824.0\n",
      "48477312.0\n",
      "1786752.0\n",
      "48477312.0\n",
      "2923776.0\n",
      "48477312.0\n",
      "974592.0\n",
      "48477312.0\n",
      "476928.0\n",
      "48477312.0\n",
      "192096.0\n",
      "48477312.0\n",
      "341504.0\n",
      "48477312.0\n",
      "1707520.0\n",
      "48477312.0\n",
      "2301440.0\n",
      "48477312.0\n",
      "6031360.0\n",
      "48477312.0\n",
      "6785280.0\n",
      "48477312.0\n",
      "169632.0\n",
      "48477312.0\n",
      "2736.0\n",
      "48477312.0\n",
      "36.0\n",
      "48477312.0\n",
      "2036880.0\n",
      "48477312.0\n",
      "7332768.0\n",
      "48477312.0\n",
      "3188160.0\n",
      "48477312.0\n",
      "2036880.0\n",
      "48477312.0\n",
      "4371840.0\n",
      "48477312.0\n",
      "2064480.0\n",
      "48477312.0\n",
      "4266592.0\n",
      "48477312.0\n",
      "18364896.0\n",
      "48477312.0\n",
      "14399748.0\n",
      "48477312.0\n",
      "34728804.0\n",
      "48477312.0\n",
      "37529514.0\n",
      "48477312.0\n",
      "22366074.0\n",
      "48477312.0\n",
      "27552410.0\n",
      "48477312.0\n",
      "24864370.0\n",
      "48477312.0\n",
      "1484440.0\n",
      "48477312.0\n",
      "905760.0\n",
      "48477312.0\n",
      "170496.0\n",
      "48477312.0\n",
      "2304.0\n",
      "48477312.0\n",
      "576.0\n",
      "48477312.0\n",
      "16.0\n",
      "48477312.0\n",
      "1481900.0\n",
      "48477312.0\n",
      "5779410.0\n",
      "48477312.0\n",
      "2454270.0\n",
      "48477312.0\n",
      "6310980.0\n",
      "48477312.0\n",
      "217620.0\n",
      "48477312.0\n",
      "206460.0\n",
      "48477312.0\n",
      "206460.0\n",
      "48477312.0\n",
      "112406.0\n",
      "48477312.0\n",
      "7980826.0\n",
      "48477312.0\n",
      "5176752.0\n",
      "48477312.0\n",
      "14361312.0\n",
      "48477312.0\n",
      "23740128.0\n",
      "48477312.0\n",
      "5349888.0\n",
      "48477312.0\n",
      "2563488.0\n",
      "48477312.0\n",
      "1699056.0\n",
      "48477312.0\n",
      "104880.0\n",
      "48477312.0\n",
      "353970.0\n",
      "48477312.0\n",
      "15390.0\n",
      "48477312.0\n",
      "270.0\n",
      "48477312.0\n",
      "54.0\n",
      "48477312.0\n",
      "268380.0\n",
      "48477312.0\n",
      "22275540.0\n",
      "48477312.0\n",
      "16229322.0\n",
      "48477312.0\n",
      "16229322.0\n",
      "48477312.0\n",
      "15772158.0\n",
      "48477312.0\n",
      "3040416.0\n",
      "48477312.0\n",
      "5484672.0\n",
      "48477312.0\n",
      "3351744.0\n",
      "48477312.0\n",
      "2331648.0\n",
      "48477312.0\n",
      "8889408.0\n",
      "48477312.0\n",
      "4154832.0\n",
      "48477312.0\n",
      "6547008.0\n",
      "48477312.0\n",
      "136396.0\n",
      "48477312.0\n",
      "199004.0\n",
      "48477312.0\n",
      "87932.0\n",
      "48477312.0\n",
      "113297.0\n",
      "48477312.0\n",
      "5438256.0\n",
      "48477312.0\n",
      "61104.0\n",
      "48477312.0\n",
      "3216.0\n",
      "48477312.0\n",
      "48.0\n",
      "48477312.0\n"
     ]
    }
   ],
   "source": [
    "P = np.loadtxt('P11.txt')\n",
    "stvorice = []\n",
    "cyklus = 0\n",
    "najvacsie = 0\n",
    "# riadky\n",
    "for i in range(len(P)):\n",
    "    riadok = P[i]\n",
    "    for j in range(len(riadok-3)):\n",
    "        stvorica = riadok[j:j+4]\n",
    "        vynasobene = np.prod(stvorica)\n",
    "        print(vynasobene)\n",
    "        print(najvacsie)\n",
    "        if vynasobene > najvacsie:\n",
    "            najvacsie = vynasobene\n",
    "# treba to urobit pomocou generatorov    "
   ]
  },
  {
   "cell_type": "code",
   "execution_count": null,
   "id": "0f455002-46e9-4924-94ae-ace8f0714c8d",
   "metadata": {},
   "outputs": [],
   "source": []
  },
  {
   "cell_type": "code",
   "execution_count": null,
   "id": "eca5e486-e72b-4331-8aef-bd22890c48c8",
   "metadata": {},
   "outputs": [],
   "source": []
  }
 ],
 "metadata": {
  "kernelspec": {
   "display_name": "Python 3 (ipykernel)",
   "language": "python",
   "name": "python3"
  },
  "language_info": {
   "codemirror_mode": {
    "name": "ipython",
    "version": 3
   },
   "file_extension": ".py",
   "mimetype": "text/x-python",
   "name": "python",
   "nbconvert_exporter": "python",
   "pygments_lexer": "ipython3",
   "version": "3.10.8"
  }
 },
 "nbformat": 4,
 "nbformat_minor": 5
}

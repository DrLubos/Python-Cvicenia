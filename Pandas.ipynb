{
 "cells": [
  {
   "cell_type": "markdown",
   "id": "81b08f25-da0f-4d7b-9bb6-27d7c93b96a6",
   "metadata": {},
   "source": [
    "# Pandas"
   ]
  },
  {
   "cell_type": "code",
   "execution_count": 1,
   "id": "cf6294bf-3be2-48b0-9546-6eec6bd22df6",
   "metadata": {
    "tags": []
   },
   "outputs": [],
   "source": [
    "import pandas as pd\n",
    "import numpy as np\n",
    "import matplotlib\n",
    "import matplotlib.pyplot as plt\n",
    "%matplotlib inline"
   ]
  },
  {
   "cell_type": "markdown",
   "id": "b3507fc7-b850-4c5c-9eb2-14c8e96ba8d1",
   "metadata": {},
   "source": [
    "### Priklad 1. Dataframe"
   ]
  },
  {
   "cell_type": "code",
   "execution_count": 2,
   "id": "5a497d28-3718-4a22-9292-dc60b5f13c18",
   "metadata": {
    "tags": []
   },
   "outputs": [
    {
     "data": {
      "text/html": [
       "<div>\n",
       "<style scoped>\n",
       "    .dataframe tbody tr th:only-of-type {\n",
       "        vertical-align: middle;\n",
       "    }\n",
       "\n",
       "    .dataframe tbody tr th {\n",
       "        vertical-align: top;\n",
       "    }\n",
       "\n",
       "    .dataframe thead th {\n",
       "        text-align: right;\n",
       "    }\n",
       "</style>\n",
       "<table border=\"1\" class=\"dataframe\">\n",
       "  <thead>\n",
       "    <tr style=\"text-align: right;\">\n",
       "      <th></th>\n",
       "      <th>rychlost</th>\n",
       "      <th>zivotnost</th>\n",
       "    </tr>\n",
       "  </thead>\n",
       "  <tbody>\n",
       "    <tr>\n",
       "      <th>slimak</th>\n",
       "      <td>0.1</td>\n",
       "      <td>2.0</td>\n",
       "    </tr>\n",
       "    <tr>\n",
       "      <th>prasa</th>\n",
       "      <td>17.5</td>\n",
       "      <td>8.0</td>\n",
       "    </tr>\n",
       "    <tr>\n",
       "      <th>slon</th>\n",
       "      <td>40.0</td>\n",
       "      <td>70.0</td>\n",
       "    </tr>\n",
       "    <tr>\n",
       "      <th>kralik</th>\n",
       "      <td>48.0</td>\n",
       "      <td>1.5</td>\n",
       "    </tr>\n",
       "    <tr>\n",
       "      <th>zirafa</th>\n",
       "      <td>52.0</td>\n",
       "      <td>25.0</td>\n",
       "    </tr>\n",
       "    <tr>\n",
       "      <th>kon</th>\n",
       "      <td>88.0</td>\n",
       "      <td>28.0</td>\n",
       "    </tr>\n",
       "  </tbody>\n",
       "</table>\n",
       "</div>"
      ],
      "text/plain": [
       "        rychlost  zivotnost\n",
       "slimak       0.1        2.0\n",
       "prasa       17.5        8.0\n",
       "slon        40.0       70.0\n",
       "kralik      48.0        1.5\n",
       "zirafa      52.0       25.0\n",
       "kon         88.0       28.0"
      ]
     },
     "execution_count": 2,
     "metadata": {},
     "output_type": "execute_result"
    }
   ],
   "source": [
    "zviera = ['slimak', 'prasa', 'slon', 'kralik', 'zirafa', 'kon']\n",
    "rychlost = [0.1, 17.5, 40, 48, 52, 88]\n",
    "zivotnost = [2, 8, 70, 1.5, 25, 28]\n",
    "df = pd.DataFrame({'rychlost': rychlost, 'zivotnost': zivotnost}, index = zviera)\n",
    "df"
   ]
  },
  {
   "cell_type": "code",
   "execution_count": 3,
   "id": "82634599-dbde-4d0c-8447-8f9162c075ae",
   "metadata": {
    "tags": []
   },
   "outputs": [
    {
     "data": {
      "text/plain": [
       "(6, 2)"
      ]
     },
     "execution_count": 3,
     "metadata": {},
     "output_type": "execute_result"
    }
   ],
   "source": [
    "df.shape"
   ]
  },
  {
   "cell_type": "code",
   "execution_count": 4,
   "id": "cb337716-24d1-4dee-9405-ecfa9b2a59d7",
   "metadata": {
    "tags": []
   },
   "outputs": [
    {
     "data": {
      "text/plain": [
       "Index(['slimak', 'prasa', 'slon', 'kralik', 'zirafa', 'kon'], dtype='object')"
      ]
     },
     "execution_count": 4,
     "metadata": {},
     "output_type": "execute_result"
    }
   ],
   "source": [
    "df.index"
   ]
  },
  {
   "cell_type": "code",
   "execution_count": 5,
   "id": "62d2a73a-cdb0-426b-bb1c-62cf950e7f9c",
   "metadata": {
    "tags": []
   },
   "outputs": [
    {
     "data": {
      "text/plain": [
       "Index(['rychlost', 'zivotnost'], dtype='object')"
      ]
     },
     "execution_count": 5,
     "metadata": {},
     "output_type": "execute_result"
    }
   ],
   "source": [
    "df.columns"
   ]
  },
  {
   "cell_type": "code",
   "execution_count": 6,
   "id": "d1d04e84-c51a-4e97-a333-dd734ee718f5",
   "metadata": {
    "tags": []
   },
   "outputs": [
    {
     "data": {
      "text/plain": [
       "array([[ 0.1,  2. ],\n",
       "       [17.5,  8. ],\n",
       "       [40. , 70. ],\n",
       "       [48. ,  1.5],\n",
       "       [52. , 25. ],\n",
       "       [88. , 28. ]])"
      ]
     },
     "execution_count": 6,
     "metadata": {},
     "output_type": "execute_result"
    }
   ],
   "source": [
    "df.values"
   ]
  },
  {
   "cell_type": "code",
   "execution_count": 7,
   "id": "52fb3e07-45a7-4f22-91af-dd5417b4945b",
   "metadata": {
    "tags": []
   },
   "outputs": [
    {
     "data": {
      "text/plain": [
       "slimak     2.0\n",
       "prasa      8.0\n",
       "slon      70.0\n",
       "kralik     1.5\n",
       "zirafa    25.0\n",
       "kon       28.0\n",
       "Name: zivotnost, dtype: float64"
      ]
     },
     "execution_count": 7,
     "metadata": {},
     "output_type": "execute_result"
    }
   ],
   "source": [
    "df['zivotnost']"
   ]
  },
  {
   "cell_type": "code",
   "execution_count": 8,
   "id": "cebb20ae-d4c9-4d94-a05d-078c7354aa8e",
   "metadata": {
    "tags": []
   },
   "outputs": [
    {
     "data": {
      "text/plain": [
       "1.5"
      ]
     },
     "execution_count": 8,
     "metadata": {},
     "output_type": "execute_result"
    }
   ],
   "source": [
    "df['zivotnost'].min()"
   ]
  },
  {
   "cell_type": "code",
   "execution_count": 9,
   "id": "14071773-f959-48c4-9832-bddbb44e9503",
   "metadata": {
    "tags": []
   },
   "outputs": [
    {
     "data": {
      "text/plain": [
       "slimak    False\n",
       "prasa     False\n",
       "slon       True\n",
       "kralik    False\n",
       "zirafa     True\n",
       "kon        True\n",
       "Name: zivotnost, dtype: bool"
      ]
     },
     "execution_count": 9,
     "metadata": {},
     "output_type": "execute_result"
    }
   ],
   "source": [
    "df['zivotnost']>10"
   ]
  },
  {
   "cell_type": "code",
   "execution_count": 10,
   "id": "ec4d0245-4089-4fa7-800c-de9e3bd5ef06",
   "metadata": {
    "tags": []
   },
   "outputs": [
    {
     "data": {
      "text/html": [
       "<div>\n",
       "<style scoped>\n",
       "    .dataframe tbody tr th:only-of-type {\n",
       "        vertical-align: middle;\n",
       "    }\n",
       "\n",
       "    .dataframe tbody tr th {\n",
       "        vertical-align: top;\n",
       "    }\n",
       "\n",
       "    .dataframe thead th {\n",
       "        text-align: right;\n",
       "    }\n",
       "</style>\n",
       "<table border=\"1\" class=\"dataframe\">\n",
       "  <thead>\n",
       "    <tr style=\"text-align: right;\">\n",
       "      <th></th>\n",
       "      <th>rychlost</th>\n",
       "      <th>zivotnost</th>\n",
       "    </tr>\n",
       "  </thead>\n",
       "  <tbody>\n",
       "    <tr>\n",
       "      <th>slon</th>\n",
       "      <td>40.0</td>\n",
       "      <td>70.0</td>\n",
       "    </tr>\n",
       "    <tr>\n",
       "      <th>zirafa</th>\n",
       "      <td>52.0</td>\n",
       "      <td>25.0</td>\n",
       "    </tr>\n",
       "    <tr>\n",
       "      <th>kon</th>\n",
       "      <td>88.0</td>\n",
       "      <td>28.0</td>\n",
       "    </tr>\n",
       "  </tbody>\n",
       "</table>\n",
       "</div>"
      ],
      "text/plain": [
       "        rychlost  zivotnost\n",
       "slon        40.0       70.0\n",
       "zirafa      52.0       25.0\n",
       "kon         88.0       28.0"
      ]
     },
     "execution_count": 10,
     "metadata": {},
     "output_type": "execute_result"
    }
   ],
   "source": [
    "# filtrovanie pomocou masky\n",
    "df[df['zivotnost']>10]"
   ]
  },
  {
   "cell_type": "code",
   "execution_count": 11,
   "id": "f9bac025-6eb6-490b-aa01-036d018c8fca",
   "metadata": {
    "tags": []
   },
   "outputs": [
    {
     "data": {
      "image/png": "[encoded data removed]",
      "text/plain": [
       "<Figure size 640x480 with 1 Axes>"
      ]
     },
     "metadata": {},
     "output_type": "display_data"
    }
   ],
   "source": [
    "# vizualizacia\n",
    "df.plot.bar(rot=0);"
   ]
  },
  {
   "cell_type": "code",
   "execution_count": 12,
   "id": "0449a040-71a9-427a-ab90-bc69b2bc12e1",
   "metadata": {
    "tags": []
   },
   "outputs": [
    {
     "data": {
      "image/png": "[encoded data removed]",
      "text/plain": [
       "<Figure size 640x480 with 1 Axes>"
      ]
     },
     "metadata": {},
     "output_type": "display_data"
    }
   ],
   "source": [
    "df['zivotnost'].plot.bar(rot=0);\n",
    "plt.title(\"Zivotnost\");"
   ]
  },
  {
   "cell_type": "markdown",
   "id": "f8c24c38-19f4-499d-9f68-bfc3c7e7945f",
   "metadata": {},
   "source": [
    "### Priklad 2. Nacitanie zo suboru\n",
    "\n",
    "https://data.gov.sk/dataset/statistika-navstevnosti-a-trzieb-slovenskeho-banskeho-muzea-v-banskej-stiavnici"
   ]
  },
  {
   "cell_type": "code",
   "execution_count": 13,
   "id": "632a16a0-63e7-4d51-b78d-24a6e77d9d14",
   "metadata": {
    "tags": []
   },
   "outputs": [],
   "source": [
    "df = pd.read_csv('sbm.navstevnost2019.csv')"
   ]
  },
  {
   "cell_type": "code",
   "execution_count": 14,
   "id": "c746c2c9-33bb-4d5f-9eda-e9d2b378e24a",
   "metadata": {
    "tags": []
   },
   "outputs": [
    {
     "data": {
      "text/html": [
       "<div>\n",
       "<style scoped>\n",
       "    .dataframe tbody tr th:only-of-type {\n",
       "        vertical-align: middle;\n",
       "    }\n",
       "\n",
       "    .dataframe tbody tr th {\n",
       "        vertical-align: top;\n",
       "    }\n",
       "\n",
       "    .dataframe thead th {\n",
       "        text-align: right;\n",
       "    }\n",
       "</style>\n",
       "<table border=\"1\" class=\"dataframe\">\n",
       "  <thead>\n",
       "    <tr style=\"text-align: right;\">\n",
       "      <th></th>\n",
       "      <th>_id</th>\n",
       "      <th>Id</th>\n",
       "      <th>Expozicia</th>\n",
       "      <th>Rok</th>\n",
       "      <th>Mesiac</th>\n",
       "      <th>Navstevnost</th>\n",
       "      <th>Trzby</th>\n",
       "      <th>Skolaci</th>\n",
       "      <th>Cudzinci</th>\n",
       "      <th>Zdarma</th>\n",
       "    </tr>\n",
       "  </thead>\n",
       "  <tbody>\n",
       "    <tr>\n",
       "      <th>0</th>\n",
       "      <td>1</td>\n",
       "      <td>1</td>\n",
       "      <td>Banské múzeum v prírode</td>\n",
       "      <td>2019</td>\n",
       "      <td>1</td>\n",
       "      <td>48</td>\n",
       "      <td>132</td>\n",
       "      <td>36</td>\n",
       "      <td>0</td>\n",
       "      <td>7</td>\n",
       "    </tr>\n",
       "    <tr>\n",
       "      <th>1</th>\n",
       "      <td>2</td>\n",
       "      <td>2</td>\n",
       "      <td>Nový zámok</td>\n",
       "      <td>2019</td>\n",
       "      <td>1</td>\n",
       "      <td>298</td>\n",
       "      <td>669</td>\n",
       "      <td>0</td>\n",
       "      <td>52</td>\n",
       "      <td>19</td>\n",
       "    </tr>\n",
       "    <tr>\n",
       "      <th>2</th>\n",
       "      <td>3</td>\n",
       "      <td>3</td>\n",
       "      <td>Starý zámok</td>\n",
       "      <td>2019</td>\n",
       "      <td>1</td>\n",
       "      <td>405</td>\n",
       "      <td>1576,5</td>\n",
       "      <td>0</td>\n",
       "      <td>90</td>\n",
       "      <td>42</td>\n",
       "    </tr>\n",
       "    <tr>\n",
       "      <th>3</th>\n",
       "      <td>4</td>\n",
       "      <td>4</td>\n",
       "      <td>Kammerhof-baníctvo na Slovensku</td>\n",
       "      <td>2019</td>\n",
       "      <td>1</td>\n",
       "      <td>44</td>\n",
       "      <td>111</td>\n",
       "      <td>0</td>\n",
       "      <td>7</td>\n",
       "      <td>1</td>\n",
       "    </tr>\n",
       "    <tr>\n",
       "      <th>4</th>\n",
       "      <td>5</td>\n",
       "      <td>5</td>\n",
       "      <td>Berggericht-mineralogická expozícia</td>\n",
       "      <td>2019</td>\n",
       "      <td>1</td>\n",
       "      <td>139</td>\n",
       "      <td>354</td>\n",
       "      <td>0</td>\n",
       "      <td>19</td>\n",
       "      <td>11</td>\n",
       "    </tr>\n",
       "    <tr>\n",
       "      <th>5</th>\n",
       "      <td>6</td>\n",
       "      <td>6</td>\n",
       "      <td>Galéria Jozefa Kollára</td>\n",
       "      <td>2019</td>\n",
       "      <td>1</td>\n",
       "      <td>108</td>\n",
       "      <td>101</td>\n",
       "      <td>34</td>\n",
       "      <td>5</td>\n",
       "      <td>22</td>\n",
       "    </tr>\n",
       "    <tr>\n",
       "      <th>6</th>\n",
       "      <td>7</td>\n",
       "      <td>7</td>\n",
       "      <td>Glanzenberg štôlňa</td>\n",
       "      <td>2019</td>\n",
       "      <td>1</td>\n",
       "      <td>0</td>\n",
       "      <td>0</td>\n",
       "      <td>0</td>\n",
       "      <td>0</td>\n",
       "      <td>0</td>\n",
       "    </tr>\n",
       "    <tr>\n",
       "      <th>7</th>\n",
       "      <td>8</td>\n",
       "      <td>8</td>\n",
       "      <td>Michal štôlňa</td>\n",
       "      <td>2019</td>\n",
       "      <td>1</td>\n",
       "      <td>238</td>\n",
       "      <td>112,5</td>\n",
       "      <td>0</td>\n",
       "      <td>0</td>\n",
       "      <td>12</td>\n",
       "    </tr>\n",
       "    <tr>\n",
       "      <th>8</th>\n",
       "      <td>9</td>\n",
       "      <td>9</td>\n",
       "      <td>Handlová</td>\n",
       "      <td>2019</td>\n",
       "      <td>1</td>\n",
       "      <td>20</td>\n",
       "      <td>24</td>\n",
       "      <td>12</td>\n",
       "      <td>0</td>\n",
       "      <td>2</td>\n",
       "    </tr>\n",
       "    <tr>\n",
       "      <th>9</th>\n",
       "      <td>10</td>\n",
       "      <td>10</td>\n",
       "      <td>Banské múzeum v prírode</td>\n",
       "      <td>2019</td>\n",
       "      <td>2</td>\n",
       "      <td>349</td>\n",
       "      <td>1436</td>\n",
       "      <td>15</td>\n",
       "      <td>144</td>\n",
       "      <td>17</td>\n",
       "    </tr>\n",
       "  </tbody>\n",
       "</table>\n",
       "</div>"
      ],
      "text/plain": [
       "   _id  Id                            Expozicia   Rok  Mesiac  Navstevnost  \\\n",
       "0    1   1              Banské múzeum v prírode  2019       1           48   \n",
       "1    2   2                           Nový zámok  2019       1          298   \n",
       "2    3   3                          Starý zámok  2019       1          405   \n",
       "3    4   4      Kammerhof-baníctvo na Slovensku  2019       1           44   \n",
       "4    5   5  Berggericht-mineralogická expozícia  2019       1          139   \n",
       "5    6   6               Galéria Jozefa Kollára  2019       1          108   \n",
       "6    7   7                   Glanzenberg štôlňa  2019       1            0   \n",
       "7    8   8                        Michal štôlňa  2019       1          238   \n",
       "8    9   9                             Handlová  2019       1           20   \n",
       "9   10  10              Banské múzeum v prírode  2019       2          349   \n",
       "\n",
       "    Trzby  Skolaci  Cudzinci  Zdarma  \n",
       "0     132       36         0       7  \n",
       "1     669        0        52      19  \n",
       "2  1576,5        0        90      42  \n",
       "3     111        0         7       1  \n",
       "4     354        0        19      11  \n",
       "5     101       34         5      22  \n",
       "6       0        0         0       0  \n",
       "7   112,5        0         0      12  \n",
       "8      24       12         0       2  \n",
       "9    1436       15       144      17  "
      ]
     },
     "execution_count": 14,
     "metadata": {},
     "output_type": "execute_result"
    }
   ],
   "source": [
    "df.head(10)"
   ]
  },
  {
   "cell_type": "code",
   "execution_count": 15,
   "id": "bb8ca95a-cb8b-4b5b-86b3-30766a53ed15",
   "metadata": {
    "tags": []
   },
   "outputs": [
    {
     "data": {
      "text/plain": [
       "Mesiac\n",
       "1      1300\n",
       "2      3127\n",
       "3      6787\n",
       "4     11077\n",
       "5     15616\n",
       "6     18996\n",
       "7     25955\n",
       "8     30769\n",
       "9     12587\n",
       "10    12268\n",
       "11     6167\n",
       "12     3194\n",
       "Name: Navstevnost, dtype: int64"
      ]
     },
     "execution_count": 15,
     "metadata": {},
     "output_type": "execute_result"
    }
   ],
   "source": [
    "# Celkova navstevnost po mesiacoch\n",
    "nav = df.groupby('Mesiac')['Navstevnost'].sum()\n",
    "nav"
   ]
  },
  {
   "cell_type": "code",
   "execution_count": 16,
   "id": "1ece4da1-8719-4045-ab66-de7398de1405",
   "metadata": {
    "tags": []
   },
   "outputs": [
    {
     "data": {
      "image/png": "[encoded data removed]",
      "text/plain": [
       "<Figure size 640x480 with 1 Axes>"
      ]
     },
     "metadata": {},
     "output_type": "display_data"
    }
   ],
   "source": [
    "# graficke znazornenie\n",
    "mesiace=['januar', 'februar', 'marec', 'april', 'maj', 'jun', 'jul', 'august', 'september', 'oktober', 'november', 'december']\n",
    "nav.plot.pie(labels=mesiace);"
   ]
  },
  {
   "cell_type": "code",
   "execution_count": 17,
   "id": "95ff7677-b3c0-4499-a4a2-6b5e51d7d5d3",
   "metadata": {
    "tags": []
   },
   "outputs": [
    {
     "data": {
      "text/plain": [
       "Expozicia                Mesiac\n",
       "Banské múzeum v prírode  1           48\n",
       "                         2          349\n",
       "                         3         1746\n",
       "                         4         3700\n",
       "                         5         5805\n",
       "                                   ... \n",
       "Starý zámok              8         5239\n",
       "                         9         2952\n",
       "                         10        2675\n",
       "                         11        1452\n",
       "                         12         835\n",
       "Name: Navstevnost, Length: 108, dtype: int64"
      ]
     },
     "execution_count": 17,
     "metadata": {},
     "output_type": "execute_result"
    }
   ],
   "source": [
    "# Navstevnost jednotlivych expozicii po mesiacoch\n",
    "expo = df.groupby(['Expozicia', 'Mesiac'])['Navstevnost'].sum()\n",
    "expo"
   ]
  },
  {
   "cell_type": "code",
   "execution_count": 18,
   "id": "decdc22d-53c8-4008-ab0a-f9ba80eb9a6d",
   "metadata": {
    "tags": []
   },
   "outputs": [
    {
     "data": {
      "text/html": [
       "<div>\n",
       "<style scoped>\n",
       "    .dataframe tbody tr th:only-of-type {\n",
       "        vertical-align: middle;\n",
       "    }\n",
       "\n",
       "    .dataframe tbody tr th {\n",
       "        vertical-align: top;\n",
       "    }\n",
       "\n",
       "    .dataframe thead th {\n",
       "        text-align: right;\n",
       "    }\n",
       "</style>\n",
       "<table border=\"1\" class=\"dataframe\">\n",
       "  <thead>\n",
       "    <tr style=\"text-align: right;\">\n",
       "      <th></th>\n",
       "      <th>Expozicia</th>\n",
       "      <th>Mesiac</th>\n",
       "      <th>Navstevnost</th>\n",
       "    </tr>\n",
       "  </thead>\n",
       "  <tbody>\n",
       "    <tr>\n",
       "      <th>0</th>\n",
       "      <td>Banské múzeum v prírode</td>\n",
       "      <td>1</td>\n",
       "      <td>48</td>\n",
       "    </tr>\n",
       "    <tr>\n",
       "      <th>1</th>\n",
       "      <td>Nový zámok</td>\n",
       "      <td>1</td>\n",
       "      <td>298</td>\n",
       "    </tr>\n",
       "    <tr>\n",
       "      <th>2</th>\n",
       "      <td>Starý zámok</td>\n",
       "      <td>1</td>\n",
       "      <td>405</td>\n",
       "    </tr>\n",
       "    <tr>\n",
       "      <th>3</th>\n",
       "      <td>Kammerhof-baníctvo na Slovensku</td>\n",
       "      <td>1</td>\n",
       "      <td>44</td>\n",
       "    </tr>\n",
       "    <tr>\n",
       "      <th>4</th>\n",
       "      <td>Berggericht-mineralogická expozícia</td>\n",
       "      <td>1</td>\n",
       "      <td>139</td>\n",
       "    </tr>\n",
       "    <tr>\n",
       "      <th>...</th>\n",
       "      <td>...</td>\n",
       "      <td>...</td>\n",
       "      <td>...</td>\n",
       "    </tr>\n",
       "    <tr>\n",
       "      <th>103</th>\n",
       "      <td>Berggericht-mineralogická expozícia</td>\n",
       "      <td>12</td>\n",
       "      <td>211</td>\n",
       "    </tr>\n",
       "    <tr>\n",
       "      <th>104</th>\n",
       "      <td>Galéria Jozefa Kollára</td>\n",
       "      <td>12</td>\n",
       "      <td>327</td>\n",
       "    </tr>\n",
       "    <tr>\n",
       "      <th>105</th>\n",
       "      <td>Glanzenberg štôlňa</td>\n",
       "      <td>12</td>\n",
       "      <td>15</td>\n",
       "    </tr>\n",
       "    <tr>\n",
       "      <th>106</th>\n",
       "      <td>Michal štôlňa</td>\n",
       "      <td>12</td>\n",
       "      <td>523</td>\n",
       "    </tr>\n",
       "    <tr>\n",
       "      <th>107</th>\n",
       "      <td>Handlová</td>\n",
       "      <td>12</td>\n",
       "      <td>289</td>\n",
       "    </tr>\n",
       "  </tbody>\n",
       "</table>\n",
       "<p>108 rows × 3 columns</p>\n",
       "</div>"
      ],
      "text/plain": [
       "                               Expozicia  Mesiac  Navstevnost\n",
       "0                Banské múzeum v prírode       1           48\n",
       "1                             Nový zámok       1          298\n",
       "2                            Starý zámok       1          405\n",
       "3        Kammerhof-baníctvo na Slovensku       1           44\n",
       "4    Berggericht-mineralogická expozícia       1          139\n",
       "..                                   ...     ...          ...\n",
       "103  Berggericht-mineralogická expozícia      12          211\n",
       "104               Galéria Jozefa Kollára      12          327\n",
       "105                   Glanzenberg štôlňa      12           15\n",
       "106                        Michal štôlňa      12          523\n",
       "107                             Handlová      12          289\n",
       "\n",
       "[108 rows x 3 columns]"
      ]
     },
     "execution_count": 18,
     "metadata": {},
     "output_type": "execute_result"
    }
   ],
   "source": [
    "# kontigencna tabulka\n",
    "navex = df[['Expozicia', 'Mesiac', 'Navstevnost']]\n",
    "navex"
   ]
  },
  {
   "cell_type": "code",
   "execution_count": 19,
   "id": "7ec33965-f22f-4fb8-b7c8-ca4518715fa4",
   "metadata": {
    "tags": []
   },
   "outputs": [
    {
     "data": {
      "text/html": [
       "<div>\n",
       "<style scoped>\n",
       "    .dataframe tbody tr th:only-of-type {\n",
       "        vertical-align: middle;\n",
       "    }\n",
       "\n",
       "    .dataframe tbody tr th {\n",
       "        vertical-align: top;\n",
       "    }\n",
       "\n",
       "    .dataframe thead th {\n",
       "        text-align: right;\n",
       "    }\n",
       "</style>\n",
       "<table border=\"1\" class=\"dataframe\">\n",
       "  <thead>\n",
       "    <tr style=\"text-align: right;\">\n",
       "      <th>Expozicia</th>\n",
       "      <th>Banské múzeum v prírode</th>\n",
       "      <th>Berggericht-mineralogická expozícia</th>\n",
       "      <th>Galéria Jozefa Kollára</th>\n",
       "      <th>Glanzenberg štôlňa</th>\n",
       "      <th>Handlová</th>\n",
       "      <th>Kammerhof-baníctvo na Slovensku</th>\n",
       "      <th>Michal štôlňa</th>\n",
       "      <th>Nový zámok</th>\n",
       "      <th>Starý zámok</th>\n",
       "    </tr>\n",
       "    <tr>\n",
       "      <th>Mesiac</th>\n",
       "      <th></th>\n",
       "      <th></th>\n",
       "      <th></th>\n",
       "      <th></th>\n",
       "      <th></th>\n",
       "      <th></th>\n",
       "      <th></th>\n",
       "      <th></th>\n",
       "      <th></th>\n",
       "    </tr>\n",
       "  </thead>\n",
       "  <tbody>\n",
       "    <tr>\n",
       "      <th>1</th>\n",
       "      <td>48</td>\n",
       "      <td>139</td>\n",
       "      <td>108</td>\n",
       "      <td>0</td>\n",
       "      <td>20</td>\n",
       "      <td>44</td>\n",
       "      <td>238</td>\n",
       "      <td>298</td>\n",
       "      <td>405</td>\n",
       "    </tr>\n",
       "    <tr>\n",
       "      <th>2</th>\n",
       "      <td>349</td>\n",
       "      <td>337</td>\n",
       "      <td>185</td>\n",
       "      <td>0</td>\n",
       "      <td>108</td>\n",
       "      <td>147</td>\n",
       "      <td>609</td>\n",
       "      <td>620</td>\n",
       "      <td>772</td>\n",
       "    </tr>\n",
       "    <tr>\n",
       "      <th>3</th>\n",
       "      <td>1746</td>\n",
       "      <td>485</td>\n",
       "      <td>152</td>\n",
       "      <td>0</td>\n",
       "      <td>220</td>\n",
       "      <td>533</td>\n",
       "      <td>764</td>\n",
       "      <td>1176</td>\n",
       "      <td>1711</td>\n",
       "    </tr>\n",
       "    <tr>\n",
       "      <th>4</th>\n",
       "      <td>3700</td>\n",
       "      <td>508</td>\n",
       "      <td>559</td>\n",
       "      <td>0</td>\n",
       "      <td>299</td>\n",
       "      <td>683</td>\n",
       "      <td>1004</td>\n",
       "      <td>1905</td>\n",
       "      <td>2419</td>\n",
       "    </tr>\n",
       "    <tr>\n",
       "      <th>5</th>\n",
       "      <td>5805</td>\n",
       "      <td>737</td>\n",
       "      <td>410</td>\n",
       "      <td>287</td>\n",
       "      <td>128</td>\n",
       "      <td>1049</td>\n",
       "      <td>1154</td>\n",
       "      <td>2683</td>\n",
       "      <td>3363</td>\n",
       "    </tr>\n",
       "    <tr>\n",
       "      <th>6</th>\n",
       "      <td>8014</td>\n",
       "      <td>1204</td>\n",
       "      <td>498</td>\n",
       "      <td>266</td>\n",
       "      <td>87</td>\n",
       "      <td>1404</td>\n",
       "      <td>1245</td>\n",
       "      <td>3040</td>\n",
       "      <td>3238</td>\n",
       "    </tr>\n",
       "    <tr>\n",
       "      <th>7</th>\n",
       "      <td>9343</td>\n",
       "      <td>1118</td>\n",
       "      <td>623</td>\n",
       "      <td>522</td>\n",
       "      <td>258</td>\n",
       "      <td>1644</td>\n",
       "      <td>3018</td>\n",
       "      <td>5009</td>\n",
       "      <td>4420</td>\n",
       "    </tr>\n",
       "    <tr>\n",
       "      <th>8</th>\n",
       "      <td>10869</td>\n",
       "      <td>1398</td>\n",
       "      <td>862</td>\n",
       "      <td>543</td>\n",
       "      <td>455</td>\n",
       "      <td>1720</td>\n",
       "      <td>3559</td>\n",
       "      <td>6124</td>\n",
       "      <td>5239</td>\n",
       "    </tr>\n",
       "    <tr>\n",
       "      <th>9</th>\n",
       "      <td>3916</td>\n",
       "      <td>724</td>\n",
       "      <td>467</td>\n",
       "      <td>290</td>\n",
       "      <td>30</td>\n",
       "      <td>557</td>\n",
       "      <td>1180</td>\n",
       "      <td>2471</td>\n",
       "      <td>2952</td>\n",
       "    </tr>\n",
       "    <tr>\n",
       "      <th>10</th>\n",
       "      <td>4487</td>\n",
       "      <td>858</td>\n",
       "      <td>581</td>\n",
       "      <td>233</td>\n",
       "      <td>117</td>\n",
       "      <td>0</td>\n",
       "      <td>1251</td>\n",
       "      <td>2066</td>\n",
       "      <td>2675</td>\n",
       "    </tr>\n",
       "    <tr>\n",
       "      <th>11</th>\n",
       "      <td>1533</td>\n",
       "      <td>532</td>\n",
       "      <td>419</td>\n",
       "      <td>183</td>\n",
       "      <td>65</td>\n",
       "      <td>0</td>\n",
       "      <td>752</td>\n",
       "      <td>1231</td>\n",
       "      <td>1452</td>\n",
       "    </tr>\n",
       "    <tr>\n",
       "      <th>12</th>\n",
       "      <td>615</td>\n",
       "      <td>211</td>\n",
       "      <td>327</td>\n",
       "      <td>15</td>\n",
       "      <td>289</td>\n",
       "      <td>0</td>\n",
       "      <td>523</td>\n",
       "      <td>379</td>\n",
       "      <td>835</td>\n",
       "    </tr>\n",
       "  </tbody>\n",
       "</table>\n",
       "</div>"
      ],
      "text/plain": [
       "Expozicia  Banské múzeum v prírode  Berggericht-mineralogická expozícia  \\\n",
       "Mesiac                                                                    \n",
       "1                               48                                  139   \n",
       "2                              349                                  337   \n",
       "3                             1746                                  485   \n",
       "4                             3700                                  508   \n",
       "5                             5805                                  737   \n",
       "6                             8014                                 1204   \n",
       "7                             9343                                 1118   \n",
       "8                            10869                                 1398   \n",
       "9                             3916                                  724   \n",
       "10                            4487                                  858   \n",
       "11                            1533                                  532   \n",
       "12                             615                                  211   \n",
       "\n",
       "Expozicia  Galéria Jozefa Kollára  Glanzenberg štôlňa  Handlová  \\\n",
       "Mesiac                                                            \n",
       "1                             108                   0        20   \n",
       "2                             185                   0       108   \n",
       "3                             152                   0       220   \n",
       "4                             559                   0       299   \n",
       "5                             410                 287       128   \n",
       "6                             498                 266        87   \n",
       "7                             623                 522       258   \n",
       "8                             862                 543       455   \n",
       "9                             467                 290        30   \n",
       "10                            581                 233       117   \n",
       "11                            419                 183        65   \n",
       "12                            327                  15       289   \n",
       "\n",
       "Expozicia  Kammerhof-baníctvo na Slovensku  Michal štôlňa  Nový zámok  \\\n",
       "Mesiac                                                                  \n",
       "1                                       44            238         298   \n",
       "2                                      147            609         620   \n",
       "3                                      533            764        1176   \n",
       "4                                      683           1004        1905   \n",
       "5                                     1049           1154        2683   \n",
       "6                                     1404           1245        3040   \n",
       "7                                     1644           3018        5009   \n",
       "8                                     1720           3559        6124   \n",
       "9                                      557           1180        2471   \n",
       "10                                       0           1251        2066   \n",
       "11                                       0            752        1231   \n",
       "12                                       0            523         379   \n",
       "\n",
       "Expozicia  Starý zámok  \n",
       "Mesiac                  \n",
       "1                  405  \n",
       "2                  772  \n",
       "3                 1711  \n",
       "4                 2419  \n",
       "5                 3363  \n",
       "6                 3238  \n",
       "7                 4420  \n",
       "8                 5239  \n",
       "9                 2952  \n",
       "10                2675  \n",
       "11                1452  \n",
       "12                 835  "
      ]
     },
     "execution_count": 19,
     "metadata": {},
     "output_type": "execute_result"
    }
   ],
   "source": [
    "pt = pd.pivot_table(navex, columns='Expozicia', index='Mesiac', values='Navstevnost', aggfunc='sum')\n",
    "pt"
   ]
  },
  {
   "cell_type": "code",
   "execution_count": 20,
   "id": "2890f8a9-d093-47db-9edc-f79aac4cbcf6",
   "metadata": {
    "tags": []
   },
   "outputs": [
    {
     "data": {
      "image/png": "[encoded data removed]",
      "text/plain": [
       "<Figure size 640x480 with 1 Axes>"
      ]
     },
     "metadata": {},
     "output_type": "display_data"
    }
   ],
   "source": [
    "pt.plot.bar();\n",
    "plt.title('Navstevnost expoozicii v roku 2019');"
   ]
  },
  {
   "cell_type": "code",
   "execution_count": 21,
   "id": "acb643ff-cec5-46be-ae28-feef27eb661e",
   "metadata": {
    "tags": []
   },
   "outputs": [
    {
     "data": {
      "image/png": "[encoded data removed]",
      "text/plain": [
       "<Figure size 640x480 with 1 Axes>"
      ]
     },
     "metadata": {},
     "output_type": "display_data"
    }
   ],
   "source": [
    "pt['Handlová'].plot.bar();\n",
    "plt.title('Navstevnost expozicie Handlova v roku 2019');"
   ]
  },
  {
   "cell_type": "markdown",
   "id": "8370890a-3adc-458c-bc3f-2b92bc7868ab",
   "metadata": {},
   "source": [
    "### Priklad 3. Informacia z dataframe\n",
    "\n",
    "https://data.gov.sk/dataset/zoznam-psov-chovanych-v-meste-presov"
   ]
  },
  {
   "cell_type": "code",
   "execution_count": 22,
   "id": "2858094a-e834-43ea-bf28-6ed875347faa",
   "metadata": {
    "tags": []
   },
   "outputs": [],
   "source": [
    "df = pd.read_json('PsyPresov.json')"
   ]
  },
  {
   "cell_type": "code",
   "execution_count": 23,
   "id": "33944782-f0c0-4681-86e3-48fa75352b0c",
   "metadata": {
    "tags": []
   },
   "outputs": [
    {
     "data": {
      "text/html": [
       "<div>\n",
       "<style scoped>\n",
       "    .dataframe tbody tr th:only-of-type {\n",
       "        vertical-align: middle;\n",
       "    }\n",
       "\n",
       "    .dataframe tbody tr th {\n",
       "        vertical-align: top;\n",
       "    }\n",
       "\n",
       "    .dataframe thead th {\n",
       "        text-align: right;\n",
       "    }\n",
       "</style>\n",
       "<table border=\"1\" class=\"dataframe\">\n",
       "  <thead>\n",
       "    <tr style=\"text-align: right;\">\n",
       "      <th></th>\n",
       "      <th>Plemeno</th>\n",
       "      <th>Č._známky</th>\n",
       "      <th>Farba</th>\n",
       "      <th>Nebezpečný_pes</th>\n",
       "      <th>Časť_mesta</th>\n",
       "      <th>Ulica_(chovu_psa)</th>\n",
       "      <th>Súp._č.</th>\n",
       "      <th>Orient._č.</th>\n",
       "    </tr>\n",
       "  </thead>\n",
       "  <tbody>\n",
       "    <tr>\n",
       "      <th>0</th>\n",
       "      <td>Maltézky psík</td>\n",
       "      <td>7764</td>\n",
       "      <td></td>\n",
       "      <td>Nie</td>\n",
       "      <td>Nižná Šebastová</td>\n",
       "      <td>Agátová</td>\n",
       "      <td>7348</td>\n",
       "      <td>3</td>\n",
       "    </tr>\n",
       "    <tr>\n",
       "      <th>1</th>\n",
       "      <td>Bišon</td>\n",
       "      <td>7100</td>\n",
       "      <td></td>\n",
       "      <td>Nie</td>\n",
       "      <td>Nižná Šebastová</td>\n",
       "      <td>Belianska</td>\n",
       "      <td>6389</td>\n",
       "      <td>6</td>\n",
       "    </tr>\n",
       "    <tr>\n",
       "      <th>2</th>\n",
       "      <td>Yorkshirský teriér</td>\n",
       "      <td>551</td>\n",
       "      <td></td>\n",
       "      <td>Nie</td>\n",
       "      <td>Nižná Šebastová</td>\n",
       "      <td>Belianska</td>\n",
       "      <td>6389</td>\n",
       "      <td>6</td>\n",
       "    </tr>\n",
       "    <tr>\n",
       "      <th>3</th>\n",
       "      <td>Nemecký ovčiak</td>\n",
       "      <td>1543</td>\n",
       "      <td></td>\n",
       "      <td>Nie</td>\n",
       "      <td>Nižná Šebastová</td>\n",
       "      <td>Belianska</td>\n",
       "      <td>2099</td>\n",
       "      <td>7</td>\n",
       "    </tr>\n",
       "    <tr>\n",
       "      <th>4</th>\n",
       "      <td>Kríženec</td>\n",
       "      <td>8625</td>\n",
       "      <td></td>\n",
       "      <td>Nie</td>\n",
       "      <td>Nižná Šebastová</td>\n",
       "      <td>Belianska</td>\n",
       "      <td>2101</td>\n",
       "      <td>11</td>\n",
       "    </tr>\n",
       "  </tbody>\n",
       "</table>\n",
       "</div>"
      ],
      "text/plain": [
       "              Plemeno Č._známky Farba Nebezpečný_pes       Časť_mesta  \\\n",
       "0       Maltézky psík      7764                  Nie  Nižná Šebastová   \n",
       "1               Bišon      7100                  Nie  Nižná Šebastová   \n",
       "2  Yorkshirský teriér       551                  Nie  Nižná Šebastová   \n",
       "3      Nemecký ovčiak      1543                  Nie  Nižná Šebastová   \n",
       "4            Kríženec      8625                  Nie  Nižná Šebastová   \n",
       "\n",
       "  Ulica_(chovu_psa) Súp._č.  Orient._č.  \n",
       "0           Agátová   7348      3        \n",
       "1         Belianska   6389      6        \n",
       "2         Belianska   6389      6        \n",
       "3         Belianska   2099      7        \n",
       "4         Belianska   2101     11        "
      ]
     },
     "execution_count": 23,
     "metadata": {},
     "output_type": "execute_result"
    }
   ],
   "source": [
    "df.head(5)"
   ]
  },
  {
   "cell_type": "code",
   "execution_count": 82,
   "id": "1cfd8bc7-2852-471f-a06f-911bf64364ba",
   "metadata": {
    "tags": []
   },
   "outputs": [
    {
     "data": {
      "text/html": [
       "<div>\n",
       "<style scoped>\n",
       "    .dataframe tbody tr th:only-of-type {\n",
       "        vertical-align: middle;\n",
       "    }\n",
       "\n",
       "    .dataframe tbody tr th {\n",
       "        vertical-align: top;\n",
       "    }\n",
       "\n",
       "    .dataframe thead th {\n",
       "        text-align: right;\n",
       "    }\n",
       "</style>\n",
       "<table border=\"1\" class=\"dataframe\">\n",
       "  <thead>\n",
       "    <tr style=\"text-align: right;\">\n",
       "      <th></th>\n",
       "      <th>Plemeno</th>\n",
       "      <th>Ulica</th>\n",
       "      <th>Cislo</th>\n",
       "    </tr>\n",
       "  </thead>\n",
       "  <tbody>\n",
       "    <tr>\n",
       "      <th>0</th>\n",
       "      <td>Maltézky psík</td>\n",
       "      <td>Agátová</td>\n",
       "      <td>3</td>\n",
       "    </tr>\n",
       "    <tr>\n",
       "      <th>1</th>\n",
       "      <td>Bišon</td>\n",
       "      <td>Belianska</td>\n",
       "      <td>6</td>\n",
       "    </tr>\n",
       "    <tr>\n",
       "      <th>2</th>\n",
       "      <td>Yorkshirský teriér</td>\n",
       "      <td>Belianska</td>\n",
       "      <td>6</td>\n",
       "    </tr>\n",
       "    <tr>\n",
       "      <th>3</th>\n",
       "      <td>Nemecký ovčiak</td>\n",
       "      <td>Belianska</td>\n",
       "      <td>7</td>\n",
       "    </tr>\n",
       "    <tr>\n",
       "      <th>4</th>\n",
       "      <td>Kríženec</td>\n",
       "      <td>Belianska</td>\n",
       "      <td>11</td>\n",
       "    </tr>\n",
       "    <tr>\n",
       "      <th>5</th>\n",
       "      <td>Rotvajler</td>\n",
       "      <td>Belianska</td>\n",
       "      <td>12</td>\n",
       "    </tr>\n",
       "    <tr>\n",
       "      <th>6</th>\n",
       "      <td>Trpasličí pudlík</td>\n",
       "      <td>Belianska</td>\n",
       "      <td>14</td>\n",
       "    </tr>\n",
       "    <tr>\n",
       "      <th>7</th>\n",
       "      <td>Bígl</td>\n",
       "      <td>Bociania</td>\n",
       "      <td>9</td>\n",
       "    </tr>\n",
       "    <tr>\n",
       "      <th>8</th>\n",
       "      <td>Kríženec</td>\n",
       "      <td>Borovicová</td>\n",
       "      <td>4</td>\n",
       "    </tr>\n",
       "    <tr>\n",
       "      <th>9</th>\n",
       "      <td>Nemecký ovčiak</td>\n",
       "      <td>Borovicová</td>\n",
       "      <td>6</td>\n",
       "    </tr>\n",
       "  </tbody>\n",
       "</table>\n",
       "</div>"
      ],
      "text/plain": [
       "              Plemeno       Ulica       Cislo\n",
       "0       Maltézky psík     Agátová     3      \n",
       "1               Bišon   Belianska     6      \n",
       "2  Yorkshirský teriér   Belianska     6      \n",
       "3      Nemecký ovčiak   Belianska     7      \n",
       "4            Kríženec   Belianska    11      \n",
       "5           Rotvajler   Belianska    12      \n",
       "6    Trpasličí pudlík   Belianska    14      \n",
       "7                Bígl    Bociania     9      \n",
       "8            Kríženec  Borovicová     4      \n",
       "9      Nemecký ovčiak  Borovicová     6      "
      ]
     },
     "execution_count": 82,
     "metadata": {},
     "output_type": "execute_result"
    }
   ],
   "source": [
    "psi = df[['Plemeno', 'Ulica_(chovu_psa)', 'Orient._č.']].rename(columns={'Ulica_(chovu_psa)' : 'Ulica', 'Orient._č.' : 'Cislo'})\n",
    "psi.head(10)"
   ]
  },
  {
   "cell_type": "code",
   "execution_count": 138,
   "id": "fac962c3-9766-4378-ac54-5ca84499b768",
   "metadata": {
    "tags": []
   },
   "outputs": [
    {
     "data": {
      "text/plain": [
       "Ulica\n",
       "                      1\n",
       "17. novembra         32\n",
       "19. januára           2\n",
       "Agátová               1\n",
       "Alexandra Matušku     9\n",
       "                     ..\n",
       "Jána Pavla II.        1\n",
       "Jánošíkova           32\n",
       "K Okruhliaku          4\n",
       "K Starej tehelni      2\n",
       "K Surdoku            26\n",
       "Name: Plemeno, Length: 100, dtype: int64"
      ]
     },
     "execution_count": 138,
     "metadata": {},
     "output_type": "execute_result"
    }
   ],
   "source": [
    "# Kolko psov zije na nednotlivych uliciach\n",
    "psy_uliciach = psi.groupby('Ulica')['Plemeno'].size()\n",
    "psy_uliciach.head(100)"
   ]
  },
  {
   "cell_type": "code",
   "execution_count": 139,
   "id": "b4cee133-9ad2-4043-9202-f053f44d0176",
   "metadata": {
    "tags": []
   },
   "outputs": [
    {
     "name": "stdout",
     "output_type": "stream",
     "text": [
      "Na ulici Belianska je  6 psov\n"
     ]
    },
    {
     "data": {
      "text/plain": [
       "6"
      ]
     },
     "execution_count": 139,
     "metadata": {},
     "output_type": "execute_result"
    }
   ],
   "source": [
    "# Kolko psov zije na ulici Belianska\n",
    "psy_belianska = len([i for i in psi ['Ulica'] if i == 'Belianska'])\n",
    "print('Na ulici Belianska je ', psy_belianska, 'psov')\n",
    "# alebo\n",
    "psy_uliciach['Belianska']"
   ]
  },
  {
   "cell_type": "code",
   "execution_count": 141,
   "id": "58e3b836-fca0-41ba-b721-e68c6998eec8",
   "metadata": {
    "tags": []
   },
   "outputs": [
    {
     "name": "stdout",
     "output_type": "stream",
     "text": [
      "Ulica\n",
      "Prostějovská     115\n",
      "Švábska           62\n",
      "Mirka Nešpora     56\n",
      "Ďumbierska        44\n",
      "Sabinovská        43\n",
      "Name: Plemeno, dtype: int64\n"
     ]
    },
    {
     "data": {
      "text/plain": [
       "Ulica\n",
       "Prostějovská       115\n",
       "Švábska             62\n",
       "Mirka Nešpora       56\n",
       "Ďumbierska          44\n",
       "Sabinovská          43\n",
       "Sibírska            41\n",
       "Antona Prídavka     40\n",
       "Volgogradská        40\n",
       "Levočská            39\n",
       "Mukačevská          37\n",
       "Name: Plemeno, dtype: int64"
      ]
     },
     "execution_count": 141,
     "metadata": {},
     "output_type": "execute_result"
    }
   ],
   "source": [
    "# Na ktorych uliciach zije najviac psov\n",
    "najviac_psov = psi.groupby('Ulica').count().sort_values('Plemeno', ascending = False)['Plemeno']\n",
    "print (najviac_psov.head(5))\n",
    "# alebo\n",
    "psy_uliciach.nlargest(10)"
   ]
  },
  {
   "cell_type": "code",
   "execution_count": 142,
   "id": "53b52a6c-7b3e-4e83-b925-fc2b60a5f0aa",
   "metadata": {
    "tags": []
   },
   "outputs": [
    {
     "data": {
      "text/plain": [
       "Ulica\n",
       "Mirka Nešpora     56\n",
       "Prostějovská     115\n",
       "Sabinovská        43\n",
       "Sibírska          41\n",
       "Ďumbierska        44\n",
       "Švábska           62\n",
       "Name: Plemeno, dtype: int64"
      ]
     },
     "execution_count": 142,
     "metadata": {},
     "output_type": "execute_result"
    }
   ],
   "source": [
    "# Na ktorych uliciach zije viac psov ako 40\n",
    "psy_uliciach[psy_uliciach > 40]"
   ]
  },
  {
   "cell_type": "code",
   "execution_count": 144,
   "id": "676cc256-6570-4016-b5df-5386135a3b9f",
   "metadata": {
    "tags": []
   },
   "outputs": [
    {
     "data": {
      "text/plain": [
       "1"
      ]
     },
     "execution_count": 144,
     "metadata": {},
     "output_type": "execute_result"
    }
   ],
   "source": [
    "# Kolko psov nema uvedenu ulicu? Akych su plemien?\n",
    "psy_uliciach['']"
   ]
  },
  {
   "cell_type": "code",
   "execution_count": 146,
   "id": "e5debaf1-fbbf-40ea-ade0-7d88d36f0474",
   "metadata": {
    "tags": []
   },
   "outputs": [
    {
     "data": {
      "text/html": [
       "<div>\n",
       "<style scoped>\n",
       "    .dataframe tbody tr th:only-of-type {\n",
       "        vertical-align: middle;\n",
       "    }\n",
       "\n",
       "    .dataframe tbody tr th {\n",
       "        vertical-align: top;\n",
       "    }\n",
       "\n",
       "    .dataframe thead th {\n",
       "        text-align: right;\n",
       "    }\n",
       "</style>\n",
       "<table border=\"1\" class=\"dataframe\">\n",
       "  <thead>\n",
       "    <tr style=\"text-align: right;\">\n",
       "      <th></th>\n",
       "      <th>Plemeno</th>\n",
       "      <th>Ulica</th>\n",
       "      <th>Cislo</th>\n",
       "    </tr>\n",
       "  </thead>\n",
       "  <tbody>\n",
       "    <tr>\n",
       "      <th>3189</th>\n",
       "      <td>Nemecký ovčiak</td>\n",
       "      <td></td>\n",
       "      <td></td>\n",
       "    </tr>\n",
       "  </tbody>\n",
       "</table>\n",
       "</div>"
      ],
      "text/plain": [
       "             Plemeno Ulica Cislo\n",
       "3189  Nemecký ovčiak            "
      ]
     },
     "execution_count": 146,
     "metadata": {},
     "output_type": "execute_result"
    }
   ],
   "source": [
    "psi[psi['Ulica'] == '']"
   ]
  },
  {
   "cell_type": "code",
   "execution_count": 163,
   "id": "fae4c526-a0d2-44c4-9826-4226d03fe8e1",
   "metadata": {
    "tags": []
   },
   "outputs": [
    {
     "data": {
      "text/plain": [
       "216"
      ]
     },
     "execution_count": 163,
     "metadata": {},
     "output_type": "execute_result"
    }
   ],
   "source": [
    "# Kolko roznych plemien zije v Presove?\n",
    "roznych_plemien = psi.groupby('Plemeno').count()['Cislo']\n",
    "len(roznych_plemien)"
   ]
  },
  {
   "cell_type": "code",
   "execution_count": 168,
   "id": "0183473a-0a5c-4a75-9b7a-b58dd12d75be",
   "metadata": {
    "tags": []
   },
   "outputs": [
    {
     "data": {
      "text/plain": [
       "Plemeno\n",
       "Kríženec                 747\n",
       "Yorkshirský teriér       244\n",
       "Nemecký ovčiak           220\n",
       "Maltézky psík            171\n",
       "Labradorský retriever    142\n",
       "Čivava                   101\n",
       "Jack Russell Teriér       82\n",
       "Zlatý retriever           76\n",
       "Jazvečík                  74\n",
       "Pudel                     56\n",
       "Name: Cislo, dtype: int64"
      ]
     },
     "execution_count": 168,
     "metadata": {},
     "output_type": "execute_result"
    }
   ],
   "source": [
    "# Ktore plemena patria medzi 10 najoblubenejsich?\n",
    "roznych_plemien.nlargest(10)"
   ]
  },
  {
   "cell_type": "code",
   "execution_count": 176,
   "id": "4d24c9c3-93a8-4488-bcea-733ec4019dba",
   "metadata": {
    "tags": []
   },
   "outputs": [
    {
     "data": {
      "text/plain": [
       "Plemeno\n",
       "Afganský chrt         1\n",
       "Americký bandog       1\n",
       "Anglický chrt         1\n",
       "Anglický farbiar      1\n",
       "Anglický seter        1\n",
       "                     ..\n",
       "čínsky naháč          1\n",
       "Šetlandský ovčiak     1\n",
       "Šiba inu              1\n",
       "Švajčiarsky ovčiak    1\n",
       "Švajčiarský durič     1\n",
       "Name: Cislo, Length: 64, dtype: int64"
      ]
     },
     "execution_count": 176,
     "metadata": {},
     "output_type": "execute_result"
    }
   ],
   "source": [
    "# Ktore plemena su ojedinele?\n",
    "roznych_plemien[roznych_plemien == 1]"
   ]
  }
 ],
 "metadata": {
  "kernelspec": {
   "display_name": "Python 3 (ipykernel)",
   "language": "python",
   "name": "python3"
  },
  "language_info": {
   "codemirror_mode": {
    "name": "ipython",
    "version": 3
   },
   "file_extension": ".py",
   "mimetype": "text/x-python",
   "name": "python",
   "nbconvert_exporter": "python",
   "pygments_lexer": "ipython3",
   "version": "3.10.8"
  }
 },
 "nbformat": 4,
 "nbformat_minor": 5
}

{
 "cells": [
  {
   "cell_type": "markdown",
   "id": "32979601-228f-4e3c-888f-2da6c55dc541",
   "metadata": {},
   "source": [
    "# Generatory"
   ]
  },
  {
   "cell_type": "code",
   "execution_count": 1,
   "id": "43080d19-22c2-45fc-b5ed-47b1130b00e2",
   "metadata": {
    "tags": []
   },
   "outputs": [
    {
     "data": {
      "text/plain": [
       "[1, 2, 3, 4, 5, 6, 7, 8, 9, 10]"
      ]
     },
     "execution_count": 1,
     "metadata": {},
     "output_type": "execute_result"
    }
   ],
   "source": [
    "[i for i in range(1,11)]"
   ]
  },
  {
   "cell_type": "code",
   "execution_count": 2,
   "id": "c2b133bd-5732-4366-b8a5-38f3cadc4c26",
   "metadata": {
    "tags": []
   },
   "outputs": [
    {
     "data": {
      "text/plain": [
       "[1, 2, 4, 5, 7, 8, 10]"
      ]
     },
     "execution_count": 2,
     "metadata": {},
     "output_type": "execute_result"
    }
   ],
   "source": [
    "# filtrovanie\n",
    "[i for i in range(1,11) if i % 3 != 0]"
   ]
  },
  {
   "cell_type": "markdown",
   "id": "17a3341a-6937-46e6-9ef5-6d248a6bbed5",
   "metadata": {
    "tags": []
   },
   "source": [
    "### Multiples of 3 or 5\n",
    "<p>If we list all the natural numbers below $10$ that are multiples of $3$ or $5$, we get $3, 5, 6$ and $9$. The sum of these multiples is $23$.</p>\n",
    "<p>Find the sum of all the multiples of $3$ or $5$ below $1000$.</p>"
   ]
  },
  {
   "cell_type": "code",
   "execution_count": 8,
   "id": "ebfa82ba-2d19-4234-961f-4f7402c24e60",
   "metadata": {
    "tags": []
   },
   "outputs": [
    {
     "data": {
      "text/plain": [
       "[3, 5, 6, 9]"
      ]
     },
     "execution_count": 8,
     "metadata": {},
     "output_type": "execute_result"
    }
   ],
   "source": [
    "[i for i in range (1, 10) if i % 3 == 0 or i % 5 == 0]"
   ]
  },
  {
   "cell_type": "code",
   "execution_count": 9,
   "id": "1eff42ba-f7fa-4a87-854d-862f2dd23585",
   "metadata": {
    "tags": []
   },
   "outputs": [
    {
     "data": {
      "text/plain": [
       "23"
      ]
     },
     "execution_count": 9,
     "metadata": {},
     "output_type": "execute_result"
    }
   ],
   "source": [
    "sum([i for i in range (1, 10) if i % 3 == 0 or i % 5 == 0])"
   ]
  },
  {
   "cell_type": "code",
   "execution_count": 10,
   "id": "d1af6738-d4bd-4564-8b84-0d3feab7824f",
   "metadata": {
    "tags": []
   },
   "outputs": [
    {
     "data": {
      "text/plain": [
       "233168"
      ]
     },
     "execution_count": 10,
     "metadata": {},
     "output_type": "execute_result"
    }
   ],
   "source": [
    "sum([i for i in range (1, 1000) if i % 3 == 0 or i % 5 == 0])"
   ]
  },
  {
   "cell_type": "markdown",
   "id": "89a94668-a943-4948-b8b8-d79780bfa832",
   "metadata": {},
   "source": [
    "### Sum Square Difference\n",
    "<p>The sum of the squares of the first ten natural numbers is,</p>\n",
    "$$1^2 + 2^2 + ... + 10^2 = 385.$$\n",
    "<p>The square of the sum of the first ten natural numbers is,</p>\n",
    "$$(1 + 2 + ... + 10)^2 = 55^2 = 3025.$$\n",
    "<p>Hence the difference between the sum of the squares of the first ten natural numbers and the square of the sum is $3025 - 385 = 2640$.</p>\n",
    "<p>Find the difference between the sum of the squares of the first one hundred natural numbers and the square of the sum.</p>"
   ]
  },
  {
   "cell_type": "code",
   "execution_count": 23,
   "id": "4d9b39cc-6d0a-4ee8-9311-07679be715de",
   "metadata": {},
   "outputs": [
    {
     "data": {
      "text/plain": [
       "25164150"
      ]
     },
     "execution_count": 23,
     "metadata": {},
     "output_type": "execute_result"
    }
   ],
   "source": [
    "sum([i for i in range(1,101)])**2 - sum([i ** 2 for i in range(1, 101)])"
   ]
  },
  {
   "cell_type": "markdown",
   "id": "fe6c2613-0279-4dcb-9cf7-6966d4526279",
   "metadata": {
    "tags": []
   },
   "source": [
    "### Power Digit Sum\n",
    "<p>$2^{15} = 32768$ and the sum of its digits is $3 + 2 + 7 + 6 + 8 = 26$.</p>\n",
    "<p>What is the sum of the digits of the number $2^{1000}$?</p>"
   ]
  },
  {
   "cell_type": "code",
   "execution_count": 43,
   "id": "c132dde1-651e-4d18-8ac3-00e19d64791d",
   "metadata": {
    "tags": []
   },
   "outputs": [
    {
     "data": {
      "text/plain": [
       "1366"
      ]
     },
     "execution_count": 43,
     "metadata": {},
     "output_type": "execute_result"
    }
   ],
   "source": [
    "x = 2**1000\n",
    "str(x)\n",
    "sum([int(i) for i in str(x)])"
   ]
  },
  {
   "cell_type": "markdown",
   "id": "da612059-9e88-4b91-b8c2-29104d927bdf",
   "metadata": {},
   "source": [
    "### Special Pythagorean Triplet\n",
    "<p>A Pythagorean triplet is a set of three natural numbers, $a \\lt b \\lt c$, for which,\n",
    "$$a^2 + b^2 = c^2.$$</p>\n",
    "<p>For example, $3^2 + 4^2 = 9 + 16 = 25 = 5^2$.</p>\n",
    "<p>There exists exactly one Pythagorean triplet for which $a + b + c = 1000$.<br>Find the product $abc$.</p>\n"
   ]
  },
  {
   "cell_type": "code",
   "execution_count": 58,
   "id": "7b2e508a-a24c-4870-ad17-749443ade7f9",
   "metadata": {
    "tags": []
   },
   "outputs": [
    {
     "data": {
      "text/plain": [
       "[(200, 375, 425)]"
      ]
     },
     "execution_count": 58,
     "metadata": {},
     "output_type": "execute_result"
    }
   ],
   "source": [
    "[(a,b, 1000-a-b) for a in range(1, 1000) for b in range(a+1, 1000) if a**2 + b**2 == (1000-a-b)**2]"
   ]
  },
  {
   "cell_type": "code",
   "execution_count": 59,
   "id": "b69a20c3-45fa-474e-85e5-c4ef8365530a",
   "metadata": {},
   "outputs": [
    {
     "data": {
      "text/plain": [
       "31875000"
      ]
     },
     "execution_count": 59,
     "metadata": {},
     "output_type": "execute_result"
    }
   ],
   "source": [
    "200*375*425"
   ]
  },
  {
   "cell_type": "code",
   "execution_count": null,
   "id": "79fa1300-e6e6-4ac5-9c20-726e277c331c",
   "metadata": {},
   "outputs": [],
   "source": []
  }
 ],
 "metadata": {
  "kernelspec": {
   "display_name": "Python 3 (ipykernel)",
   "language": "python",
   "name": "python3"
  },
  "language_info": {
   "codemirror_mode": {
    "name": "ipython",
    "version": 3
   },
   "file_extension": ".py",
   "mimetype": "text/x-python",
   "name": "python",
   "nbconvert_exporter": "python",
   "pygments_lexer": "ipython3",
   "version": "3.10.8"
  }
 },
 "nbformat": 4,
 "nbformat_minor": 5
}

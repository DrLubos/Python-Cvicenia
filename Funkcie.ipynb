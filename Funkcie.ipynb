{
 "cells": [
  {
   "cell_type": "markdown",
   "id": "96734dba-3b76-4acc-9697-bcb349512950",
   "metadata": {
    "tags": []
   },
   "source": [
    "# Funkcie\n",
    "\n",
    "* vstavane\n",
    "\n",
    "* moduly\n",
    "\n",
    "* definovane\n",
    "\n",
    "* lambda"
   ]
  },
  {
   "cell_type": "code",
   "execution_count": 1,
   "id": "189e60ac-89ce-4194-8911-215b8660bb5f",
   "metadata": {
    "tags": []
   },
   "outputs": [],
   "source": [
    "# import funkcie\n",
    "from math import sqrt"
   ]
  },
  {
   "cell_type": "code",
   "execution_count": 2,
   "id": "85a5247f-0163-409c-b400-f36382ab8311",
   "metadata": {
    "tags": []
   },
   "outputs": [
    {
     "data": {
      "text/plain": [
       "1.4142135623730951"
      ]
     },
     "execution_count": 2,
     "metadata": {},
     "output_type": "execute_result"
    }
   ],
   "source": [
    "sqrt(2)"
   ]
  },
  {
   "cell_type": "code",
   "execution_count": 3,
   "id": "cf4bca32-2678-4e4d-a81b-65abf003314f",
   "metadata": {
    "tags": []
   },
   "outputs": [],
   "source": [
    "# import modulu\n",
    "import math"
   ]
  },
  {
   "cell_type": "code",
   "execution_count": 4,
   "id": "c7fb4e36-5567-4417-bc8d-a5015d22dd7f",
   "metadata": {
    "tags": []
   },
   "outputs": [
    {
     "data": {
      "text/plain": [
       "0.8414709848078965"
      ]
     },
     "execution_count": 4,
     "metadata": {},
     "output_type": "execute_result"
    }
   ],
   "source": [
    "math.sin(1)"
   ]
  },
  {
   "cell_type": "code",
   "execution_count": 6,
   "id": "596dae11-f5be-4e0d-9064-2d03ed73a0df",
   "metadata": {
    "tags": []
   },
   "outputs": [],
   "source": [
    "# definovanie funkcie\n",
    "def odm(x):\n",
    "    o = x ** 0.5\n",
    "    return o"
   ]
  },
  {
   "cell_type": "code",
   "execution_count": 7,
   "id": "ac6e3ef3-1da2-4960-aaca-e19c4c7b1afb",
   "metadata": {
    "tags": []
   },
   "outputs": [
    {
     "data": {
      "text/plain": [
       "1.4142135623730951"
      ]
     },
     "execution_count": 7,
     "metadata": {},
     "output_type": "execute_result"
    }
   ],
   "source": [
    "odm(2)"
   ]
  },
  {
   "cell_type": "code",
   "execution_count": 32,
   "id": "9600a3a8-f5b7-4e02-8d6e-ed6731d1a0a4",
   "metadata": {
    "tags": []
   },
   "outputs": [],
   "source": [
    "# n faktorial\n",
    "def faktorial(n):\n",
    "    if n < 0:\n",
    "        return None\n",
    "    sucet = 1\n",
    "    for i in range(1, n+1):\n",
    "        sucet *= i\n",
    "    return sucet\n",
    "\n",
    "# rekurzivny faktorial\n",
    "def rekurzivnyFaktorial(n):\n",
    "    if n < 0:\n",
    "        return None\n",
    "    if (n != 0):\n",
    "        return n * rekurzivnyFaktorial(n-1)\n",
    "    else:\n",
    "        return 1"
   ]
  },
  {
   "cell_type": "code",
   "execution_count": 36,
   "id": "034d13c5-64bb-4d20-bc90-33f44645690a",
   "metadata": {
    "tags": []
   },
   "outputs": [
    {
     "data": {
      "text/plain": [
       "120"
      ]
     },
     "execution_count": 36,
     "metadata": {},
     "output_type": "execute_result"
    }
   ],
   "source": [
    "rekurzivnyFaktorial(5)"
   ]
  },
  {
   "cell_type": "code",
   "execution_count": 39,
   "id": "c98cec06-f45d-416a-9630-d95152bcacc7",
   "metadata": {
    "tags": []
   },
   "outputs": [],
   "source": [
    "# lambda funkcia\n",
    "scitaj = lambda i,j:i+j"
   ]
  },
  {
   "cell_type": "code",
   "execution_count": 40,
   "id": "7f939dd1-c5dc-4e17-8959-d29d570b7e7d",
   "metadata": {
    "tags": []
   },
   "outputs": [
    {
     "data": {
      "text/plain": [
       "'abc'"
      ]
     },
     "execution_count": 40,
     "metadata": {},
     "output_type": "execute_result"
    }
   ],
   "source": [
    "scitaj('a','bc')"
   ]
  },
  {
   "cell_type": "code",
   "execution_count": 41,
   "id": "fd60aaa4-c9c3-4452-b5d2-5a8681368cb0",
   "metadata": {
    "tags": []
   },
   "outputs": [],
   "source": [
    "from functools import reduce"
   ]
  },
  {
   "cell_type": "code",
   "execution_count": 42,
   "id": "12aa28c1-9fc0-4241-b583-4b933d11b408",
   "metadata": {
    "tags": []
   },
   "outputs": [
    {
     "data": {
      "text/plain": [
       "\u001b[0;31mDocstring:\u001b[0m\n",
       "reduce(function, iterable[, initial]) -> value\n",
       "\n",
       "Apply a function of two arguments cumulatively to the items of a sequence\n",
       "or iterable, from left to right, so as to reduce the iterable to a single\n",
       "value.  For example, reduce(lambda x, y: x+y, [1, 2, 3, 4, 5]) calculates\n",
       "((((1+2)+3)+4)+5).  If initial is present, it is placed before the items\n",
       "of the iterable in the calculation, and serves as a default when the\n",
       "iterable is empty.\n",
       "\u001b[0;31mType:\u001b[0m      builtin_function_or_method\n"
      ]
     },
     "metadata": {},
     "output_type": "display_data"
    }
   ],
   "source": [
    "reduce?"
   ]
  },
  {
   "cell_type": "code",
   "execution_count": 43,
   "id": "ef36ab9c-48c2-4860-93cf-12f9addd7f7c",
   "metadata": {
    "tags": []
   },
   "outputs": [
    {
     "data": {
      "text/plain": [
       "15"
      ]
     },
     "execution_count": 43,
     "metadata": {},
     "output_type": "execute_result"
    }
   ],
   "source": [
    "reduce(lambda x, y: x+y, [1, 2, 3, 4, 5])"
   ]
  },
  {
   "cell_type": "code",
   "execution_count": 44,
   "id": "2cde0dfb-798d-4f8b-b8e0-ed67f82b3a61",
   "metadata": {
    "tags": []
   },
   "outputs": [
    {
     "data": {
      "text/plain": [
       "120"
      ]
     },
     "execution_count": 44,
     "metadata": {},
     "output_type": "execute_result"
    }
   ],
   "source": [
    "reduce(lambda x, y: x*y, [1, 2, 3, 4, 5])"
   ]
  },
  {
   "cell_type": "code",
   "execution_count": 66,
   "id": "aed469c3-ed6e-4b2e-a25d-45ec28abd494",
   "metadata": {
    "tags": []
   },
   "outputs": [],
   "source": [
    "def lfaktorial(n):\n",
    "    if n < 0:\n",
    "        return None\n",
    "    if n == 0:\n",
    "        return 1\n",
    "    return reduce(lambda x, y: x*y, [i for i in range(1, n+1)])"
   ]
  },
  {
   "cell_type": "code",
   "execution_count": 65,
   "id": "59837103-580c-4416-af94-4e13d695dbb8",
   "metadata": {
    "tags": []
   },
   "outputs": [
    {
     "data": {
      "text/plain": [
       "120"
      ]
     },
     "execution_count": 65,
     "metadata": {},
     "output_type": "execute_result"
    }
   ],
   "source": [
    "lfaktorial(5)"
   ]
  },
  {
   "cell_type": "markdown",
   "id": "f55e9d32-3d4c-4057-986b-d7524aeb09f3",
   "metadata": {},
   "source": [
    "### Factorial Digit Sum\n",
    "<p>$n!$ means $n \\times (n - 1) \\times \\cdots \\times 3 \\times 2 \\times 1$.</p>\n",
    "<p>For example, $10! = 10 \\times 9 \\times \\cdots \\times 3 \\times 2 \\times 1 = 3628800$,<br>and the sum of the digits in the number $10!$ is $3 + 6 + 2 + 8 + 8 + 0 + 0 = 27$.</p>\n",
    "<p>Find the sum of the digits in the number $100!$.</p>\n"
   ]
  },
  {
   "cell_type": "code",
   "execution_count": 72,
   "id": "5a98f554-57dd-4fd0-be55-7440a865ec24",
   "metadata": {},
   "outputs": [
    {
     "data": {
      "text/plain": [
       "648"
      ]
     },
     "execution_count": 72,
     "metadata": {},
     "output_type": "execute_result"
    }
   ],
   "source": [
    "sum([int(i) for i in str(lfaktorial(100))])"
   ]
  },
  {
   "cell_type": "code",
   "execution_count": 8,
   "id": "4e8e935b-a102-4093-a4f7-5a2287ddc36f",
   "metadata": {},
   "outputs": [],
   "source": [
    "# Priklad: Fibonaciho postupnost\n",
    "# 1,1,2,3,5,8,13,21,34,55,89\n",
    "def fib(n):\n",
    "    if n < 1:\n",
    "        return None\n",
    "    pocitadlo = 1\n",
    "    a, b = 1, 1\n",
    "    while pocitadlo < n:\n",
    "        a, b = b, a + b\n",
    "        pocitadlo += 1\n",
    "    return a"
   ]
  },
  {
   "cell_type": "code",
   "execution_count": 25,
   "id": "f9f6caa9-9531-4a0c-8101-21647dd07e85",
   "metadata": {
    "tags": []
   },
   "outputs": [
    {
     "name": "stdout",
     "output_type": "stream",
     "text": [
      "CPU times: user 12 µs, sys: 0 ns, total: 12 µs\n",
      "Wall time: 16.2 µs\n"
     ]
    },
    {
     "data": {
      "text/plain": [
       "102334155"
      ]
     },
     "execution_count": 25,
     "metadata": {},
     "output_type": "execute_result"
    }
   ],
   "source": [
    "%time fib(40)"
   ]
  },
  {
   "cell_type": "code",
   "execution_count": 17,
   "id": "63382608-c77a-499c-8106-5a3ec1785d68",
   "metadata": {},
   "outputs": [],
   "source": [
    "# Fibonaci rekurzivne\n",
    "def fibR(n):\n",
    "    if n < 1:\n",
    "        return None\n",
    "    if n == 1 or n == 2:\n",
    "        return 1\n",
    "    else:\n",
    "        return fibR(n - 1) + fibR(n - 2)"
   ]
  },
  {
   "cell_type": "code",
   "execution_count": 30,
   "id": "b7d7ac8c-4867-440b-a784-9f0dd98a7f70",
   "metadata": {
    "tags": []
   },
   "outputs": [
    {
     "name": "stdout",
     "output_type": "stream",
     "text": [
      "CPU times: user 36.5 s, sys: 0 ns, total: 36.5 s\n",
      "Wall time: 36.5 s\n"
     ]
    },
    {
     "data": {
      "text/plain": [
       "102334155"
      ]
     },
     "execution_count": 30,
     "metadata": {},
     "output_type": "execute_result"
    }
   ],
   "source": [
    "%time fibR(40)"
   ]
  },
  {
   "cell_type": "code",
   "execution_count": 33,
   "id": "5d811bd2-a1b3-4b84-b9f8-745440c7a382",
   "metadata": {
    "tags": []
   },
   "outputs": [],
   "source": [
    "F = {1:1, 2:1}\n",
    "def mfib(n):\n",
    "    if n < 1:\n",
    "        return None\n",
    "    if n not in F:\n",
    "        F[n] = mfib(n - 1) + mfib(n - 2)\n",
    "    return F[n]"
   ]
  },
  {
   "cell_type": "code",
   "execution_count": 34,
   "id": "4524672a-89a7-4322-a8fd-dccdc6866eca",
   "metadata": {
    "tags": []
   },
   "outputs": [
    {
     "data": {
      "text/plain": [
       "(None, None, 1, 55)"
      ]
     },
     "execution_count": 34,
     "metadata": {},
     "output_type": "execute_result"
    }
   ],
   "source": [
    "mfib(-5), mfib(0), mfib(1), mfib(10)"
   ]
  },
  {
   "cell_type": "code",
   "execution_count": 35,
   "id": "248c3c8f-9d34-4f95-8542-709175524d45",
   "metadata": {
    "tags": []
   },
   "outputs": [
    {
     "data": {
      "text/plain": [
       "{1: 1, 2: 1, 3: 2, 4: 3, 5: 5, 6: 8, 7: 13, 8: 21, 9: 34, 10: 55}"
      ]
     },
     "execution_count": 35,
     "metadata": {},
     "output_type": "execute_result"
    }
   ],
   "source": [
    "F"
   ]
  },
  {
   "cell_type": "markdown",
   "id": "b7952d1d-5bfe-45e1-a2d5-446116277697",
   "metadata": {},
   "source": [
    "### Even Fibonacci Numbers\n",
    "<p>Each new term in the Fibonacci sequence is generated by adding the previous two terms. By starting with $1$ and $2$, the first $10$ terms will be:\n",
    "$$1, 2, 3, 5, 8, 13, 21, 34, 55, 89, \\dots$$</p>\n",
    "<p>By considering the terms in the Fibonacci sequence whose values do not exceed four million, find the sum of the even-valued terms.</p>\n"
   ]
  },
  {
   "cell_type": "code",
   "execution_count": 50,
   "id": "3a943f35-54c1-4930-8ffd-3593d83a6f32",
   "metadata": {
    "tags": []
   },
   "outputs": [],
   "source": [
    "# zoznam fibonaciho cisel mensich ako n\n",
    "def zoznamFib(n):\n",
    "    if n <= 1:\n",
    "        return None\n",
    "    postupnost = [1, 1]\n",
    "    while postupnost[-1] + postupnost[-2] < n: \n",
    "        postupnost.append(postupnost[-1] + postupnost[-2])\n",
    "    return postupnost\n"
   ]
  },
  {
   "cell_type": "code",
   "execution_count": 49,
   "id": "4a0adcf6-ee78-4fdb-bb46-ebab4efcb677",
   "metadata": {
    "tags": []
   },
   "outputs": [
    {
     "data": {
      "text/plain": [
       "[1, 1, 2, 3, 5, 8, 13, 21, 34, 55, 89]"
      ]
     },
     "execution_count": 49,
     "metadata": {},
     "output_type": "execute_result"
    }
   ],
   "source": [
    "zoznamFib(100)"
   ]
  },
  {
   "cell_type": "code",
   "execution_count": 60,
   "id": "eb5e092b-8471-4f19-8663-18ccd48254a8",
   "metadata": {
    "tags": []
   },
   "outputs": [
    {
     "ename": "TypeError",
     "evalue": "'int' object is not callable",
     "output_type": "error",
     "traceback": [
      "\u001b[0;31m---------------------------------------------------------------------------\u001b[0m",
      "\u001b[0;31mTypeError\u001b[0m                                 Traceback (most recent call last)",
      "Cell \u001b[0;32mIn[60], line 1\u001b[0m\n\u001b[0;32m----> 1\u001b[0m \u001b[38;5;28;43msum\u001b[39;49m\u001b[43m(\u001b[49m\u001b[43m[\u001b[49m\u001b[43mi\u001b[49m\u001b[43m \u001b[49m\u001b[38;5;28;43;01mfor\u001b[39;49;00m\u001b[43m \u001b[49m\u001b[43mi\u001b[49m\u001b[43m \u001b[49m\u001b[38;5;129;43;01min\u001b[39;49;00m\u001b[43m \u001b[49m\u001b[43mzoznamFib\u001b[49m\u001b[43m(\u001b[49m\u001b[38;5;241;43m4000000\u001b[39;49m\u001b[43m)\u001b[49m\u001b[43m \u001b[49m\u001b[38;5;28;43;01mif\u001b[39;49;00m\u001b[43m \u001b[49m\u001b[43mi\u001b[49m\u001b[43m \u001b[49m\u001b[38;5;241;43m%\u001b[39;49m\u001b[43m \u001b[49m\u001b[38;5;241;43m2\u001b[39;49m\u001b[43m \u001b[49m\u001b[38;5;241;43m==\u001b[39;49m\u001b[43m \u001b[49m\u001b[38;5;241;43m0\u001b[39;49m\u001b[43m]\u001b[49m\u001b[43m)\u001b[49m\n",
      "\u001b[0;31mTypeError\u001b[0m: 'int' object is not callable"
     ]
    }
   ],
   "source": [
    "sum([i for i in zoznamFib(4000000) if i % 2 == 0])"
   ]
  },
  {
   "cell_type": "markdown",
   "id": "0aca03c1-c417-4b0f-82da-c5bad80821de",
   "metadata": {},
   "source": [
    "### 1000-digit Fibonacci Number\n",
    "<p>The Fibonacci sequence is defined by the recurrence relation:</p>\n",
    "<blockquote>$F_n = F_{n - 1} + F_{n - 2}$, where $F_1 = 1$ and $F_2 = 1$.</blockquote>\n",
    "<p>Hence the first $12$ terms will be:</p>\n",
    "\\begin{align}\n",
    "F_1 &amp;= 1\\\\\n",
    "F_2 &amp;= 1\\\\\n",
    "F_3 &amp;= 2\\\\\n",
    "F_4 &amp;= 3\\\\\n",
    "F_5 &amp;= 5\\\\\n",
    "F_6 &amp;= 8\\\\\n",
    "F_7 &amp;= 13\\\\\n",
    "F_8 &amp;= 21\\\\\n",
    "F_9 &amp;= 34\\\\\n",
    "F_{10} &amp;= 55\\\\\n",
    "F_{11} &amp;= 89\\\\\n",
    "F_{12} &amp;= 144\n",
    "\\end{align}\n",
    "<p>The $12$th term, $F_{12}$, is the first term to contain three digits.</p>\n",
    "<p>What is the index of the first term in the Fibonacci sequence to contain $1000$ digits?</p>\n"
   ]
  },
  {
   "cell_type": "code",
   "execution_count": 80,
   "id": "25fa88ed-a0b7-4dd1-bacc-5b45542bdee9",
   "metadata": {
    "tags": []
   },
   "outputs": [],
   "source": [
    "def fibTroj():\n",
    "    postupnost = [1, 1]\n",
    "    while len(str(postupnost[-1] + postupnost[-2])) <= 999: \n",
    "        postupnost.append(postupnost[-1] + postupnost[-2])\n",
    "    postupnost.append(postupnost[-1] + postupnost[-2])\n",
    "    return len(postupnost)"
   ]
  },
  {
   "cell_type": "code",
   "execution_count": 81,
   "id": "c26fbcc3-03fc-469c-9ebd-efd3eccf0905",
   "metadata": {
    "tags": []
   },
   "outputs": [
    {
     "name": "stdout",
     "output_type": "stream",
     "text": [
      "4782\n"
     ]
    }
   ],
   "source": [
    "print(fibTroj())"
   ]
  },
  {
   "cell_type": "code",
   "execution_count": null,
   "id": "ba5078a1-923b-41d8-bf11-235bd4bb783c",
   "metadata": {},
   "outputs": [],
   "source": []
  }
 ],
 "metadata": {
  "kernelspec": {
   "display_name": "Python 3 (ipykernel)",
   "language": "python",
   "name": "python3"
  },
  "language_info": {
   "codemirror_mode": {
    "name": "ipython",
    "version": 3
   },
   "file_extension": ".py",
   "mimetype": "text/x-python",
   "name": "python",
   "nbconvert_exporter": "python",
   "pygments_lexer": "ipython3",
   "version": "3.10.8"
  }
 },
 "nbformat": 4,
 "nbformat_minor": 5
}
